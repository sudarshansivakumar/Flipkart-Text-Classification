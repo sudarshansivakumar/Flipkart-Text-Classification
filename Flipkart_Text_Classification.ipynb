{
  "nbformat": 4,
  "nbformat_minor": 0,
  "metadata": {
    "colab": {
      "name": "Flipkart Text Classification.ipynb",
      "provenance": [],
      "collapsed_sections": [
        "pjQdF9_Mp5cv",
        "prtwOYvbTAEn",
        "DYm738P69yHV",
        "8Fk-U7gvrmsr",
        "RNfDdfUarmmF",
        "VBYprg3s1703"
      ],
      "toc_visible": true,
      "mount_file_id": "1dhlXMkhbP3sLmRYk_20ZLdogpzMsPsrp",
      "authorship_tag": "ABX9TyMBJ30ZgXgUgk8Ma86a4Jr6",
      "include_colab_link": true
    },
    "kernelspec": {
      "display_name": "Python 3",
      "name": "python3"
    },
    "language_info": {
      "name": "python"
    },
    "accelerator": "GPU"
  },
  "cells": [
    {
      "cell_type": "markdown",
      "metadata": {
        "id": "view-in-github",
        "colab_type": "text"
      },
      "source": [
        "<a href=\"https://colab.research.google.com/github/sudarshansivakumar/MIDAS-IIITD-Flipkart/blob/main/Flipkart_Text_Classification.ipynb\" target=\"_parent\"><img src=\"https://colab.research.google.com/assets/colab-badge.svg\" alt=\"Open In Colab\"/></a>"
      ]
    },
    {
      "cell_type": "markdown",
      "metadata": {
        "id": "mkOIm4IjO5jL"
      },
      "source": [
        "#### **Importing the necessary libraries**"
      ]
    },
    {
      "cell_type": "code",
      "metadata": {
        "id": "AMzO1ZOToK95"
      },
      "source": [
        "import pandas as pd\n",
        "import numpy as np\n",
        "import matplotlib.pyplot as plt\n",
        "import torch \n",
        "import re\n",
        "import nltk\n",
        "import spacy\n",
        "import string\n",
        "from torch.utils.data import dataloader\n",
        "from sklearn.model_selection import train_test_split\n",
        "from torch.utils.data import DataLoader\n",
        "from torchtext.legacy import data\n",
        "import torch.nn as nn\n",
        "import torch.nn.functional as F\n",
        "\n"
      ],
      "execution_count": 1,
      "outputs": []
    },
    {
      "cell_type": "markdown",
      "metadata": {
        "id": "pjQdF9_Mp5cv"
      },
      "source": [
        "#### **Importing the dataset using the path where it is stored**\n",
        "To replicate result, write *dataset_path = '**Local path of dataset**'*"
      ]
    },
    {
      "cell_type": "code",
      "metadata": {
        "id": "vw54tWVdpblU"
      },
      "source": [
        "dataset_path = \"/content/drive/MyDrive/Colab Datasets/Flipkart eCommerce/Copy of flipkart_com-ecommerce_sample.csv\"\n",
        "flipkart_dataset = pd.read_csv(dataset_path)"
      ],
      "execution_count": null,
      "outputs": []
    },
    {
      "cell_type": "markdown",
      "metadata": {
        "id": "prtwOYvbTAEn"
      },
      "source": [
        "#### **Looking at the data**"
      ]
    },
    {
      "cell_type": "code",
      "metadata": {
        "colab": {
          "base_uri": "https://localhost:8080/",
          "height": 195
        },
        "id": "4DcJ99ReqIxD",
        "outputId": "d0acb8eb-4ee4-4a78-effa-38e85f634fcb"
      },
      "source": [
        "# First we increase the default column width in pandas in order to make sure that the prouct category tree column is printed completely \n",
        "\n",
        "pd.options.display.max_colwidth = 300\n",
        "\n",
        "#We now print the product category tree and the product description for the first 10 rows of data\n",
        "flipkart_dataset.head()"
      ],
      "execution_count": null,
      "outputs": [
        {
          "output_type": "error",
          "ename": "NameError",
          "evalue": "ignored",
          "traceback": [
            "\u001b[0;31m---------------------------------------------------------------------------\u001b[0m",
            "\u001b[0;31mNameError\u001b[0m                                 Traceback (most recent call last)",
            "\u001b[0;32m<ipython-input-2-dc1323123327>\u001b[0m in \u001b[0;36m<module>\u001b[0;34m()\u001b[0m\n\u001b[1;32m      4\u001b[0m \u001b[0;34m\u001b[0m\u001b[0m\n\u001b[1;32m      5\u001b[0m \u001b[0;31m#We now print the product category tree and the product description for the first 10 rows of data\u001b[0m\u001b[0;34m\u001b[0m\u001b[0;34m\u001b[0m\u001b[0;34m\u001b[0m\u001b[0m\n\u001b[0;32m----> 6\u001b[0;31m \u001b[0mflipkart_dataset\u001b[0m\u001b[0;34m.\u001b[0m\u001b[0mhead\u001b[0m\u001b[0;34m(\u001b[0m\u001b[0;34m)\u001b[0m\u001b[0;34m\u001b[0m\u001b[0;34m\u001b[0m\u001b[0m\n\u001b[0m",
            "\u001b[0;31mNameError\u001b[0m: name 'flipkart_dataset' is not defined"
          ]
        }
      ]
    },
    {
      "cell_type": "code",
      "metadata": {
        "colab": {
          "base_uri": "https://localhost:8080/"
        },
        "id": "AJ43oiRhb9uQ",
        "outputId": "3b5b9ec7-f729-4d83-adc1-2a353b531701"
      },
      "source": [
        "print(f\"Number of columns : {len(flipkart_dataset.columns)}\")\n",
        "print(flipkart_dataset.columns)\n"
      ],
      "execution_count": null,
      "outputs": [
        {
          "output_type": "stream",
          "text": [
            "Number of columns : 15\n",
            "Index(['uniq_id', 'crawl_timestamp', 'product_url', 'product_name',\n",
            "       'product_category_tree', 'pid', 'retail_price', 'discounted_price',\n",
            "       'image', 'is_FK_Advantage_product', 'description', 'product_rating',\n",
            "       'overall_rating', 'brand', 'product_specifications'],\n",
            "      dtype='object')\n"
          ],
          "name": "stdout"
        }
      ]
    },
    {
      "cell_type": "markdown",
      "metadata": {
        "id": "DYm738P69yHV"
      },
      "source": [
        "### **Preprocessing Data**"
      ]
    },
    {
      "cell_type": "markdown",
      "metadata": {
        "id": "8Fk-U7gvrmsr"
      },
      "source": [
        "#### Dropping columns that are irrelevent to the final answer \n",
        "* The unique id's are alloted randomly for all products so we don't need to consider them \n",
        "* The crawl time stamp similarly does not indicate the category of the product it only talks about when the data was scraped \n",
        "* product_url contains the product name and ID, which could be useful for predicting category but it is redundant to keep this information twice \n",
        "* retail_price does not indicate the product category well. While certain categories might be costlier than others, the prices are still too randomly scattered to be considered important for category prediction \n",
        "* discounted_price again isn't useful for the same reasons as retail_price\n",
        "* The image is a url which can't be used for category prediction ( It is possible to download the image and predict the category as an image classification task, but that isn't the purpose of this task)\n",
        "* is_FK_advantage, product_rating, and overall_rating again don't seem to be useful indicators \n"
      ]
    },
    {
      "cell_type": "markdown",
      "metadata": {
        "id": "n2aQ-sAvhhpf"
      },
      "source": [
        "Columns to drop : <br/>\n",
        "uniq_id, crawl_timestamp, product_url, retail_price, discounted_price, image, is_FK_advantage_prodct,product_rating, overall_rating, product_specifications"
      ]
    },
    {
      "cell_type": "code",
      "metadata": {
        "id": "LQRhG6iwSMFL"
      },
      "source": [
        "dropping_columns = ['uniq_id','crawl_timestamp','product_url','retail_price','discounted_price','image','is_FK_Advantage_product','product_rating','overall_rating','product_specifications']\n",
        "flipkart_dataset = flipkart_dataset.drop(columns = dropping_columns)"
      ],
      "execution_count": null,
      "outputs": []
    },
    {
      "cell_type": "code",
      "metadata": {
        "colab": {
          "base_uri": "https://localhost:8080/",
          "height": 397
        },
        "id": "SwrtL753MpHI",
        "outputId": "f2572069-4797-4a38-d04f-f9ece2111378"
      },
      "source": [
        "flipkart_dataset.head()"
      ],
      "execution_count": null,
      "outputs": [
        {
          "output_type": "execute_result",
          "data": {
            "text/html": [
              "<div>\n",
              "<style scoped>\n",
              "    .dataframe tbody tr th:only-of-type {\n",
              "        vertical-align: middle;\n",
              "    }\n",
              "\n",
              "    .dataframe tbody tr th {\n",
              "        vertical-align: top;\n",
              "    }\n",
              "\n",
              "    .dataframe thead th {\n",
              "        text-align: right;\n",
              "    }\n",
              "</style>\n",
              "<table border=\"1\" class=\"dataframe\">\n",
              "  <thead>\n",
              "    <tr style=\"text-align: right;\">\n",
              "      <th></th>\n",
              "      <th>product_name</th>\n",
              "      <th>product_category_tree</th>\n",
              "      <th>pid</th>\n",
              "      <th>description</th>\n",
              "      <th>brand</th>\n",
              "    </tr>\n",
              "  </thead>\n",
              "  <tbody>\n",
              "    <tr>\n",
              "      <th>0</th>\n",
              "      <td>Alisha Solid Women's Cycling Shorts</td>\n",
              "      <td>[\"Clothing &gt;&gt; Women's Clothing &gt;&gt; Lingerie, Sleep &amp; Swimwear &gt;&gt; Shorts &gt;&gt; Alisha Shorts &gt;&gt; Alisha Solid Women's Cycling Shorts\"]</td>\n",
              "      <td>SRTEH2FF9KEDEFGF</td>\n",
              "      <td>Key Features of Alisha Solid Women's Cycling Shorts Cotton Lycra Navy, Red, Navy,Specifications of Alisha Solid Women's Cycling Shorts Shorts Details Number of Contents in Sales Package Pack of 3 Fabric Cotton Lycra Type Cycling Shorts General Details Pattern Solid Ideal For Women's Fabric Care ...</td>\n",
              "      <td>Alisha</td>\n",
              "    </tr>\n",
              "    <tr>\n",
              "      <th>1</th>\n",
              "      <td>FabHomeDecor Fabric Double Sofa Bed</td>\n",
              "      <td>[\"Furniture &gt;&gt; Living Room Furniture &gt;&gt; Sofa Beds &amp; Futons &gt;&gt; FabHomeDecor Fabric Double Sofa Bed (Finish Colo...\"]</td>\n",
              "      <td>SBEEH3QGU7MFYJFY</td>\n",
              "      <td>FabHomeDecor Fabric Double Sofa Bed (Finish Color - Leatherette Black Mechanism Type - Pull Out) Price: Rs. 22,646 • Fine deep seating experience • Save Space with the all new click clack Sofa Bed • Easy to fold and vice versa with simple click clack mechanism • Chrome legs with mango wood frame...</td>\n",
              "      <td>FabHomeDecor</td>\n",
              "    </tr>\n",
              "    <tr>\n",
              "      <th>2</th>\n",
              "      <td>AW Bellies</td>\n",
              "      <td>[\"Footwear &gt;&gt; Women's Footwear &gt;&gt; Ballerinas &gt;&gt; AW Bellies\"]</td>\n",
              "      <td>SHOEH4GRSUBJGZXE</td>\n",
              "      <td>Key Features of AW Bellies Sandals Wedges Heel Casuals,AW Bellies Price: Rs. 499 Material: Synthetic Lifestyle: Casual Heel Type: Wedge Warranty Type: Manufacturer Product Warranty against manufacturing defects: 30 days Care instructions: Allow your pair of shoes to air and de-odorize at regular...</td>\n",
              "      <td>AW</td>\n",
              "    </tr>\n",
              "    <tr>\n",
              "      <th>3</th>\n",
              "      <td>Alisha Solid Women's Cycling Shorts</td>\n",
              "      <td>[\"Clothing &gt;&gt; Women's Clothing &gt;&gt; Lingerie, Sleep &amp; Swimwear &gt;&gt; Shorts &gt;&gt; Alisha Shorts &gt;&gt; Alisha Solid Women's Cycling Shorts\"]</td>\n",
              "      <td>SRTEH2F6HUZMQ6SJ</td>\n",
              "      <td>Key Features of Alisha Solid Women's Cycling Shorts Cotton Lycra Black, Red,Specifications of Alisha Solid Women's Cycling Shorts Shorts Details Number of Contents in Sales Package Pack of 2 Fabric Cotton Lycra Type Cycling Shorts General Details Pattern Solid Ideal For Women's Fabric Care Gentl...</td>\n",
              "      <td>Alisha</td>\n",
              "    </tr>\n",
              "    <tr>\n",
              "      <th>4</th>\n",
              "      <td>Sicons All Purpose Arnica Dog Shampoo</td>\n",
              "      <td>[\"Pet Supplies &gt;&gt; Grooming &gt;&gt; Skin &amp; Coat Care &gt;&gt; Shampoo &gt;&gt; Sicons All Purpose Arnica Dog Shampoo (500 ml)\"]</td>\n",
              "      <td>PSOEH3ZYDMSYARJ5</td>\n",
              "      <td>Specifications of Sicons All Purpose Arnica Dog Shampoo (500 ml) General Pet Type Dog Brand Sicons Quantity 500 ml Model Number SH.DF-14 Type All Purpose Fragrance Arnica Form Factor Liquid In the Box Sales Package Shampoo Sicons Dog Fashion Arnica</td>\n",
              "      <td>Sicons</td>\n",
              "    </tr>\n",
              "  </tbody>\n",
              "</table>\n",
              "</div>"
            ],
            "text/plain": [
              "                            product_name  ...         brand\n",
              "0    Alisha Solid Women's Cycling Shorts  ...        Alisha\n",
              "1    FabHomeDecor Fabric Double Sofa Bed  ...  FabHomeDecor\n",
              "2                             AW Bellies  ...            AW\n",
              "3    Alisha Solid Women's Cycling Shorts  ...        Alisha\n",
              "4  Sicons All Purpose Arnica Dog Shampoo  ...        Sicons\n",
              "\n",
              "[5 rows x 5 columns]"
            ]
          },
          "metadata": {
            "tags": []
          },
          "execution_count": 7
        }
      ]
    },
    {
      "cell_type": "markdown",
      "metadata": {
        "id": "MCBf2I1vMtBk"
      },
      "source": [
        "The columns have been dropped as expected "
      ]
    },
    {
      "cell_type": "markdown",
      "metadata": {
        "id": "M8d3sWrhJCqz"
      },
      "source": [
        "In the product_category_tree one thing the '[\" ' at the beginning and the ' \\\"]' seem to be unncessary. A good idea then would be to drop these characters. \n",
        "We do this by slicing the column  "
      ]
    },
    {
      "cell_type": "code",
      "metadata": {
        "id": "5J0Nthj_JwYV"
      },
      "source": [
        "n = flipkart_dataset.shape[0]\n",
        "flipkart_dataset[\"product_category_tree_new\"] = flipkart_dataset[\"product_category_tree\"].str[2:-2]"
      ],
      "execution_count": null,
      "outputs": []
    },
    {
      "cell_type": "code",
      "metadata": {
        "colab": {
          "base_uri": "https://localhost:8080/",
          "height": 498
        },
        "id": "myKe1sLnKZp2",
        "outputId": "80fb9efe-efe6-4f12-cdea-a913ed4c5766"
      },
      "source": [
        "flipkart_dataset.head()"
      ],
      "execution_count": null,
      "outputs": [
        {
          "output_type": "execute_result",
          "data": {
            "text/html": [
              "<div>\n",
              "<style scoped>\n",
              "    .dataframe tbody tr th:only-of-type {\n",
              "        vertical-align: middle;\n",
              "    }\n",
              "\n",
              "    .dataframe tbody tr th {\n",
              "        vertical-align: top;\n",
              "    }\n",
              "\n",
              "    .dataframe thead th {\n",
              "        text-align: right;\n",
              "    }\n",
              "</style>\n",
              "<table border=\"1\" class=\"dataframe\">\n",
              "  <thead>\n",
              "    <tr style=\"text-align: right;\">\n",
              "      <th></th>\n",
              "      <th>product_name</th>\n",
              "      <th>product_category_tree</th>\n",
              "      <th>pid</th>\n",
              "      <th>description</th>\n",
              "      <th>brand</th>\n",
              "      <th>product_category_tree_new</th>\n",
              "    </tr>\n",
              "  </thead>\n",
              "  <tbody>\n",
              "    <tr>\n",
              "      <th>0</th>\n",
              "      <td>Alisha Solid Women's Cycling Shorts</td>\n",
              "      <td>[\"Clothing &gt;&gt; Women's Clothing &gt;&gt; Lingerie, Sleep &amp; Swimwear &gt;&gt; Shorts &gt;&gt; Alisha Shorts &gt;&gt; Alisha Solid Women's Cycling Shorts\"]</td>\n",
              "      <td>SRTEH2FF9KEDEFGF</td>\n",
              "      <td>Key Features of Alisha Solid Women's Cycling Shorts Cotton Lycra Navy, Red, Navy,Specifications of Alisha Solid Women's Cycling Shorts Shorts Details Number of Contents in Sales Package Pack of 3 Fabric Cotton Lycra Type Cycling Shorts General Details Pattern Solid Ideal For Women's Fabric Care ...</td>\n",
              "      <td>Alisha</td>\n",
              "      <td>Clothing &gt;&gt; Women's Clothing &gt;&gt; Lingerie, Sleep &amp; Swimwear &gt;&gt; Shorts &gt;&gt; Alisha Shorts &gt;&gt; Alisha Solid Women's Cycling Shorts</td>\n",
              "    </tr>\n",
              "    <tr>\n",
              "      <th>1</th>\n",
              "      <td>FabHomeDecor Fabric Double Sofa Bed</td>\n",
              "      <td>[\"Furniture &gt;&gt; Living Room Furniture &gt;&gt; Sofa Beds &amp; Futons &gt;&gt; FabHomeDecor Fabric Double Sofa Bed (Finish Colo...\"]</td>\n",
              "      <td>SBEEH3QGU7MFYJFY</td>\n",
              "      <td>FabHomeDecor Fabric Double Sofa Bed (Finish Color - Leatherette Black Mechanism Type - Pull Out) Price: Rs. 22,646 • Fine deep seating experience • Save Space with the all new click clack Sofa Bed • Easy to fold and vice versa with simple click clack mechanism • Chrome legs with mango wood frame...</td>\n",
              "      <td>FabHomeDecor</td>\n",
              "      <td>Furniture &gt;&gt; Living Room Furniture &gt;&gt; Sofa Beds &amp; Futons &gt;&gt; FabHomeDecor Fabric Double Sofa Bed (Finish Colo...</td>\n",
              "    </tr>\n",
              "    <tr>\n",
              "      <th>2</th>\n",
              "      <td>AW Bellies</td>\n",
              "      <td>[\"Footwear &gt;&gt; Women's Footwear &gt;&gt; Ballerinas &gt;&gt; AW Bellies\"]</td>\n",
              "      <td>SHOEH4GRSUBJGZXE</td>\n",
              "      <td>Key Features of AW Bellies Sandals Wedges Heel Casuals,AW Bellies Price: Rs. 499 Material: Synthetic Lifestyle: Casual Heel Type: Wedge Warranty Type: Manufacturer Product Warranty against manufacturing defects: 30 days Care instructions: Allow your pair of shoes to air and de-odorize at regular...</td>\n",
              "      <td>AW</td>\n",
              "      <td>Footwear &gt;&gt; Women's Footwear &gt;&gt; Ballerinas &gt;&gt; AW Bellies</td>\n",
              "    </tr>\n",
              "    <tr>\n",
              "      <th>3</th>\n",
              "      <td>Alisha Solid Women's Cycling Shorts</td>\n",
              "      <td>[\"Clothing &gt;&gt; Women's Clothing &gt;&gt; Lingerie, Sleep &amp; Swimwear &gt;&gt; Shorts &gt;&gt; Alisha Shorts &gt;&gt; Alisha Solid Women's Cycling Shorts\"]</td>\n",
              "      <td>SRTEH2F6HUZMQ6SJ</td>\n",
              "      <td>Key Features of Alisha Solid Women's Cycling Shorts Cotton Lycra Black, Red,Specifications of Alisha Solid Women's Cycling Shorts Shorts Details Number of Contents in Sales Package Pack of 2 Fabric Cotton Lycra Type Cycling Shorts General Details Pattern Solid Ideal For Women's Fabric Care Gentl...</td>\n",
              "      <td>Alisha</td>\n",
              "      <td>Clothing &gt;&gt; Women's Clothing &gt;&gt; Lingerie, Sleep &amp; Swimwear &gt;&gt; Shorts &gt;&gt; Alisha Shorts &gt;&gt; Alisha Solid Women's Cycling Shorts</td>\n",
              "    </tr>\n",
              "    <tr>\n",
              "      <th>4</th>\n",
              "      <td>Sicons All Purpose Arnica Dog Shampoo</td>\n",
              "      <td>[\"Pet Supplies &gt;&gt; Grooming &gt;&gt; Skin &amp; Coat Care &gt;&gt; Shampoo &gt;&gt; Sicons All Purpose Arnica Dog Shampoo (500 ml)\"]</td>\n",
              "      <td>PSOEH3ZYDMSYARJ5</td>\n",
              "      <td>Specifications of Sicons All Purpose Arnica Dog Shampoo (500 ml) General Pet Type Dog Brand Sicons Quantity 500 ml Model Number SH.DF-14 Type All Purpose Fragrance Arnica Form Factor Liquid In the Box Sales Package Shampoo Sicons Dog Fashion Arnica</td>\n",
              "      <td>Sicons</td>\n",
              "      <td>Pet Supplies &gt;&gt; Grooming &gt;&gt; Skin &amp; Coat Care &gt;&gt; Shampoo &gt;&gt; Sicons All Purpose Arnica Dog Shampoo (500 ml)</td>\n",
              "    </tr>\n",
              "  </tbody>\n",
              "</table>\n",
              "</div>"
            ],
            "text/plain": [
              "                            product_name  ...                                                                                                     product_category_tree_new\n",
              "0    Alisha Solid Women's Cycling Shorts  ...  Clothing >> Women's Clothing >> Lingerie, Sleep & Swimwear >> Shorts >> Alisha Shorts >> Alisha Solid Women's Cycling Shorts\n",
              "1    FabHomeDecor Fabric Double Sofa Bed  ...               Furniture >> Living Room Furniture >> Sofa Beds & Futons >> FabHomeDecor Fabric Double Sofa Bed (Finish Colo...\n",
              "2                             AW Bellies  ...                                                                      Footwear >> Women's Footwear >> Ballerinas >> AW Bellies\n",
              "3    Alisha Solid Women's Cycling Shorts  ...  Clothing >> Women's Clothing >> Lingerie, Sleep & Swimwear >> Shorts >> Alisha Shorts >> Alisha Solid Women's Cycling Shorts\n",
              "4  Sicons All Purpose Arnica Dog Shampoo  ...                     Pet Supplies >> Grooming >> Skin & Coat Care >> Shampoo >> Sicons All Purpose Arnica Dog Shampoo (500 ml)\n",
              "\n",
              "[5 rows x 6 columns]"
            ]
          },
          "metadata": {
            "tags": []
          },
          "execution_count": 9
        }
      ]
    },
    {
      "cell_type": "markdown",
      "metadata": {
        "id": "QUFpXja6LExa"
      },
      "source": [
        "*product_category*_tree_new seems to be the way that we want it(meaning the first two characters and the last two characters are removed )\n",
        "\n",
        "So we drop the current *product_category_tree* column and rename the product_category_tree_new column as *product_category_tree*"
      ]
    },
    {
      "cell_type": "code",
      "metadata": {
        "colab": {
          "base_uri": "https://localhost:8080/",
          "height": 430
        },
        "id": "dPMVBYXMLroH",
        "outputId": "826f76c1-ed2b-4627-9297-d19480f44c21"
      },
      "source": [
        "flipkart_dataset = flipkart_dataset.drop(columns = ['product_category_tree'])\n",
        "flipkart_dataset = flipkart_dataset.rename(columns={\"product_category_tree_new\":\"product_category_tree\"})\n",
        "flipkart_dataset.head()"
      ],
      "execution_count": null,
      "outputs": [
        {
          "output_type": "execute_result",
          "data": {
            "text/html": [
              "<div>\n",
              "<style scoped>\n",
              "    .dataframe tbody tr th:only-of-type {\n",
              "        vertical-align: middle;\n",
              "    }\n",
              "\n",
              "    .dataframe tbody tr th {\n",
              "        vertical-align: top;\n",
              "    }\n",
              "\n",
              "    .dataframe thead th {\n",
              "        text-align: right;\n",
              "    }\n",
              "</style>\n",
              "<table border=\"1\" class=\"dataframe\">\n",
              "  <thead>\n",
              "    <tr style=\"text-align: right;\">\n",
              "      <th></th>\n",
              "      <th>product_name</th>\n",
              "      <th>pid</th>\n",
              "      <th>description</th>\n",
              "      <th>brand</th>\n",
              "      <th>product_category_tree</th>\n",
              "    </tr>\n",
              "  </thead>\n",
              "  <tbody>\n",
              "    <tr>\n",
              "      <th>0</th>\n",
              "      <td>Alisha Solid Women's Cycling Shorts</td>\n",
              "      <td>SRTEH2FF9KEDEFGF</td>\n",
              "      <td>Key Features of Alisha Solid Women's Cycling Shorts Cotton Lycra Navy, Red, Navy,Specifications of Alisha Solid Women's Cycling Shorts Shorts Details Number of Contents in Sales Package Pack of 3 Fabric Cotton Lycra Type Cycling Shorts General Details Pattern Solid Ideal For Women's Fabric Care ...</td>\n",
              "      <td>Alisha</td>\n",
              "      <td>Clothing &gt;&gt; Women's Clothing &gt;&gt; Lingerie, Sleep &amp; Swimwear &gt;&gt; Shorts &gt;&gt; Alisha Shorts &gt;&gt; Alisha Solid Women's Cycling Shorts</td>\n",
              "    </tr>\n",
              "    <tr>\n",
              "      <th>1</th>\n",
              "      <td>FabHomeDecor Fabric Double Sofa Bed</td>\n",
              "      <td>SBEEH3QGU7MFYJFY</td>\n",
              "      <td>FabHomeDecor Fabric Double Sofa Bed (Finish Color - Leatherette Black Mechanism Type - Pull Out) Price: Rs. 22,646 • Fine deep seating experience • Save Space with the all new click clack Sofa Bed • Easy to fold and vice versa with simple click clack mechanism • Chrome legs with mango wood frame...</td>\n",
              "      <td>FabHomeDecor</td>\n",
              "      <td>Furniture &gt;&gt; Living Room Furniture &gt;&gt; Sofa Beds &amp; Futons &gt;&gt; FabHomeDecor Fabric Double Sofa Bed (Finish Colo...</td>\n",
              "    </tr>\n",
              "    <tr>\n",
              "      <th>2</th>\n",
              "      <td>AW Bellies</td>\n",
              "      <td>SHOEH4GRSUBJGZXE</td>\n",
              "      <td>Key Features of AW Bellies Sandals Wedges Heel Casuals,AW Bellies Price: Rs. 499 Material: Synthetic Lifestyle: Casual Heel Type: Wedge Warranty Type: Manufacturer Product Warranty against manufacturing defects: 30 days Care instructions: Allow your pair of shoes to air and de-odorize at regular...</td>\n",
              "      <td>AW</td>\n",
              "      <td>Footwear &gt;&gt; Women's Footwear &gt;&gt; Ballerinas &gt;&gt; AW Bellies</td>\n",
              "    </tr>\n",
              "    <tr>\n",
              "      <th>3</th>\n",
              "      <td>Alisha Solid Women's Cycling Shorts</td>\n",
              "      <td>SRTEH2F6HUZMQ6SJ</td>\n",
              "      <td>Key Features of Alisha Solid Women's Cycling Shorts Cotton Lycra Black, Red,Specifications of Alisha Solid Women's Cycling Shorts Shorts Details Number of Contents in Sales Package Pack of 2 Fabric Cotton Lycra Type Cycling Shorts General Details Pattern Solid Ideal For Women's Fabric Care Gentl...</td>\n",
              "      <td>Alisha</td>\n",
              "      <td>Clothing &gt;&gt; Women's Clothing &gt;&gt; Lingerie, Sleep &amp; Swimwear &gt;&gt; Shorts &gt;&gt; Alisha Shorts &gt;&gt; Alisha Solid Women's Cycling Shorts</td>\n",
              "    </tr>\n",
              "    <tr>\n",
              "      <th>4</th>\n",
              "      <td>Sicons All Purpose Arnica Dog Shampoo</td>\n",
              "      <td>PSOEH3ZYDMSYARJ5</td>\n",
              "      <td>Specifications of Sicons All Purpose Arnica Dog Shampoo (500 ml) General Pet Type Dog Brand Sicons Quantity 500 ml Model Number SH.DF-14 Type All Purpose Fragrance Arnica Form Factor Liquid In the Box Sales Package Shampoo Sicons Dog Fashion Arnica</td>\n",
              "      <td>Sicons</td>\n",
              "      <td>Pet Supplies &gt;&gt; Grooming &gt;&gt; Skin &amp; Coat Care &gt;&gt; Shampoo &gt;&gt; Sicons All Purpose Arnica Dog Shampoo (500 ml)</td>\n",
              "    </tr>\n",
              "  </tbody>\n",
              "</table>\n",
              "</div>"
            ],
            "text/plain": [
              "                            product_name  ...                                                                                                         product_category_tree\n",
              "0    Alisha Solid Women's Cycling Shorts  ...  Clothing >> Women's Clothing >> Lingerie, Sleep & Swimwear >> Shorts >> Alisha Shorts >> Alisha Solid Women's Cycling Shorts\n",
              "1    FabHomeDecor Fabric Double Sofa Bed  ...               Furniture >> Living Room Furniture >> Sofa Beds & Futons >> FabHomeDecor Fabric Double Sofa Bed (Finish Colo...\n",
              "2                             AW Bellies  ...                                                                      Footwear >> Women's Footwear >> Ballerinas >> AW Bellies\n",
              "3    Alisha Solid Women's Cycling Shorts  ...  Clothing >> Women's Clothing >> Lingerie, Sleep & Swimwear >> Shorts >> Alisha Shorts >> Alisha Solid Women's Cycling Shorts\n",
              "4  Sicons All Purpose Arnica Dog Shampoo  ...                     Pet Supplies >> Grooming >> Skin & Coat Care >> Shampoo >> Sicons All Purpose Arnica Dog Shampoo (500 ml)\n",
              "\n",
              "[5 rows x 5 columns]"
            ]
          },
          "metadata": {
            "tags": []
          },
          "execution_count": 10
        }
      ]
    },
    {
      "cell_type": "markdown",
      "metadata": {
        "id": "1vGTp7v4XFGd"
      },
      "source": [
        "Every entry in the product_category_tree column contains multiple categories. This means that a given product can belong to multiple categories at the same time.  For instance a given product can come under the category of '*Clothing*', as well as of '*Sleep & Swimwear*'. The first thing to do is to split the string such that the various categories each form a different column. "
      ]
    },
    {
      "cell_type": "markdown",
      "metadata": {
        "id": "5W-mnkiiiCDf"
      },
      "source": [
        "*First we look at those products which belong to more than one category by splitting the strings with the \",\" (comma) as a delimiter*"
      ]
    },
    {
      "cell_type": "code",
      "metadata": {
        "id": "cRb8Ehx0EzgW"
      },
      "source": [
        "maxCat = 2\n",
        "\n",
        "new_series = flipkart_dataset[\"product_category_tree\"].str.split(\",+\")\n",
        "\n",
        "for i in range(len(new_series)) :\n",
        "  if(len(new_series[i]) >=maxCat) :\n",
        "    print(new_series[i])"
      ],
      "execution_count": null,
      "outputs": []
    },
    {
      "cell_type": "markdown",
      "metadata": {
        "id": "uCTTmMO0FADB"
      },
      "source": [
        "While the above codeblock gives us a sense of how many products belong to more than one category, it also prints the category trees of products which don't actually have two categories. For instance, look at <br/> :\n",
        "\"Home Furnishing >> Cushions', ' Pillows & Covers >> Cushion Covers >> Lushomes Cushion Covers >> Lushomes Plain Cushions Cover (Pack of 5', ' 30 cm*...\"]'\n",
        "\n",
        "Here there is technically only one category. But this tree still gets printed because of the ',' (comma) which is placed inside a bracket - (Pack of 5,30cm*). In this case the Pack of 5, serves not to establish a new category but to describe the product. Hence this isn't the most useful representation. <br/>\n",
        "\n",
        "To overcome this, we instead use a regex expression to ignore those ','s(commas) which are placed inside brackets\n"
      ]
    },
    {
      "cell_type": "code",
      "metadata": {
        "id": "ZV-FMRJ1aQd1"
      },
      "source": [
        "# Regex expression which ignores commas placed inside brackets\n",
        "\n",
        "n = flipkart_dataset.shape[0]\n",
        "maxCat = 2\n",
        "maxSize = 2\n",
        "maxInd = 0\n",
        "count = 0\n",
        "\n",
        "new_series = flipkart_dataset[\"product_category_tree\"].str.split(r\",\\s*(?![^()]*\\))\")\n",
        "\n",
        "for i in range(len(new_series)) :\n",
        "  if(len(new_series[i]) >=maxCat) :\n",
        "    print(new_series[i])\n",
        "    count = count + 1\n",
        "  if(len(new_series[i]) > maxSize) :\n",
        "    maxSize = len(new_series[i])\n",
        "    maxInd = i\n"
      ],
      "execution_count": null,
      "outputs": []
    },
    {
      "cell_type": "code",
      "metadata": {
        "colab": {
          "base_uri": "https://localhost:8080/",
          "height": 430
        },
        "id": "s4Esf5yP0xvH",
        "outputId": "790d8312-01f4-427a-bbca-8a922382d616"
      },
      "source": [
        "flipkart_dataset[\"product_category_tree\"] = flipkart_dataset[\"product_category_tree\"].str.split(r\",\\s*(?![^()]*\\))\")\n",
        "flipkart_dataset.head()"
      ],
      "execution_count": null,
      "outputs": [
        {
          "output_type": "execute_result",
          "data": {
            "text/html": [
              "<div>\n",
              "<style scoped>\n",
              "    .dataframe tbody tr th:only-of-type {\n",
              "        vertical-align: middle;\n",
              "    }\n",
              "\n",
              "    .dataframe tbody tr th {\n",
              "        vertical-align: top;\n",
              "    }\n",
              "\n",
              "    .dataframe thead th {\n",
              "        text-align: right;\n",
              "    }\n",
              "</style>\n",
              "<table border=\"1\" class=\"dataframe\">\n",
              "  <thead>\n",
              "    <tr style=\"text-align: right;\">\n",
              "      <th></th>\n",
              "      <th>product_name</th>\n",
              "      <th>pid</th>\n",
              "      <th>description</th>\n",
              "      <th>brand</th>\n",
              "      <th>product_category_tree</th>\n",
              "    </tr>\n",
              "  </thead>\n",
              "  <tbody>\n",
              "    <tr>\n",
              "      <th>0</th>\n",
              "      <td>Alisha Solid Women's Cycling Shorts</td>\n",
              "      <td>SRTEH2FF9KEDEFGF</td>\n",
              "      <td>Key Features of Alisha Solid Women's Cycling Shorts Cotton Lycra Navy, Red, Navy,Specifications of Alisha Solid Women's Cycling Shorts Shorts Details Number of Contents in Sales Package Pack of 3 Fabric Cotton Lycra Type Cycling Shorts General Details Pattern Solid Ideal For Women's Fabric Care ...</td>\n",
              "      <td>Alisha</td>\n",
              "      <td>[Clothing &gt;&gt; Women's Clothing &gt;&gt; Lingerie, Sleep &amp; Swimwear &gt;&gt; Shorts &gt;&gt; Alisha Shorts &gt;&gt; Alisha Solid Women's Cycling Shorts]</td>\n",
              "    </tr>\n",
              "    <tr>\n",
              "      <th>1</th>\n",
              "      <td>FabHomeDecor Fabric Double Sofa Bed</td>\n",
              "      <td>SBEEH3QGU7MFYJFY</td>\n",
              "      <td>FabHomeDecor Fabric Double Sofa Bed (Finish Color - Leatherette Black Mechanism Type - Pull Out) Price: Rs. 22,646 • Fine deep seating experience • Save Space with the all new click clack Sofa Bed • Easy to fold and vice versa with simple click clack mechanism • Chrome legs with mango wood frame...</td>\n",
              "      <td>FabHomeDecor</td>\n",
              "      <td>[Furniture &gt;&gt; Living Room Furniture &gt;&gt; Sofa Beds &amp; Futons &gt;&gt; FabHomeDecor Fabric Double Sofa Bed (Finish Colo...]</td>\n",
              "    </tr>\n",
              "    <tr>\n",
              "      <th>2</th>\n",
              "      <td>AW Bellies</td>\n",
              "      <td>SHOEH4GRSUBJGZXE</td>\n",
              "      <td>Key Features of AW Bellies Sandals Wedges Heel Casuals,AW Bellies Price: Rs. 499 Material: Synthetic Lifestyle: Casual Heel Type: Wedge Warranty Type: Manufacturer Product Warranty against manufacturing defects: 30 days Care instructions: Allow your pair of shoes to air and de-odorize at regular...</td>\n",
              "      <td>AW</td>\n",
              "      <td>[Footwear &gt;&gt; Women's Footwear &gt;&gt; Ballerinas &gt;&gt; AW Bellies]</td>\n",
              "    </tr>\n",
              "    <tr>\n",
              "      <th>3</th>\n",
              "      <td>Alisha Solid Women's Cycling Shorts</td>\n",
              "      <td>SRTEH2F6HUZMQ6SJ</td>\n",
              "      <td>Key Features of Alisha Solid Women's Cycling Shorts Cotton Lycra Black, Red,Specifications of Alisha Solid Women's Cycling Shorts Shorts Details Number of Contents in Sales Package Pack of 2 Fabric Cotton Lycra Type Cycling Shorts General Details Pattern Solid Ideal For Women's Fabric Care Gentl...</td>\n",
              "      <td>Alisha</td>\n",
              "      <td>[Clothing &gt;&gt; Women's Clothing &gt;&gt; Lingerie, Sleep &amp; Swimwear &gt;&gt; Shorts &gt;&gt; Alisha Shorts &gt;&gt; Alisha Solid Women's Cycling Shorts]</td>\n",
              "    </tr>\n",
              "    <tr>\n",
              "      <th>4</th>\n",
              "      <td>Sicons All Purpose Arnica Dog Shampoo</td>\n",
              "      <td>PSOEH3ZYDMSYARJ5</td>\n",
              "      <td>Specifications of Sicons All Purpose Arnica Dog Shampoo (500 ml) General Pet Type Dog Brand Sicons Quantity 500 ml Model Number SH.DF-14 Type All Purpose Fragrance Arnica Form Factor Liquid In the Box Sales Package Shampoo Sicons Dog Fashion Arnica</td>\n",
              "      <td>Sicons</td>\n",
              "      <td>[Pet Supplies &gt;&gt; Grooming &gt;&gt; Skin &amp; Coat Care &gt;&gt; Shampoo &gt;&gt; Sicons All Purpose Arnica Dog Shampoo (500 ml)]</td>\n",
              "    </tr>\n",
              "  </tbody>\n",
              "</table>\n",
              "</div>"
            ],
            "text/plain": [
              "                            product_name  ...                                                                                                           product_category_tree\n",
              "0    Alisha Solid Women's Cycling Shorts  ...  [Clothing >> Women's Clothing >> Lingerie, Sleep & Swimwear >> Shorts >> Alisha Shorts >> Alisha Solid Women's Cycling Shorts]\n",
              "1    FabHomeDecor Fabric Double Sofa Bed  ...               [Furniture >> Living Room Furniture >> Sofa Beds & Futons >> FabHomeDecor Fabric Double Sofa Bed (Finish Colo...]\n",
              "2                             AW Bellies  ...                                                                      [Footwear >> Women's Footwear >> Ballerinas >> AW Bellies]\n",
              "3    Alisha Solid Women's Cycling Shorts  ...  [Clothing >> Women's Clothing >> Lingerie, Sleep & Swimwear >> Shorts >> Alisha Shorts >> Alisha Solid Women's Cycling Shorts]\n",
              "4  Sicons All Purpose Arnica Dog Shampoo  ...                     [Pet Supplies >> Grooming >> Skin & Coat Care >> Shampoo >> Sicons All Purpose Arnica Dog Shampoo (500 ml)]\n",
              "\n",
              "[5 rows x 5 columns]"
            ]
          },
          "metadata": {
            "tags": []
          },
          "execution_count": 13
        }
      ]
    },
    {
      "cell_type": "markdown",
      "metadata": {
        "id": "MCTaefbu1a5c"
      },
      "source": [
        "Now the dataset is structured such that for every product the product_category_tree column stores the categories that the product belongs to as a list of strings. <br/>\n",
        "So for a product (Say cycling shorts) the product_category_tree column would contain a list of strings such that each string in the list is a category(the first Category could be Clothing[this in term would contain subcategories], while the second category could be Sports goods[would contain subcategories as well])<br/>\n",
        "\n",
        "We now modify the dataset such that instead of each product containing multiple categories, the product is copied for each category that it belongs to. That is, if a product has 3 different categories, we replace one row of data with 3 rows, each containing a separate category.<br/>\n",
        "This is done using the [DataFrame.explode()](https://pandas.pydata.org/docs/reference/api/pandas.DataFrame.explode.html) command. It '*transforms each element of a list-like to a row, replicating index values*'.\n",
        "\n"
      ]
    },
    {
      "cell_type": "code",
      "metadata": {
        "colab": {
          "base_uri": "https://localhost:8080/",
          "height": 380
        },
        "id": "Lr6DGpapzYLq",
        "outputId": "866247e3-1586-4656-e763-29dc08dc0fbb"
      },
      "source": [
        "flipkart_dataset_actual = flipkart_dataset.explode('product_category_tree',ignore_index = True)\n",
        "(flipkart_dataset_actual.head())\n"
      ],
      "execution_count": null,
      "outputs": [
        {
          "output_type": "execute_result",
          "data": {
            "text/html": [
              "<div>\n",
              "<style scoped>\n",
              "    .dataframe tbody tr th:only-of-type {\n",
              "        vertical-align: middle;\n",
              "    }\n",
              "\n",
              "    .dataframe tbody tr th {\n",
              "        vertical-align: top;\n",
              "    }\n",
              "\n",
              "    .dataframe thead th {\n",
              "        text-align: right;\n",
              "    }\n",
              "</style>\n",
              "<table border=\"1\" class=\"dataframe\">\n",
              "  <thead>\n",
              "    <tr style=\"text-align: right;\">\n",
              "      <th></th>\n",
              "      <th>product_name</th>\n",
              "      <th>pid</th>\n",
              "      <th>description</th>\n",
              "      <th>brand</th>\n",
              "      <th>product_category_tree</th>\n",
              "    </tr>\n",
              "  </thead>\n",
              "  <tbody>\n",
              "    <tr>\n",
              "      <th>0</th>\n",
              "      <td>Alisha Solid Women's Cycling Shorts</td>\n",
              "      <td>SRTEH2FF9KEDEFGF</td>\n",
              "      <td>Key Features of Alisha Solid Women's Cycling Shorts Cotton Lycra Navy, Red, Navy,Specifications of Alisha Solid Women's Cycling Shorts Shorts Details Number of Contents in Sales Package Pack of 3 Fabric Cotton Lycra Type Cycling Shorts General Details Pattern Solid Ideal For Women's Fabric Care ...</td>\n",
              "      <td>Alisha</td>\n",
              "      <td>Clothing &gt;&gt; Women's Clothing &gt;&gt; Lingerie</td>\n",
              "    </tr>\n",
              "    <tr>\n",
              "      <th>1</th>\n",
              "      <td>Alisha Solid Women's Cycling Shorts</td>\n",
              "      <td>SRTEH2FF9KEDEFGF</td>\n",
              "      <td>Key Features of Alisha Solid Women's Cycling Shorts Cotton Lycra Navy, Red, Navy,Specifications of Alisha Solid Women's Cycling Shorts Shorts Details Number of Contents in Sales Package Pack of 3 Fabric Cotton Lycra Type Cycling Shorts General Details Pattern Solid Ideal For Women's Fabric Care ...</td>\n",
              "      <td>Alisha</td>\n",
              "      <td>Sleep &amp; Swimwear &gt;&gt; Shorts &gt;&gt; Alisha Shorts &gt;&gt; Alisha Solid Women's Cycling Shorts</td>\n",
              "    </tr>\n",
              "    <tr>\n",
              "      <th>2</th>\n",
              "      <td>FabHomeDecor Fabric Double Sofa Bed</td>\n",
              "      <td>SBEEH3QGU7MFYJFY</td>\n",
              "      <td>FabHomeDecor Fabric Double Sofa Bed (Finish Color - Leatherette Black Mechanism Type - Pull Out) Price: Rs. 22,646 • Fine deep seating experience • Save Space with the all new click clack Sofa Bed • Easy to fold and vice versa with simple click clack mechanism • Chrome legs with mango wood frame...</td>\n",
              "      <td>FabHomeDecor</td>\n",
              "      <td>Furniture &gt;&gt; Living Room Furniture &gt;&gt; Sofa Beds &amp; Futons &gt;&gt; FabHomeDecor Fabric Double Sofa Bed (Finish Colo...</td>\n",
              "    </tr>\n",
              "    <tr>\n",
              "      <th>3</th>\n",
              "      <td>AW Bellies</td>\n",
              "      <td>SHOEH4GRSUBJGZXE</td>\n",
              "      <td>Key Features of AW Bellies Sandals Wedges Heel Casuals,AW Bellies Price: Rs. 499 Material: Synthetic Lifestyle: Casual Heel Type: Wedge Warranty Type: Manufacturer Product Warranty against manufacturing defects: 30 days Care instructions: Allow your pair of shoes to air and de-odorize at regular...</td>\n",
              "      <td>AW</td>\n",
              "      <td>Footwear &gt;&gt; Women's Footwear &gt;&gt; Ballerinas &gt;&gt; AW Bellies</td>\n",
              "    </tr>\n",
              "    <tr>\n",
              "      <th>4</th>\n",
              "      <td>Alisha Solid Women's Cycling Shorts</td>\n",
              "      <td>SRTEH2F6HUZMQ6SJ</td>\n",
              "      <td>Key Features of Alisha Solid Women's Cycling Shorts Cotton Lycra Black, Red,Specifications of Alisha Solid Women's Cycling Shorts Shorts Details Number of Contents in Sales Package Pack of 2 Fabric Cotton Lycra Type Cycling Shorts General Details Pattern Solid Ideal For Women's Fabric Care Gentl...</td>\n",
              "      <td>Alisha</td>\n",
              "      <td>Clothing &gt;&gt; Women's Clothing &gt;&gt; Lingerie</td>\n",
              "    </tr>\n",
              "  </tbody>\n",
              "</table>\n",
              "</div>"
            ],
            "text/plain": [
              "                          product_name  ...                                                                                            product_category_tree\n",
              "0  Alisha Solid Women's Cycling Shorts  ...                                                                         Clothing >> Women's Clothing >> Lingerie\n",
              "1  Alisha Solid Women's Cycling Shorts  ...                               Sleep & Swimwear >> Shorts >> Alisha Shorts >> Alisha Solid Women's Cycling Shorts\n",
              "2  FabHomeDecor Fabric Double Sofa Bed  ...  Furniture >> Living Room Furniture >> Sofa Beds & Futons >> FabHomeDecor Fabric Double Sofa Bed (Finish Colo...\n",
              "3                           AW Bellies  ...                                                         Footwear >> Women's Footwear >> Ballerinas >> AW Bellies\n",
              "4  Alisha Solid Women's Cycling Shorts  ...                                                                         Clothing >> Women's Clothing >> Lingerie\n",
              "\n",
              "[5 rows x 5 columns]"
            ]
          },
          "metadata": {
            "tags": []
          },
          "execution_count": 14
        }
      ]
    },
    {
      "cell_type": "code",
      "metadata": {
        "colab": {
          "base_uri": "https://localhost:8080/"
        },
        "id": "q9Ulf6v0Gn_K",
        "outputId": "b68b61b2-eec4-4ece-9299-89a482e46413"
      },
      "source": [
        "print(f\"Shape of dataset : {flipkart_dataset_actual.shape}\")"
      ],
      "execution_count": null,
      "outputs": [
        {
          "output_type": "stream",
          "text": [
            "Shape of dataset : (24511, 5)\n"
          ],
          "name": "stdout"
        }
      ]
    },
    {
      "cell_type": "markdown",
      "metadata": {
        "id": "tuwY0UiCGx2O"
      },
      "source": [
        "As can be seen the dataset has been transformed, and the number of rows has been increased. We now have one category per row. The next task would be to extract the primary category from each product category tree. This can be done again by using a delimiter. As can be seen in all these cases, the categories are divided by a '>>' sign. "
      ]
    },
    {
      "cell_type": "code",
      "metadata": {
        "id": "Xn2uoOV2KkPa"
      },
      "source": [
        "flipkart_dataset_actual[\"primary_category\"] = flipkart_dataset_actual[\"product_category_tree\"].str.split(\">>\").apply(lambda x : x[0])"
      ],
      "execution_count": null,
      "outputs": []
    },
    {
      "cell_type": "code",
      "metadata": {
        "colab": {
          "base_uri": "https://localhost:8080/",
          "height": 464
        },
        "id": "8eMdkr7UMM-N",
        "outputId": "1c05799d-063d-4a34-af8a-7b9407cd713a"
      },
      "source": [
        "flipkart_dataset_actual.head()"
      ],
      "execution_count": null,
      "outputs": [
        {
          "output_type": "execute_result",
          "data": {
            "text/html": [
              "<div>\n",
              "<style scoped>\n",
              "    .dataframe tbody tr th:only-of-type {\n",
              "        vertical-align: middle;\n",
              "    }\n",
              "\n",
              "    .dataframe tbody tr th {\n",
              "        vertical-align: top;\n",
              "    }\n",
              "\n",
              "    .dataframe thead th {\n",
              "        text-align: right;\n",
              "    }\n",
              "</style>\n",
              "<table border=\"1\" class=\"dataframe\">\n",
              "  <thead>\n",
              "    <tr style=\"text-align: right;\">\n",
              "      <th></th>\n",
              "      <th>product_name</th>\n",
              "      <th>pid</th>\n",
              "      <th>description</th>\n",
              "      <th>brand</th>\n",
              "      <th>product_category_tree</th>\n",
              "      <th>primary_category</th>\n",
              "    </tr>\n",
              "  </thead>\n",
              "  <tbody>\n",
              "    <tr>\n",
              "      <th>0</th>\n",
              "      <td>Alisha Solid Women's Cycling Shorts</td>\n",
              "      <td>SRTEH2FF9KEDEFGF</td>\n",
              "      <td>Key Features of Alisha Solid Women's Cycling Shorts Cotton Lycra Navy, Red, Navy,Specifications of Alisha Solid Women's Cycling Shorts Shorts Details Number of Contents in Sales Package Pack of 3 Fabric Cotton Lycra Type Cycling Shorts General Details Pattern Solid Ideal For Women's Fabric Care ...</td>\n",
              "      <td>Alisha</td>\n",
              "      <td>Clothing &gt;&gt; Women's Clothing &gt;&gt; Lingerie</td>\n",
              "      <td>Clothing</td>\n",
              "    </tr>\n",
              "    <tr>\n",
              "      <th>1</th>\n",
              "      <td>Alisha Solid Women's Cycling Shorts</td>\n",
              "      <td>SRTEH2FF9KEDEFGF</td>\n",
              "      <td>Key Features of Alisha Solid Women's Cycling Shorts Cotton Lycra Navy, Red, Navy,Specifications of Alisha Solid Women's Cycling Shorts Shorts Details Number of Contents in Sales Package Pack of 3 Fabric Cotton Lycra Type Cycling Shorts General Details Pattern Solid Ideal For Women's Fabric Care ...</td>\n",
              "      <td>Alisha</td>\n",
              "      <td>Sleep &amp; Swimwear &gt;&gt; Shorts &gt;&gt; Alisha Shorts &gt;&gt; Alisha Solid Women's Cycling Shorts</td>\n",
              "      <td>Sleep &amp; Swimwear</td>\n",
              "    </tr>\n",
              "    <tr>\n",
              "      <th>2</th>\n",
              "      <td>FabHomeDecor Fabric Double Sofa Bed</td>\n",
              "      <td>SBEEH3QGU7MFYJFY</td>\n",
              "      <td>FabHomeDecor Fabric Double Sofa Bed (Finish Color - Leatherette Black Mechanism Type - Pull Out) Price: Rs. 22,646 • Fine deep seating experience • Save Space with the all new click clack Sofa Bed • Easy to fold and vice versa with simple click clack mechanism • Chrome legs with mango wood frame...</td>\n",
              "      <td>FabHomeDecor</td>\n",
              "      <td>Furniture &gt;&gt; Living Room Furniture &gt;&gt; Sofa Beds &amp; Futons &gt;&gt; FabHomeDecor Fabric Double Sofa Bed (Finish Colo...</td>\n",
              "      <td>Furniture</td>\n",
              "    </tr>\n",
              "    <tr>\n",
              "      <th>3</th>\n",
              "      <td>AW Bellies</td>\n",
              "      <td>SHOEH4GRSUBJGZXE</td>\n",
              "      <td>Key Features of AW Bellies Sandals Wedges Heel Casuals,AW Bellies Price: Rs. 499 Material: Synthetic Lifestyle: Casual Heel Type: Wedge Warranty Type: Manufacturer Product Warranty against manufacturing defects: 30 days Care instructions: Allow your pair of shoes to air and de-odorize at regular...</td>\n",
              "      <td>AW</td>\n",
              "      <td>Footwear &gt;&gt; Women's Footwear &gt;&gt; Ballerinas &gt;&gt; AW Bellies</td>\n",
              "      <td>Footwear</td>\n",
              "    </tr>\n",
              "    <tr>\n",
              "      <th>4</th>\n",
              "      <td>Alisha Solid Women's Cycling Shorts</td>\n",
              "      <td>SRTEH2F6HUZMQ6SJ</td>\n",
              "      <td>Key Features of Alisha Solid Women's Cycling Shorts Cotton Lycra Black, Red,Specifications of Alisha Solid Women's Cycling Shorts Shorts Details Number of Contents in Sales Package Pack of 2 Fabric Cotton Lycra Type Cycling Shorts General Details Pattern Solid Ideal For Women's Fabric Care Gentl...</td>\n",
              "      <td>Alisha</td>\n",
              "      <td>Clothing &gt;&gt; Women's Clothing &gt;&gt; Lingerie</td>\n",
              "      <td>Clothing</td>\n",
              "    </tr>\n",
              "  </tbody>\n",
              "</table>\n",
              "</div>"
            ],
            "text/plain": [
              "                          product_name  ...   primary_category\n",
              "0  Alisha Solid Women's Cycling Shorts  ...          Clothing \n",
              "1  Alisha Solid Women's Cycling Shorts  ...  Sleep & Swimwear \n",
              "2  FabHomeDecor Fabric Double Sofa Bed  ...         Furniture \n",
              "3                           AW Bellies  ...          Footwear \n",
              "4  Alisha Solid Women's Cycling Shorts  ...          Clothing \n",
              "\n",
              "[5 rows x 6 columns]"
            ]
          },
          "metadata": {
            "tags": []
          },
          "execution_count": 17
        }
      ]
    },
    {
      "cell_type": "markdown",
      "metadata": {
        "id": "ji1Xr5rL96TU"
      },
      "source": [
        "### **Visualizing the Data**"
      ]
    },
    {
      "cell_type": "markdown",
      "metadata": {
        "id": "OR9Blr36NAhH"
      },
      "source": [
        "The first visualization task is to look at how many entries there are for every category. This would help us make sense of which categories can actually be predicted, and which ones can't. To do this a histogram is plotted using the value counts of the primary category column"
      ]
    },
    {
      "cell_type": "code",
      "metadata": {
        "colab": {
          "base_uri": "https://localhost:8080/",
          "height": 577
        },
        "id": "kl1IrIx4FTxp",
        "outputId": "a3fb2178-50d0-4dcf-8e5b-a2dac554be5e"
      },
      "source": [
        "flipkart_dataset_actual.primary_category.value_counts().plot(kind='bar')"
      ],
      "execution_count": null,
      "outputs": [
        {
          "output_type": "execute_result",
          "data": {
            "text/plain": [
              "<matplotlib.axes._subplots.AxesSubplot at 0x7fa6244ad190>"
            ]
          },
          "metadata": {
            "tags": []
          },
          "execution_count": 18
        },
        {
          "output_type": "display_data",
          "data": {
            "image/png": "[encoded data removed]",
            "text/plain": [
              "<Figure size 432x288 with 1 Axes>"
            ]
          },
          "metadata": {
            "tags": [],
            "needs_background": "light"
          }
        }
      ]
    },
    {
      "cell_type": "markdown",
      "metadata": {
        "id": "0G8zMA32v_D6"
      },
      "source": [
        "The reason the above historgram isn't good is because there are too many categories which have too less products under them. This could either be because some of the values aren't categories(The regular expression that was used to split the inital product_category_tree column might have thrown some values which weren't actually categories) or even if they are categories they might have too few products under them. Instead a pie chart might be a better representation of how the products are distributed across categories"
      ]
    },
    {
      "cell_type": "code",
      "metadata": {
        "colab": {
          "base_uri": "https://localhost:8080/",
          "height": 265
        },
        "id": "ZgFoGp7MAwqi",
        "outputId": "45106e08-54ea-482c-a049-4a620c29903e"
      },
      "source": [
        "flipkart_dataset_actual.primary_category.value_counts().plot(kind='pie')"
      ],
      "execution_count": null,
      "outputs": [
        {
          "output_type": "execute_result",
          "data": {
            "text/plain": [
              "<matplotlib.axes._subplots.AxesSubplot at 0x7fa624b98b50>"
            ]
          },
          "metadata": {
            "tags": []
          },
          "execution_count": 19
        },
        {
          "output_type": "display_data",
          "data": {
            "image/png": "[encoded data removed]",
            "text/plain": [
              "<Figure size 432x288 with 1 Axes>"
            ]
          },
          "metadata": {
            "tags": []
          }
        }
      ]
    },
    {
      "cell_type": "markdown",
      "metadata": {
        "id": "7LBqYuwTA5zR"
      },
      "source": [
        "Here as is clear above most of the products come under major categories like Clothing, Jewellery,etc. To further establish this we look at the number of products which fall under the top 40 categories ( the 40 categories with the most number of products in them). The selection of 40 as the number of categories is arbitrary"
      ]
    },
    {
      "cell_type": "code",
      "metadata": {
        "colab": {
          "base_uri": "https://localhost:8080/"
        },
        "id": "TVlJfjwB0LoM",
        "outputId": "4f295e1d-d55b-4ca0-f1cf-87f1a880b881"
      },
      "source": [
        "# This command sums up the number of products in the 40 categories with the most number of products. The final sum is normalized, meaning it is a fraction of the total number\n",
        "# of products present across all categories\n",
        "flipkart_dataset_actual.primary_category.value_counts(normalize = True)[0:40].sum()"
      ],
      "execution_count": null,
      "outputs": [
        {
          "output_type": "execute_result",
          "data": {
            "text/plain": [
              "0.9648321161927298"
            ]
          },
          "metadata": {
            "tags": []
          },
          "execution_count": 20
        }
      ]
    },
    {
      "cell_type": "markdown",
      "metadata": {
        "id": "Zg10sO9G-Zad"
      },
      "source": [
        "The above result means that around 96.5% of all the products are in 40 categories. So it would be reasonable to omit most of the bottom categories, since we still have almost all the information in the original dataset retained"
      ]
    },
    {
      "cell_type": "code",
      "metadata": {
        "colab": {
          "base_uri": "https://localhost:8080/"
        },
        "id": "2pfk_gyW14Lt",
        "outputId": "51753340-3a84-409e-d4b9-f3e1a0651e4a"
      },
      "source": [
        "# The command below filters those categories which have more than 20 products in them and filters them out\n",
        "len(flipkart_dataset_actual.groupby(\"primary_category\").filter(lambda x : len(x) > 20))/flipkart_dataset_actual.primary_category.value_counts().sum()"
      ],
      "execution_count": null,
      "outputs": [
        {
          "output_type": "execute_result",
          "data": {
            "text/plain": [
              "0.9623434376402431"
            ]
          },
          "metadata": {
            "tags": []
          },
          "execution_count": 21
        }
      ]
    },
    {
      "cell_type": "markdown",
      "metadata": {
        "id": "4OMomD9D_3wJ"
      },
      "source": [
        "This indicates that even if we emit all the categories which have less than 20 products in them, we retain 96.2% of the rows in the dataset. So it makes sense to apply this filter on the dataset because any category which has less than 20 products in a dataset with 20,000 products(roughly less than 0.1% of the products) is unlikely to give us any useful results "
      ]
    },
    {
      "cell_type": "code",
      "metadata": {
        "colab": {
          "base_uri": "https://localhost:8080/",
          "height": 838
        },
        "id": "RCjBtRz9D8aP",
        "outputId": "12271523-318b-4f0d-c820-d7482e560031"
      },
      "source": [
        "flipkart_dataset_actual = (flipkart_dataset_actual.groupby(\"primary_category\").filter(lambda x : len(x) > 20))\n",
        "flipkart_dataset_actual"
      ],
      "execution_count": null,
      "outputs": [
        {
          "output_type": "execute_result",
          "data": {
            "text/html": [
              "<div>\n",
              "<style scoped>\n",
              "    .dataframe tbody tr th:only-of-type {\n",
              "        vertical-align: middle;\n",
              "    }\n",
              "\n",
              "    .dataframe tbody tr th {\n",
              "        vertical-align: top;\n",
              "    }\n",
              "\n",
              "    .dataframe thead th {\n",
              "        text-align: right;\n",
              "    }\n",
              "</style>\n",
              "<table border=\"1\" class=\"dataframe\">\n",
              "  <thead>\n",
              "    <tr style=\"text-align: right;\">\n",
              "      <th></th>\n",
              "      <th>product_name</th>\n",
              "      <th>pid</th>\n",
              "      <th>description</th>\n",
              "      <th>brand</th>\n",
              "      <th>product_category_tree</th>\n",
              "      <th>primary_category</th>\n",
              "    </tr>\n",
              "  </thead>\n",
              "  <tbody>\n",
              "    <tr>\n",
              "      <th>0</th>\n",
              "      <td>Alisha Solid Women's Cycling Shorts</td>\n",
              "      <td>SRTEH2FF9KEDEFGF</td>\n",
              "      <td>Key Features of Alisha Solid Women's Cycling Shorts Cotton Lycra Navy, Red, Navy,Specifications of Alisha Solid Women's Cycling Shorts Shorts Details Number of Contents in Sales Package Pack of 3 Fabric Cotton Lycra Type Cycling Shorts General Details Pattern Solid Ideal For Women's Fabric Care ...</td>\n",
              "      <td>Alisha</td>\n",
              "      <td>Clothing &gt;&gt; Women's Clothing &gt;&gt; Lingerie</td>\n",
              "      <td>Clothing</td>\n",
              "    </tr>\n",
              "    <tr>\n",
              "      <th>1</th>\n",
              "      <td>Alisha Solid Women's Cycling Shorts</td>\n",
              "      <td>SRTEH2FF9KEDEFGF</td>\n",
              "      <td>Key Features of Alisha Solid Women's Cycling Shorts Cotton Lycra Navy, Red, Navy,Specifications of Alisha Solid Women's Cycling Shorts Shorts Details Number of Contents in Sales Package Pack of 3 Fabric Cotton Lycra Type Cycling Shorts General Details Pattern Solid Ideal For Women's Fabric Care ...</td>\n",
              "      <td>Alisha</td>\n",
              "      <td>Sleep &amp; Swimwear &gt;&gt; Shorts &gt;&gt; Alisha Shorts &gt;&gt; Alisha Solid Women's Cycling Shorts</td>\n",
              "      <td>Sleep &amp; Swimwear</td>\n",
              "    </tr>\n",
              "    <tr>\n",
              "      <th>2</th>\n",
              "      <td>FabHomeDecor Fabric Double Sofa Bed</td>\n",
              "      <td>SBEEH3QGU7MFYJFY</td>\n",
              "      <td>FabHomeDecor Fabric Double Sofa Bed (Finish Color - Leatherette Black Mechanism Type - Pull Out) Price: Rs. 22,646 • Fine deep seating experience • Save Space with the all new click clack Sofa Bed • Easy to fold and vice versa with simple click clack mechanism • Chrome legs with mango wood frame...</td>\n",
              "      <td>FabHomeDecor</td>\n",
              "      <td>Furniture &gt;&gt; Living Room Furniture &gt;&gt; Sofa Beds &amp; Futons &gt;&gt; FabHomeDecor Fabric Double Sofa Bed (Finish Colo...</td>\n",
              "      <td>Furniture</td>\n",
              "    </tr>\n",
              "    <tr>\n",
              "      <th>3</th>\n",
              "      <td>AW Bellies</td>\n",
              "      <td>SHOEH4GRSUBJGZXE</td>\n",
              "      <td>Key Features of AW Bellies Sandals Wedges Heel Casuals,AW Bellies Price: Rs. 499 Material: Synthetic Lifestyle: Casual Heel Type: Wedge Warranty Type: Manufacturer Product Warranty against manufacturing defects: 30 days Care instructions: Allow your pair of shoes to air and de-odorize at regular...</td>\n",
              "      <td>AW</td>\n",
              "      <td>Footwear &gt;&gt; Women's Footwear &gt;&gt; Ballerinas &gt;&gt; AW Bellies</td>\n",
              "      <td>Footwear</td>\n",
              "    </tr>\n",
              "    <tr>\n",
              "      <th>4</th>\n",
              "      <td>Alisha Solid Women's Cycling Shorts</td>\n",
              "      <td>SRTEH2F6HUZMQ6SJ</td>\n",
              "      <td>Key Features of Alisha Solid Women's Cycling Shorts Cotton Lycra Black, Red,Specifications of Alisha Solid Women's Cycling Shorts Shorts Details Number of Contents in Sales Package Pack of 2 Fabric Cotton Lycra Type Cycling Shorts General Details Pattern Solid Ideal For Women's Fabric Care Gentl...</td>\n",
              "      <td>Alisha</td>\n",
              "      <td>Clothing &gt;&gt; Women's Clothing &gt;&gt; Lingerie</td>\n",
              "      <td>Clothing</td>\n",
              "    </tr>\n",
              "    <tr>\n",
              "      <th>...</th>\n",
              "      <td>...</td>\n",
              "      <td>...</td>\n",
              "      <td>...</td>\n",
              "      <td>...</td>\n",
              "      <td>...</td>\n",
              "      <td>...</td>\n",
              "    </tr>\n",
              "    <tr>\n",
              "      <th>24506</th>\n",
              "      <td>WallDesign Small Vinyl Sticker</td>\n",
              "      <td>STIE7KFJAKSTDY9G</td>\n",
              "      <td>Buy WallDesign Small Vinyl Sticker for Rs.730 online. WallDesign Small Vinyl Sticker at best prices with FREE shipping &amp; cash on delivery. Only Genuine Products. 30 Day Replacement Guarantee.</td>\n",
              "      <td>WallDesign</td>\n",
              "      <td>Baby Care &gt;&gt; Baby &amp; Kids Gifts &gt;&gt; Stickers &gt;&gt; WallDesign Stickers</td>\n",
              "      <td>Baby Care</td>\n",
              "    </tr>\n",
              "    <tr>\n",
              "      <th>24507</th>\n",
              "      <td>Wallmantra Large Vinyl Stickers Sticker</td>\n",
              "      <td>STIE9F5URNQGJCGH</td>\n",
              "      <td>Buy Wallmantra Large Vinyl Stickers Sticker for Rs.1143 online. Wallmantra Large Vinyl Stickers Sticker at best prices with FREE shipping &amp; cash on delivery. Only Genuine Products. 30 Day Replacement Guarantee.</td>\n",
              "      <td>Wallmantra</td>\n",
              "      <td>Baby Care &gt;&gt; Baby &amp; Kids Gifts &gt;&gt; Stickers &gt;&gt; Wallmantra Stickers</td>\n",
              "      <td>Baby Care</td>\n",
              "    </tr>\n",
              "    <tr>\n",
              "      <th>24508</th>\n",
              "      <td>Elite Collection Medium Acrylic Sticker</td>\n",
              "      <td>STIE7VAYDKQZEBSD</td>\n",
              "      <td>Buy Elite Collection Medium Acrylic Sticker for Rs.999 online. Elite Collection Medium Acrylic Sticker at best prices with FREE shipping &amp; cash on delivery. Only Genuine Products. 30 Day Replacement Guarantee.</td>\n",
              "      <td>Elite Collection</td>\n",
              "      <td>Baby Care &gt;&gt; Baby &amp; Kids Gifts &gt;&gt; Stickers &gt;&gt; Elite Collection Stickers</td>\n",
              "      <td>Baby Care</td>\n",
              "    </tr>\n",
              "    <tr>\n",
              "      <th>24509</th>\n",
              "      <td>Elite Collection Medium Acrylic Sticker</td>\n",
              "      <td>STIE8YSVEPPCZ42Y</td>\n",
              "      <td>Buy Elite Collection Medium Acrylic Sticker for Rs.1199 online. Elite Collection Medium Acrylic Sticker at best prices with FREE shipping &amp; cash on delivery. Only Genuine Products. 30 Day Replacement Guarantee.</td>\n",
              "      <td>Elite Collection</td>\n",
              "      <td>Baby Care &gt;&gt; Baby &amp; Kids Gifts &gt;&gt; Stickers &gt;&gt; Elite Collection Stickers</td>\n",
              "      <td>Baby Care</td>\n",
              "    </tr>\n",
              "    <tr>\n",
              "      <th>24510</th>\n",
              "      <td>Elite Collection Medium Acrylic Sticker</td>\n",
              "      <td>STIE88KN9ZDSGZKY</td>\n",
              "      <td>Buy Elite Collection Medium Acrylic Sticker for Rs.999 online. Elite Collection Medium Acrylic Sticker at best prices with FREE shipping &amp; cash on delivery. Only Genuine Products. 30 Day Replacement Guarantee.</td>\n",
              "      <td>Elite Collection</td>\n",
              "      <td>Baby Care &gt;&gt; Baby &amp; Kids Gifts &gt;&gt; Stickers &gt;&gt; Elite Collection Stickers</td>\n",
              "      <td>Baby Care</td>\n",
              "    </tr>\n",
              "  </tbody>\n",
              "</table>\n",
              "<p>23588 rows × 6 columns</p>\n",
              "</div>"
            ],
            "text/plain": [
              "                                  product_name  ...   primary_category\n",
              "0          Alisha Solid Women's Cycling Shorts  ...          Clothing \n",
              "1          Alisha Solid Women's Cycling Shorts  ...  Sleep & Swimwear \n",
              "2          FabHomeDecor Fabric Double Sofa Bed  ...         Furniture \n",
              "3                                   AW Bellies  ...          Footwear \n",
              "4          Alisha Solid Women's Cycling Shorts  ...          Clothing \n",
              "...                                        ...  ...                ...\n",
              "24506           WallDesign Small Vinyl Sticker  ...         Baby Care \n",
              "24507  Wallmantra Large Vinyl Stickers Sticker  ...         Baby Care \n",
              "24508  Elite Collection Medium Acrylic Sticker  ...         Baby Care \n",
              "24509  Elite Collection Medium Acrylic Sticker  ...         Baby Care \n",
              "24510  Elite Collection Medium Acrylic Sticker  ...         Baby Care \n",
              "\n",
              "[23588 rows x 6 columns]"
            ]
          },
          "metadata": {
            "tags": []
          },
          "execution_count": 22
        }
      ]
    },
    {
      "cell_type": "markdown",
      "metadata": {
        "id": "h9oAESK69_GZ"
      },
      "source": [
        "As seen above the number of rows has reduced frm 24511 to 23588, with the missing rows indicative of the categories that we just removed. Now we reset the indices of the dataset, and also display the piechart with all the different categories "
      ]
    },
    {
      "cell_type": "code",
      "metadata": {
        "colab": {
          "base_uri": "https://localhost:8080/",
          "height": 838
        },
        "id": "yr4obgsaFWmo",
        "outputId": "7e597c18-78ae-4bfc-ed52-d15dd711d35a"
      },
      "source": [
        "flipkart_dataset_actual.reset_index(inplace = True)\n",
        "flipkart_dataset_actual"
      ],
      "execution_count": null,
      "outputs": [
        {
          "output_type": "execute_result",
          "data": {
            "text/html": [
              "<div>\n",
              "<style scoped>\n",
              "    .dataframe tbody tr th:only-of-type {\n",
              "        vertical-align: middle;\n",
              "    }\n",
              "\n",
              "    .dataframe tbody tr th {\n",
              "        vertical-align: top;\n",
              "    }\n",
              "\n",
              "    .dataframe thead th {\n",
              "        text-align: right;\n",
              "    }\n",
              "</style>\n",
              "<table border=\"1\" class=\"dataframe\">\n",
              "  <thead>\n",
              "    <tr style=\"text-align: right;\">\n",
              "      <th></th>\n",
              "      <th>index</th>\n",
              "      <th>product_name</th>\n",
              "      <th>pid</th>\n",
              "      <th>description</th>\n",
              "      <th>brand</th>\n",
              "      <th>product_category_tree</th>\n",
              "      <th>primary_category</th>\n",
              "    </tr>\n",
              "  </thead>\n",
              "  <tbody>\n",
              "    <tr>\n",
              "      <th>0</th>\n",
              "      <td>0</td>\n",
              "      <td>Alisha Solid Women's Cycling Shorts</td>\n",
              "      <td>SRTEH2FF9KEDEFGF</td>\n",
              "      <td>Key Features of Alisha Solid Women's Cycling Shorts Cotton Lycra Navy, Red, Navy,Specifications of Alisha Solid Women's Cycling Shorts Shorts Details Number of Contents in Sales Package Pack of 3 Fabric Cotton Lycra Type Cycling Shorts General Details Pattern Solid Ideal For Women's Fabric Care ...</td>\n",
              "      <td>Alisha</td>\n",
              "      <td>Clothing &gt;&gt; Women's Clothing &gt;&gt; Lingerie</td>\n",
              "      <td>Clothing</td>\n",
              "    </tr>\n",
              "    <tr>\n",
              "      <th>1</th>\n",
              "      <td>1</td>\n",
              "      <td>Alisha Solid Women's Cycling Shorts</td>\n",
              "      <td>SRTEH2FF9KEDEFGF</td>\n",
              "      <td>Key Features of Alisha Solid Women's Cycling Shorts Cotton Lycra Navy, Red, Navy,Specifications of Alisha Solid Women's Cycling Shorts Shorts Details Number of Contents in Sales Package Pack of 3 Fabric Cotton Lycra Type Cycling Shorts General Details Pattern Solid Ideal For Women's Fabric Care ...</td>\n",
              "      <td>Alisha</td>\n",
              "      <td>Sleep &amp; Swimwear &gt;&gt; Shorts &gt;&gt; Alisha Shorts &gt;&gt; Alisha Solid Women's Cycling Shorts</td>\n",
              "      <td>Sleep &amp; Swimwear</td>\n",
              "    </tr>\n",
              "    <tr>\n",
              "      <th>2</th>\n",
              "      <td>2</td>\n",
              "      <td>FabHomeDecor Fabric Double Sofa Bed</td>\n",
              "      <td>SBEEH3QGU7MFYJFY</td>\n",
              "      <td>FabHomeDecor Fabric Double Sofa Bed (Finish Color - Leatherette Black Mechanism Type - Pull Out) Price: Rs. 22,646 • Fine deep seating experience • Save Space with the all new click clack Sofa Bed • Easy to fold and vice versa with simple click clack mechanism • Chrome legs with mango wood frame...</td>\n",
              "      <td>FabHomeDecor</td>\n",
              "      <td>Furniture &gt;&gt; Living Room Furniture &gt;&gt; Sofa Beds &amp; Futons &gt;&gt; FabHomeDecor Fabric Double Sofa Bed (Finish Colo...</td>\n",
              "      <td>Furniture</td>\n",
              "    </tr>\n",
              "    <tr>\n",
              "      <th>3</th>\n",
              "      <td>3</td>\n",
              "      <td>AW Bellies</td>\n",
              "      <td>SHOEH4GRSUBJGZXE</td>\n",
              "      <td>Key Features of AW Bellies Sandals Wedges Heel Casuals,AW Bellies Price: Rs. 499 Material: Synthetic Lifestyle: Casual Heel Type: Wedge Warranty Type: Manufacturer Product Warranty against manufacturing defects: 30 days Care instructions: Allow your pair of shoes to air and de-odorize at regular...</td>\n",
              "      <td>AW</td>\n",
              "      <td>Footwear &gt;&gt; Women's Footwear &gt;&gt; Ballerinas &gt;&gt; AW Bellies</td>\n",
              "      <td>Footwear</td>\n",
              "    </tr>\n",
              "    <tr>\n",
              "      <th>4</th>\n",
              "      <td>4</td>\n",
              "      <td>Alisha Solid Women's Cycling Shorts</td>\n",
              "      <td>SRTEH2F6HUZMQ6SJ</td>\n",
              "      <td>Key Features of Alisha Solid Women's Cycling Shorts Cotton Lycra Black, Red,Specifications of Alisha Solid Women's Cycling Shorts Shorts Details Number of Contents in Sales Package Pack of 2 Fabric Cotton Lycra Type Cycling Shorts General Details Pattern Solid Ideal For Women's Fabric Care Gentl...</td>\n",
              "      <td>Alisha</td>\n",
              "      <td>Clothing &gt;&gt; Women's Clothing &gt;&gt; Lingerie</td>\n",
              "      <td>Clothing</td>\n",
              "    </tr>\n",
              "    <tr>\n",
              "      <th>...</th>\n",
              "      <td>...</td>\n",
              "      <td>...</td>\n",
              "      <td>...</td>\n",
              "      <td>...</td>\n",
              "      <td>...</td>\n",
              "      <td>...</td>\n",
              "      <td>...</td>\n",
              "    </tr>\n",
              "    <tr>\n",
              "      <th>23583</th>\n",
              "      <td>24506</td>\n",
              "      <td>WallDesign Small Vinyl Sticker</td>\n",
              "      <td>STIE7KFJAKSTDY9G</td>\n",
              "      <td>Buy WallDesign Small Vinyl Sticker for Rs.730 online. WallDesign Small Vinyl Sticker at best prices with FREE shipping &amp; cash on delivery. Only Genuine Products. 30 Day Replacement Guarantee.</td>\n",
              "      <td>WallDesign</td>\n",
              "      <td>Baby Care &gt;&gt; Baby &amp; Kids Gifts &gt;&gt; Stickers &gt;&gt; WallDesign Stickers</td>\n",
              "      <td>Baby Care</td>\n",
              "    </tr>\n",
              "    <tr>\n",
              "      <th>23584</th>\n",
              "      <td>24507</td>\n",
              "      <td>Wallmantra Large Vinyl Stickers Sticker</td>\n",
              "      <td>STIE9F5URNQGJCGH</td>\n",
              "      <td>Buy Wallmantra Large Vinyl Stickers Sticker for Rs.1143 online. Wallmantra Large Vinyl Stickers Sticker at best prices with FREE shipping &amp; cash on delivery. Only Genuine Products. 30 Day Replacement Guarantee.</td>\n",
              "      <td>Wallmantra</td>\n",
              "      <td>Baby Care &gt;&gt; Baby &amp; Kids Gifts &gt;&gt; Stickers &gt;&gt; Wallmantra Stickers</td>\n",
              "      <td>Baby Care</td>\n",
              "    </tr>\n",
              "    <tr>\n",
              "      <th>23585</th>\n",
              "      <td>24508</td>\n",
              "      <td>Elite Collection Medium Acrylic Sticker</td>\n",
              "      <td>STIE7VAYDKQZEBSD</td>\n",
              "      <td>Buy Elite Collection Medium Acrylic Sticker for Rs.999 online. Elite Collection Medium Acrylic Sticker at best prices with FREE shipping &amp; cash on delivery. Only Genuine Products. 30 Day Replacement Guarantee.</td>\n",
              "      <td>Elite Collection</td>\n",
              "      <td>Baby Care &gt;&gt; Baby &amp; Kids Gifts &gt;&gt; Stickers &gt;&gt; Elite Collection Stickers</td>\n",
              "      <td>Baby Care</td>\n",
              "    </tr>\n",
              "    <tr>\n",
              "      <th>23586</th>\n",
              "      <td>24509</td>\n",
              "      <td>Elite Collection Medium Acrylic Sticker</td>\n",
              "      <td>STIE8YSVEPPCZ42Y</td>\n",
              "      <td>Buy Elite Collection Medium Acrylic Sticker for Rs.1199 online. Elite Collection Medium Acrylic Sticker at best prices with FREE shipping &amp; cash on delivery. Only Genuine Products. 30 Day Replacement Guarantee.</td>\n",
              "      <td>Elite Collection</td>\n",
              "      <td>Baby Care &gt;&gt; Baby &amp; Kids Gifts &gt;&gt; Stickers &gt;&gt; Elite Collection Stickers</td>\n",
              "      <td>Baby Care</td>\n",
              "    </tr>\n",
              "    <tr>\n",
              "      <th>23587</th>\n",
              "      <td>24510</td>\n",
              "      <td>Elite Collection Medium Acrylic Sticker</td>\n",
              "      <td>STIE88KN9ZDSGZKY</td>\n",
              "      <td>Buy Elite Collection Medium Acrylic Sticker for Rs.999 online. Elite Collection Medium Acrylic Sticker at best prices with FREE shipping &amp; cash on delivery. Only Genuine Products. 30 Day Replacement Guarantee.</td>\n",
              "      <td>Elite Collection</td>\n",
              "      <td>Baby Care &gt;&gt; Baby &amp; Kids Gifts &gt;&gt; Stickers &gt;&gt; Elite Collection Stickers</td>\n",
              "      <td>Baby Care</td>\n",
              "    </tr>\n",
              "  </tbody>\n",
              "</table>\n",
              "<p>23588 rows × 7 columns</p>\n",
              "</div>"
            ],
            "text/plain": [
              "       index  ...   primary_category\n",
              "0          0  ...          Clothing \n",
              "1          1  ...  Sleep & Swimwear \n",
              "2          2  ...         Furniture \n",
              "3          3  ...          Footwear \n",
              "4          4  ...          Clothing \n",
              "...      ...  ...                ...\n",
              "23583  24506  ...         Baby Care \n",
              "23584  24507  ...         Baby Care \n",
              "23585  24508  ...         Baby Care \n",
              "23586  24509  ...         Baby Care \n",
              "23587  24510  ...         Baby Care \n",
              "\n",
              "[23588 rows x 7 columns]"
            ]
          },
          "metadata": {
            "tags": []
          },
          "execution_count": 23
        }
      ]
    },
    {
      "cell_type": "code",
      "metadata": {
        "colab": {
          "base_uri": "https://localhost:8080/",
          "height": 265
        },
        "id": "I3PlDPA8GC5h",
        "outputId": "070a8358-dd23-4014-e8e1-6578184be357"
      },
      "source": [
        "flipkart_dataset_actual.primary_category.value_counts().plot(kind='pie')"
      ],
      "execution_count": null,
      "outputs": [
        {
          "output_type": "execute_result",
          "data": {
            "text/plain": [
              "<matplotlib.axes._subplots.AxesSubplot at 0x7fa621a8e750>"
            ]
          },
          "metadata": {
            "tags": []
          },
          "execution_count": 24
        },
        {
          "output_type": "display_data",
          "data": {
            "image/png": "[encoded data removed]",
            "text/plain": [
              "<Figure size 432x288 with 1 Axes>"
            ]
          },
          "metadata": {
            "tags": []
          }
        }
      ]
    },
    {
      "cell_type": "code",
      "metadata": {
        "colab": {
          "base_uri": "https://localhost:8080/",
          "height": 457
        },
        "id": "cYF5T_a8GYvv",
        "outputId": "644be606-e2a5-4474-8e7a-f038aaf150ff"
      },
      "source": [
        "flipkart_dataset_actual.primary_category.value_counts().plot(kind='bar')"
      ],
      "execution_count": null,
      "outputs": [
        {
          "output_type": "execute_result",
          "data": {
            "text/plain": [
              "<matplotlib.axes._subplots.AxesSubplot at 0x7fa621ba8350>"
            ]
          },
          "metadata": {
            "tags": []
          },
          "execution_count": 25
        },
        {
          "output_type": "display_data",
          "data": {
            "image/png": "[encoded data removed]",
            "text/plain": [
              "<Figure size 432x288 with 1 Axes>"
            ]
          },
          "metadata": {
            "tags": [],
            "needs_background": "light"
          }
        }
      ]
    },
    {
      "cell_type": "code",
      "metadata": {
        "colab": {
          "base_uri": "https://localhost:8080/"
        },
        "id": "mmvKukKprouh",
        "outputId": "6e2cb439-97e4-4b96-c2b1-19a46fb2f8b3"
      },
      "source": [
        "flipkart_dataset_actual.primary_category.value_counts()"
      ],
      "execution_count": null,
      "outputs": [
        {
          "output_type": "execute_result",
          "data": {
            "text/plain": [
              "Clothing                                6198\n",
              "Jewellery                               3531\n",
              "Tops & Tunics                           1251\n",
              "Footwear                                1227\n",
              "Sleep & Swimwear                        1212\n",
              "Mobiles & Accessories                   1099\n",
              "Automotive                              1012\n",
              "Home Decor & Festive Needs               929\n",
              "Bracelets & Armlets                      724\n",
              "Beauty and Personal Care                 710\n",
              "Home Furnishing                          700\n",
              "Kitchen & Dining                         647\n",
              "Computers                                578\n",
              "Watches                                  530\n",
              "Baby Care                                483\n",
              "Tools & Hardware                         391\n",
              "Toys & School Supplies                   330\n",
              "Pens & Stationery                        313\n",
              "Wallets & Belts                          265\n",
              "Bags                                     265\n",
              "Quilts & Dohars                          190\n",
              "Furniture                                180\n",
              "Sports & Fitness                         166\n",
              "Pillows & Covers                          95\n",
              "...                                       82\n",
              "Cameras & Accessories                     82\n",
              "Home Improvement                          81\n",
              "Pen & Pencil boxes                        69\n",
              "Health & Personal Care Appliances         43\n",
              "Plants & Vases                            35\n",
              "Sunglasses                                35\n",
              "Gaming                                    35\n",
              "Pet Supplies                              30\n",
              "3.9a Replacement Charger for Vaio...      25\n",
              "Home & Kitchen                            24\n",
              "Shorts & 3/4ths                           21\n",
              "Name: primary_category, dtype: int64"
            ]
          },
          "metadata": {
            "tags": []
          },
          "execution_count": 26
        }
      ]
    },
    {
      "cell_type": "markdown",
      "metadata": {
        "id": "3jf1IOjetlTW"
      },
      "source": [
        "There are two categories above which we look at -<br/>\n",
        "* The first is the category *'...'* which has 82 products in it. This isn't actually a category name and needs to be droppped.\n",
        "* The second is the category *'3.9a Replacement Charger for Vaio...'* -  This again isn't actually a product category, but rather reads like a subcategory (Replacament chargers should probably come under Mobiles & Accesories). So we need to drop this category as well "
      ]
    },
    {
      "cell_type": "code",
      "metadata": {
        "id": "6LDnZcwsu-IC"
      },
      "source": [
        "flipkart_dataset_actual = flipkart_dataset_actual[(flipkart_dataset_actual.primary_category != '...') & (flipkart_dataset_actual.primary_category != '3.9a Replacement Charger for Vaio...')]"
      ],
      "execution_count": null,
      "outputs": []
    },
    {
      "cell_type": "code",
      "metadata": {
        "colab": {
          "base_uri": "https://localhost:8080/"
        },
        "id": "OUtoaYIR1gu8",
        "outputId": "b4827938-8dbd-4b94-a192-a089052e5d4e"
      },
      "source": [
        "flipkart_dataset_actual.primary_category.value_counts()"
      ],
      "execution_count": null,
      "outputs": [
        {
          "output_type": "execute_result",
          "data": {
            "text/plain": [
              "Clothing                              6198\n",
              "Jewellery                             3531\n",
              "Tops & Tunics                         1251\n",
              "Footwear                              1227\n",
              "Sleep & Swimwear                      1212\n",
              "Mobiles & Accessories                 1099\n",
              "Automotive                            1012\n",
              "Home Decor & Festive Needs             929\n",
              "Bracelets & Armlets                    724\n",
              "Beauty and Personal Care               710\n",
              "Home Furnishing                        700\n",
              "Kitchen & Dining                       647\n",
              "Computers                              578\n",
              "Watches                                530\n",
              "Baby Care                              483\n",
              "Tools & Hardware                       391\n",
              "Toys & School Supplies                 330\n",
              "Pens & Stationery                      313\n",
              "Bags                                   265\n",
              "Wallets & Belts                        265\n",
              "Quilts & Dohars                        190\n",
              "Furniture                              180\n",
              "Sports & Fitness                       166\n",
              "Pillows & Covers                        95\n",
              "Cameras & Accessories                   82\n",
              "Home Improvement                        81\n",
              "Pen & Pencil boxes                      69\n",
              "Health & Personal Care Appliances       43\n",
              "Sunglasses                              35\n",
              "Gaming                                  35\n",
              "Plants & Vases                          35\n",
              "Pet Supplies                            30\n",
              "Home & Kitchen                          24\n",
              "Shorts & 3/4ths                         21\n",
              "Name: primary_category, dtype: int64"
            ]
          },
          "metadata": {
            "tags": []
          },
          "execution_count": 28
        }
      ]
    },
    {
      "cell_type": "markdown",
      "metadata": {
        "id": "UMGFPEat1nTT"
      },
      "source": [
        "We have now have a total of 34 primary categories that all the products belong to. Since we have extracted the primary category for all products, the next task is to *pre-process the text description in a manner that will be suitable for us to feed into the model*"
      ]
    },
    {
      "cell_type": "markdown",
      "metadata": {
        "id": "RNfDdfUarmmF"
      },
      "source": [
        "### **Preprocessing the product descriptions**\n"
      ]
    },
    {
      "cell_type": "markdown",
      "metadata": {
        "id": "2W7Le7r7L5N0"
      },
      "source": [
        "The first thing to do is to *create a new dataset* which initally only *contains the product descriptions* . These transformations are first done in a separate dataset instead of in the original dataset itself to ensure that some operation performed by mistake doesn't change the original dataset"
      ]
    },
    {
      "cell_type": "code",
      "metadata": {
        "colab": {
          "base_uri": "https://localhost:8080/",
          "height": 1000
        },
        "id": "gHM4T056rdy_",
        "outputId": "9329aca2-6ce0-4287-8aae-e174f65f59c3"
      },
      "source": [
        "flipkart_dataset_actual[\"description_converted\"] = flipkart_dataset_actual[\"description\"].astype(str)\n",
        "flipkart_dataset_actual.head()"
      ],
      "execution_count": null,
      "outputs": [
        {
          "output_type": "stream",
          "text": [
            "/usr/local/lib/python3.7/dist-packages/ipykernel_launcher.py:1: SettingWithCopyWarning: \n",
            "A value is trying to be set on a copy of a slice from a DataFrame.\n",
            "Try using .loc[row_indexer,col_indexer] = value instead\n",
            "\n",
            "See the caveats in the documentation: https://pandas.pydata.org/pandas-docs/stable/user_guide/indexing.html#returning-a-view-versus-a-copy\n",
            "  \"\"\"Entry point for launching an IPython kernel.\n"
          ],
          "name": "stderr"
        },
        {
          "output_type": "execute_result",
          "data": {
            "text/html": [
              "<div>\n",
              "<style scoped>\n",
              "    .dataframe tbody tr th:only-of-type {\n",
              "        vertical-align: middle;\n",
              "    }\n",
              "\n",
              "    .dataframe tbody tr th {\n",
              "        vertical-align: top;\n",
              "    }\n",
              "\n",
              "    .dataframe thead th {\n",
              "        text-align: right;\n",
              "    }\n",
              "</style>\n",
              "<table border=\"1\" class=\"dataframe\">\n",
              "  <thead>\n",
              "    <tr style=\"text-align: right;\">\n",
              "      <th></th>\n",
              "      <th>index</th>\n",
              "      <th>product_name</th>\n",
              "      <th>pid</th>\n",
              "      <th>description</th>\n",
              "      <th>brand</th>\n",
              "      <th>product_category_tree</th>\n",
              "      <th>primary_category</th>\n",
              "      <th>description_converted</th>\n",
              "    </tr>\n",
              "  </thead>\n",
              "  <tbody>\n",
              "    <tr>\n",
              "      <th>0</th>\n",
              "      <td>0</td>\n",
              "      <td>Alisha Solid Women's Cycling Shorts</td>\n",
              "      <td>SRTEH2FF9KEDEFGF</td>\n",
              "      <td>Key Features of Alisha Solid Women's Cycling Shorts Cotton Lycra Navy, Red, Navy,Specifications of Alisha Solid Women's Cycling Shorts Shorts Details Number of Contents in Sales Package Pack of 3 Fabric Cotton Lycra Type Cycling Shorts General Details Pattern Solid Ideal For Women's Fabric Care ...</td>\n",
              "      <td>Alisha</td>\n",
              "      <td>Clothing &gt;&gt; Women's Clothing &gt;&gt; Lingerie</td>\n",
              "      <td>Clothing</td>\n",
              "      <td>Key Features of Alisha Solid Women's Cycling Shorts Cotton Lycra Navy, Red, Navy,Specifications of Alisha Solid Women's Cycling Shorts Shorts Details Number of Contents in Sales Package Pack of 3 Fabric Cotton Lycra Type Cycling Shorts General Details Pattern Solid Ideal For Women's Fabric Care ...</td>\n",
              "    </tr>\n",
              "    <tr>\n",
              "      <th>1</th>\n",
              "      <td>1</td>\n",
              "      <td>Alisha Solid Women's Cycling Shorts</td>\n",
              "      <td>SRTEH2FF9KEDEFGF</td>\n",
              "      <td>Key Features of Alisha Solid Women's Cycling Shorts Cotton Lycra Navy, Red, Navy,Specifications of Alisha Solid Women's Cycling Shorts Shorts Details Number of Contents in Sales Package Pack of 3 Fabric Cotton Lycra Type Cycling Shorts General Details Pattern Solid Ideal For Women's Fabric Care ...</td>\n",
              "      <td>Alisha</td>\n",
              "      <td>Sleep &amp; Swimwear &gt;&gt; Shorts &gt;&gt; Alisha Shorts &gt;&gt; Alisha Solid Women's Cycling Shorts</td>\n",
              "      <td>Sleep &amp; Swimwear</td>\n",
              "      <td>Key Features of Alisha Solid Women's Cycling Shorts Cotton Lycra Navy, Red, Navy,Specifications of Alisha Solid Women's Cycling Shorts Shorts Details Number of Contents in Sales Package Pack of 3 Fabric Cotton Lycra Type Cycling Shorts General Details Pattern Solid Ideal For Women's Fabric Care ...</td>\n",
              "    </tr>\n",
              "    <tr>\n",
              "      <th>2</th>\n",
              "      <td>2</td>\n",
              "      <td>FabHomeDecor Fabric Double Sofa Bed</td>\n",
              "      <td>SBEEH3QGU7MFYJFY</td>\n",
              "      <td>FabHomeDecor Fabric Double Sofa Bed (Finish Color - Leatherette Black Mechanism Type - Pull Out) Price: Rs. 22,646 • Fine deep seating experience • Save Space with the all new click clack Sofa Bed • Easy to fold and vice versa with simple click clack mechanism • Chrome legs with mango wood frame...</td>\n",
              "      <td>FabHomeDecor</td>\n",
              "      <td>Furniture &gt;&gt; Living Room Furniture &gt;&gt; Sofa Beds &amp; Futons &gt;&gt; FabHomeDecor Fabric Double Sofa Bed (Finish Colo...</td>\n",
              "      <td>Furniture</td>\n",
              "      <td>FabHomeDecor Fabric Double Sofa Bed (Finish Color - Leatherette Black Mechanism Type - Pull Out) Price: Rs. 22,646 • Fine deep seating experience • Save Space with the all new click clack Sofa Bed • Easy to fold and vice versa with simple click clack mechanism • Chrome legs with mango wood frame...</td>\n",
              "    </tr>\n",
              "    <tr>\n",
              "      <th>3</th>\n",
              "      <td>3</td>\n",
              "      <td>AW Bellies</td>\n",
              "      <td>SHOEH4GRSUBJGZXE</td>\n",
              "      <td>Key Features of AW Bellies Sandals Wedges Heel Casuals,AW Bellies Price: Rs. 499 Material: Synthetic Lifestyle: Casual Heel Type: Wedge Warranty Type: Manufacturer Product Warranty against manufacturing defects: 30 days Care instructions: Allow your pair of shoes to air and de-odorize at regular...</td>\n",
              "      <td>AW</td>\n",
              "      <td>Footwear &gt;&gt; Women's Footwear &gt;&gt; Ballerinas &gt;&gt; AW Bellies</td>\n",
              "      <td>Footwear</td>\n",
              "      <td>Key Features of AW Bellies Sandals Wedges Heel Casuals,AW Bellies Price: Rs. 499 Material: Synthetic Lifestyle: Casual Heel Type: Wedge Warranty Type: Manufacturer Product Warranty against manufacturing defects: 30 days Care instructions: Allow your pair of shoes to air and de-odorize at regular...</td>\n",
              "    </tr>\n",
              "    <tr>\n",
              "      <th>4</th>\n",
              "      <td>4</td>\n",
              "      <td>Alisha Solid Women's Cycling Shorts</td>\n",
              "      <td>SRTEH2F6HUZMQ6SJ</td>\n",
              "      <td>Key Features of Alisha Solid Women's Cycling Shorts Cotton Lycra Black, Red,Specifications of Alisha Solid Women's Cycling Shorts Shorts Details Number of Contents in Sales Package Pack of 2 Fabric Cotton Lycra Type Cycling Shorts General Details Pattern Solid Ideal For Women's Fabric Care Gentl...</td>\n",
              "      <td>Alisha</td>\n",
              "      <td>Clothing &gt;&gt; Women's Clothing &gt;&gt; Lingerie</td>\n",
              "      <td>Clothing</td>\n",
              "      <td>Key Features of Alisha Solid Women's Cycling Shorts Cotton Lycra Black, Red,Specifications of Alisha Solid Women's Cycling Shorts Shorts Details Number of Contents in Sales Package Pack of 2 Fabric Cotton Lycra Type Cycling Shorts General Details Pattern Solid Ideal For Women's Fabric Care Gentl...</td>\n",
              "    </tr>\n",
              "  </tbody>\n",
              "</table>\n",
              "</div>"
            ],
            "text/plain": [
              "   index  ...                                                                                                                                                                                                                                                                                        description_converted\n",
              "0      0  ...  Key Features of Alisha Solid Women's Cycling Shorts Cotton Lycra Navy, Red, Navy,Specifications of Alisha Solid Women's Cycling Shorts Shorts Details Number of Contents in Sales Package Pack of 3 Fabric Cotton Lycra Type Cycling Shorts General Details Pattern Solid Ideal For Women's Fabric Care ...\n",
              "1      1  ...  Key Features of Alisha Solid Women's Cycling Shorts Cotton Lycra Navy, Red, Navy,Specifications of Alisha Solid Women's Cycling Shorts Shorts Details Number of Contents in Sales Package Pack of 3 Fabric Cotton Lycra Type Cycling Shorts General Details Pattern Solid Ideal For Women's Fabric Care ...\n",
              "2      2  ...  FabHomeDecor Fabric Double Sofa Bed (Finish Color - Leatherette Black Mechanism Type - Pull Out) Price: Rs. 22,646 • Fine deep seating experience • Save Space with the all new click clack Sofa Bed • Easy to fold and vice versa with simple click clack mechanism • Chrome legs with mango wood frame...\n",
              "3      3  ...  Key Features of AW Bellies Sandals Wedges Heel Casuals,AW Bellies Price: Rs. 499 Material: Synthetic Lifestyle: Casual Heel Type: Wedge Warranty Type: Manufacturer Product Warranty against manufacturing defects: 30 days Care instructions: Allow your pair of shoes to air and de-odorize at regular...\n",
              "4      4  ...  Key Features of Alisha Solid Women's Cycling Shorts Cotton Lycra Black, Red,Specifications of Alisha Solid Women's Cycling Shorts Shorts Details Number of Contents in Sales Package Pack of 2 Fabric Cotton Lycra Type Cycling Shorts General Details Pattern Solid Ideal For Women's Fabric Care Gentl...\n",
              "\n",
              "[5 rows x 8 columns]"
            ]
          },
          "metadata": {
            "tags": []
          },
          "execution_count": 49
        }
      ]
    },
    {
      "cell_type": "markdown",
      "metadata": {
        "id": "nOl2i-3NSH_I"
      },
      "source": [
        "**We convert all the *descriptions to lower case* using the desc_lowercase**"
      ]
    },
    {
      "cell_type": "code",
      "metadata": {
        "colab": {
          "base_uri": "https://localhost:8080/",
          "height": 1000
        },
        "id": "g_oLLHqURBin",
        "outputId": "ae98ff7c-ff41-4f1a-d225-9f324b1ff17e"
      },
      "source": [
        "flipkart_dataset_actual[\"description_converted\"] = flipkart_dataset_actual[\"description_converted\"].str.lower()\n",
        "flipkart_dataset_actual.head()"
      ],
      "execution_count": null,
      "outputs": [
        {
          "output_type": "stream",
          "text": [
            "/usr/local/lib/python3.7/dist-packages/ipykernel_launcher.py:1: SettingWithCopyWarning: \n",
            "A value is trying to be set on a copy of a slice from a DataFrame.\n",
            "Try using .loc[row_indexer,col_indexer] = value instead\n",
            "\n",
            "See the caveats in the documentation: https://pandas.pydata.org/pandas-docs/stable/user_guide/indexing.html#returning-a-view-versus-a-copy\n",
            "  \"\"\"Entry point for launching an IPython kernel.\n"
          ],
          "name": "stderr"
        },
        {
          "output_type": "execute_result",
          "data": {
            "text/html": [
              "<div>\n",
              "<style scoped>\n",
              "    .dataframe tbody tr th:only-of-type {\n",
              "        vertical-align: middle;\n",
              "    }\n",
              "\n",
              "    .dataframe tbody tr th {\n",
              "        vertical-align: top;\n",
              "    }\n",
              "\n",
              "    .dataframe thead th {\n",
              "        text-align: right;\n",
              "    }\n",
              "</style>\n",
              "<table border=\"1\" class=\"dataframe\">\n",
              "  <thead>\n",
              "    <tr style=\"text-align: right;\">\n",
              "      <th></th>\n",
              "      <th>index</th>\n",
              "      <th>product_name</th>\n",
              "      <th>pid</th>\n",
              "      <th>description</th>\n",
              "      <th>brand</th>\n",
              "      <th>product_category_tree</th>\n",
              "      <th>primary_category</th>\n",
              "      <th>description_converted</th>\n",
              "    </tr>\n",
              "  </thead>\n",
              "  <tbody>\n",
              "    <tr>\n",
              "      <th>0</th>\n",
              "      <td>0</td>\n",
              "      <td>Alisha Solid Women's Cycling Shorts</td>\n",
              "      <td>SRTEH2FF9KEDEFGF</td>\n",
              "      <td>Key Features of Alisha Solid Women's Cycling Shorts Cotton Lycra Navy, Red, Navy,Specifications of Alisha Solid Women's Cycling Shorts Shorts Details Number of Contents in Sales Package Pack of 3 Fabric Cotton Lycra Type Cycling Shorts General Details Pattern Solid Ideal For Women's Fabric Care ...</td>\n",
              "      <td>Alisha</td>\n",
              "      <td>Clothing &gt;&gt; Women's Clothing &gt;&gt; Lingerie</td>\n",
              "      <td>Clothing</td>\n",
              "      <td>key features of alisha solid women's cycling shorts cotton lycra navy, red, navy,specifications of alisha solid women's cycling shorts shorts details number of contents in sales package pack of 3 fabric cotton lycra type cycling shorts general details pattern solid ideal for women's fabric care ...</td>\n",
              "    </tr>\n",
              "    <tr>\n",
              "      <th>1</th>\n",
              "      <td>1</td>\n",
              "      <td>Alisha Solid Women's Cycling Shorts</td>\n",
              "      <td>SRTEH2FF9KEDEFGF</td>\n",
              "      <td>Key Features of Alisha Solid Women's Cycling Shorts Cotton Lycra Navy, Red, Navy,Specifications of Alisha Solid Women's Cycling Shorts Shorts Details Number of Contents in Sales Package Pack of 3 Fabric Cotton Lycra Type Cycling Shorts General Details Pattern Solid Ideal For Women's Fabric Care ...</td>\n",
              "      <td>Alisha</td>\n",
              "      <td>Sleep &amp; Swimwear &gt;&gt; Shorts &gt;&gt; Alisha Shorts &gt;&gt; Alisha Solid Women's Cycling Shorts</td>\n",
              "      <td>Sleep &amp; Swimwear</td>\n",
              "      <td>key features of alisha solid women's cycling shorts cotton lycra navy, red, navy,specifications of alisha solid women's cycling shorts shorts details number of contents in sales package pack of 3 fabric cotton lycra type cycling shorts general details pattern solid ideal for women's fabric care ...</td>\n",
              "    </tr>\n",
              "    <tr>\n",
              "      <th>2</th>\n",
              "      <td>2</td>\n",
              "      <td>FabHomeDecor Fabric Double Sofa Bed</td>\n",
              "      <td>SBEEH3QGU7MFYJFY</td>\n",
              "      <td>FabHomeDecor Fabric Double Sofa Bed (Finish Color - Leatherette Black Mechanism Type - Pull Out) Price: Rs. 22,646 • Fine deep seating experience • Save Space with the all new click clack Sofa Bed • Easy to fold and vice versa with simple click clack mechanism • Chrome legs with mango wood frame...</td>\n",
              "      <td>FabHomeDecor</td>\n",
              "      <td>Furniture &gt;&gt; Living Room Furniture &gt;&gt; Sofa Beds &amp; Futons &gt;&gt; FabHomeDecor Fabric Double Sofa Bed (Finish Colo...</td>\n",
              "      <td>Furniture</td>\n",
              "      <td>fabhomedecor fabric double sofa bed (finish color - leatherette black mechanism type - pull out) price: rs. 22,646 • fine deep seating experience • save space with the all new click clack sofa bed • easy to fold and vice versa with simple click clack mechanism • chrome legs with mango wood frame...</td>\n",
              "    </tr>\n",
              "    <tr>\n",
              "      <th>3</th>\n",
              "      <td>3</td>\n",
              "      <td>AW Bellies</td>\n",
              "      <td>SHOEH4GRSUBJGZXE</td>\n",
              "      <td>Key Features of AW Bellies Sandals Wedges Heel Casuals,AW Bellies Price: Rs. 499 Material: Synthetic Lifestyle: Casual Heel Type: Wedge Warranty Type: Manufacturer Product Warranty against manufacturing defects: 30 days Care instructions: Allow your pair of shoes to air and de-odorize at regular...</td>\n",
              "      <td>AW</td>\n",
              "      <td>Footwear &gt;&gt; Women's Footwear &gt;&gt; Ballerinas &gt;&gt; AW Bellies</td>\n",
              "      <td>Footwear</td>\n",
              "      <td>key features of aw bellies sandals wedges heel casuals,aw bellies price: rs. 499 material: synthetic lifestyle: casual heel type: wedge warranty type: manufacturer product warranty against manufacturing defects: 30 days care instructions: allow your pair of shoes to air and de-odorize at regular...</td>\n",
              "    </tr>\n",
              "    <tr>\n",
              "      <th>4</th>\n",
              "      <td>4</td>\n",
              "      <td>Alisha Solid Women's Cycling Shorts</td>\n",
              "      <td>SRTEH2F6HUZMQ6SJ</td>\n",
              "      <td>Key Features of Alisha Solid Women's Cycling Shorts Cotton Lycra Black, Red,Specifications of Alisha Solid Women's Cycling Shorts Shorts Details Number of Contents in Sales Package Pack of 2 Fabric Cotton Lycra Type Cycling Shorts General Details Pattern Solid Ideal For Women's Fabric Care Gentl...</td>\n",
              "      <td>Alisha</td>\n",
              "      <td>Clothing &gt;&gt; Women's Clothing &gt;&gt; Lingerie</td>\n",
              "      <td>Clothing</td>\n",
              "      <td>key features of alisha solid women's cycling shorts cotton lycra black, red,specifications of alisha solid women's cycling shorts shorts details number of contents in sales package pack of 2 fabric cotton lycra type cycling shorts general details pattern solid ideal for women's fabric care gentl...</td>\n",
              "    </tr>\n",
              "  </tbody>\n",
              "</table>\n",
              "</div>"
            ],
            "text/plain": [
              "   index  ...                                                                                                                                                                                                                                                                                        description_converted\n",
              "0      0  ...  key features of alisha solid women's cycling shorts cotton lycra navy, red, navy,specifications of alisha solid women's cycling shorts shorts details number of contents in sales package pack of 3 fabric cotton lycra type cycling shorts general details pattern solid ideal for women's fabric care ...\n",
              "1      1  ...  key features of alisha solid women's cycling shorts cotton lycra navy, red, navy,specifications of alisha solid women's cycling shorts shorts details number of contents in sales package pack of 3 fabric cotton lycra type cycling shorts general details pattern solid ideal for women's fabric care ...\n",
              "2      2  ...  fabhomedecor fabric double sofa bed (finish color - leatherette black mechanism type - pull out) price: rs. 22,646 • fine deep seating experience • save space with the all new click clack sofa bed • easy to fold and vice versa with simple click clack mechanism • chrome legs with mango wood frame...\n",
              "3      3  ...  key features of aw bellies sandals wedges heel casuals,aw bellies price: rs. 499 material: synthetic lifestyle: casual heel type: wedge warranty type: manufacturer product warranty against manufacturing defects: 30 days care instructions: allow your pair of shoes to air and de-odorize at regular...\n",
              "4      4  ...  key features of alisha solid women's cycling shorts cotton lycra black, red,specifications of alisha solid women's cycling shorts shorts details number of contents in sales package pack of 2 fabric cotton lycra type cycling shorts general details pattern solid ideal for women's fabric care gentl...\n",
              "\n",
              "[5 rows x 8 columns]"
            ]
          },
          "metadata": {
            "tags": []
          },
          "execution_count": 50
        }
      ]
    },
    {
      "cell_type": "markdown",
      "metadata": {
        "id": "VzKkcRyoRj56"
      },
      "source": [
        "**Removing the puncuations from the *desc_lowercase column* and adding that to a new column called desc_lower_wopunc.**\n",
        "In this we replace all the punctuations with spaces. This is because in a lot of places the commas are not followed by spaces, so removing the punctuations would lead to certain words being joined together instead of being separated by spaces.\n",
        "We can then process this text by removing multiple spaces"
      ]
    },
    {
      "cell_type": "code",
      "metadata": {
        "id": "-3AyapicYWgn"
      },
      "source": [
        "def remove_punctuation(text) :\n",
        " return text.translate(str.maketrans(string.punctuation,' '*len(string.punctuation)))\n",
        "\n",
        "flipkart_dataset_actual[\"description_converted\"] = flipkart_dataset_actual[\"description_converted\"].apply(lambda text : remove_punctuation(text))"
      ],
      "execution_count": null,
      "outputs": []
    },
    {
      "cell_type": "code",
      "metadata": {
        "colab": {
          "base_uri": "https://localhost:8080/",
          "height": 69
        },
        "id": "ndN8-QdIbbwS",
        "outputId": "b075db0e-bb0c-4d8c-847f-2920d09240b7"
      },
      "source": [
        "flipkart_dataset_actual[\"description_converted\"][0]"
      ],
      "execution_count": null,
      "outputs": [
        {
          "output_type": "execute_result",
          "data": {
            "application/vnd.google.colaboratory.intrinsic+json": {
              "type": "string"
            },
            "text/plain": [
              "'key features of alisha solid women s cycling shorts cotton lycra navy  red  navy specifications of alisha solid women s cycling shorts shorts details number of contents in sales package pack of 3 fabric cotton lycra type cycling shorts general details pattern solid ideal for women s fabric care gentle machine wash in lukewarm water  do not bleach additional details style code altht 3p 21 in the box 3 shorts'"
            ]
          },
          "metadata": {
            "tags": []
          },
          "execution_count": 52
        }
      ]
    },
    {
      "cell_type": "markdown",
      "metadata": {
        "id": "PrT9WIk5DuTe"
      },
      "source": [
        "As seen above there are two spaces in some of the descriptions (for example it says '*navy  red*' instead of '*navy red*'). We remove all the multiple spaces in the string using a regex command. "
      ]
    },
    {
      "cell_type": "code",
      "metadata": {
        "colab": {
          "base_uri": "https://localhost:8080/",
          "height": 170
        },
        "id": "Gsf48sbDERs3",
        "outputId": "eb37fc9f-9d67-490f-e85a-bcfb438a2e99"
      },
      "source": [
        "flipkart_dataset_actual[\"description_converted\"] = flipkart_dataset_actual[\"description_converted\"].apply(lambda text : re.sub(' +', ' ', text))\n",
        "flipkart_dataset_actual[\"description_converted\"][0]"
      ],
      "execution_count": null,
      "outputs": [
        {
          "output_type": "stream",
          "text": [
            "/usr/local/lib/python3.7/dist-packages/ipykernel_launcher.py:1: SettingWithCopyWarning: \n",
            "A value is trying to be set on a copy of a slice from a DataFrame.\n",
            "Try using .loc[row_indexer,col_indexer] = value instead\n",
            "\n",
            "See the caveats in the documentation: https://pandas.pydata.org/pandas-docs/stable/user_guide/indexing.html#returning-a-view-versus-a-copy\n",
            "  \"\"\"Entry point for launching an IPython kernel.\n"
          ],
          "name": "stderr"
        },
        {
          "output_type": "execute_result",
          "data": {
            "application/vnd.google.colaboratory.intrinsic+json": {
              "type": "string"
            },
            "text/plain": [
              "'key features of alisha solid women s cycling shorts cotton lycra navy red navy specifications of alisha solid women s cycling shorts shorts details number of contents in sales package pack of 3 fabric cotton lycra type cycling shorts general details pattern solid ideal for women s fabric care gentle machine wash in lukewarm water do not bleach additional details style code altht 3p 21 in the box 3 shorts'"
            ]
          },
          "metadata": {
            "tags": []
          },
          "execution_count": 53
        }
      ]
    },
    {
      "cell_type": "markdown",
      "metadata": {
        "id": "fp-KlZv1vwMW"
      },
      "source": [
        "In the above text data all the "
      ]
    },
    {
      "cell_type": "markdown",
      "metadata": {
        "id": "_W07Ev7oGPTU"
      },
      "source": [
        "**Removing the stopwords**<br/>\n",
        "Stop words are words if,and,an,...,etc. which don't contribute towards the final meaning of a sentence. While they are important synctactically in most situations they aren't necessary to find the meaning of the word. Hence, removing them won't affect our final prediction "
      ]
    },
    {
      "cell_type": "code",
      "metadata": {
        "colab": {
          "base_uri": "https://localhost:8080/",
          "height": 170
        },
        "id": "2OKydeE0LLiY",
        "outputId": "9ce89189-e553-4751-d96a-cd527843175d"
      },
      "source": [
        "#First we look at all the stopwords defined in nltk \n",
        "nltk.download('stopwords')\n",
        "from nltk.corpus import stopwords\n",
        "\", \".join(stopwords.words('english'))"
      ],
      "execution_count": null,
      "outputs": [
        {
          "output_type": "stream",
          "text": [
            "[nltk_data] Downloading package stopwords to /root/nltk_data...\n",
            "[nltk_data]   Package stopwords is already up-to-date!\n"
          ],
          "name": "stdout"
        },
        {
          "output_type": "execute_result",
          "data": {
            "application/vnd.google.colaboratory.intrinsic+json": {
              "type": "string"
            },
            "text/plain": [
              "\"i, me, my, myself, we, our, ours, ourselves, you, you're, you've, you'll, you'd, your, yours, yourself, yourselves, he, him, his, himself, she, she's, her, hers, herself, it, it's, its, itself, they, them, their, theirs, themselves, what, which, who, whom, this, that, that'll, these, those, am, is, are, was, were, be, been, being, have, has, had, having, do, does, did, doing, a, an, the, and, but, if, or, because, as, until, while, of, at, by, for, with, about, against, between, into, through, during, before, after, above, below, to, from, up, down, in, out, on, off, over, under, again, further, then, once, here, there, when, where, why, how, all, any, both, each, few, more, most, other, some, such, no, nor, not, only, own, same, so, than, too, very, s, t, can, will, just, don, don't, should, should've, now, d, ll, m, o, re, ve, y, ain, aren, aren't, couldn, couldn't, didn, didn't, doesn, doesn't, hadn, hadn't, hasn, hasn't, haven, haven't, isn, isn't, ma, mightn, mightn't, mustn, mustn't, needn, needn't, shan, shan't, shouldn, shouldn't, wasn, wasn't, weren, weren't, won, won't, wouldn, wouldn't\""
            ]
          },
          "metadata": {
            "tags": []
          },
          "execution_count": 54
        }
      ]
    },
    {
      "cell_type": "markdown",
      "metadata": {
        "id": "WjslHxt0LCOG"
      },
      "source": [
        "The words above can be removed from our product descriptions "
      ]
    },
    {
      "cell_type": "code",
      "metadata": {
        "colab": {
          "base_uri": "https://localhost:8080/"
        },
        "id": "1DXgFRrCOwsy",
        "outputId": "6a245509-2a74-4351-e82e-53db42868df4"
      },
      "source": [
        "STOPWORDS = stopwords.words('english')\n",
        "\n",
        "def remove_stopwords(text) :\n",
        "  return \" \".join([word for word in str(text).split() if word not in STOPWORDS])\n",
        "\n",
        "flipkart_dataset_actual[\"description_converted\"] = flipkart_dataset_actual[\"description_converted\"].apply(lambda text : remove_stopwords(text))\n",
        "flipkart_dataset_actual[\"description_converted\"].head()"
      ],
      "execution_count": null,
      "outputs": [
        {
          "output_type": "stream",
          "text": [
            "/usr/local/lib/python3.7/dist-packages/ipykernel_launcher.py:6: SettingWithCopyWarning: \n",
            "A value is trying to be set on a copy of a slice from a DataFrame.\n",
            "Try using .loc[row_indexer,col_indexer] = value instead\n",
            "\n",
            "See the caveats in the documentation: https://pandas.pydata.org/pandas-docs/stable/user_guide/indexing.html#returning-a-view-versus-a-copy\n",
            "  \n"
          ],
          "name": "stderr"
        },
        {
          "output_type": "execute_result",
          "data": {
            "text/plain": [
              "0    key features alisha solid women cycling shorts cotton lycra navy red navy specifications alisha solid women cycling shorts shorts details number contents sales package pack 3 fabric cotton lycra type cycling shorts general details pattern solid ideal women fabric care gentle machine wash lukewar...\n",
              "1    key features alisha solid women cycling shorts cotton lycra navy red navy specifications alisha solid women cycling shorts shorts details number contents sales package pack 3 fabric cotton lycra type cycling shorts general details pattern solid ideal women fabric care gentle machine wash lukewar...\n",
              "2    fabhomedecor fabric double sofa bed finish color leatherette black mechanism type pull price rs 22 646 • fine deep seating experience • save space new click clack sofa bed • easy fold vice versa simple click clack mechanism • chrome legs mango wood frame long term durability • double cushioned s...\n",
              "3    key features aw bellies sandals wedges heel casuals aw bellies price rs 499 material synthetic lifestyle casual heel type wedge warranty type manufacturer product warranty manufacturing defects 30 days care instructions allow pair shoes air de odorize regular basis use shoe bags prevent stains m...\n",
              "4    key features alisha solid women cycling shorts cotton lycra black red specifications alisha solid women cycling shorts shorts details number contents sales package pack 2 fabric cotton lycra type cycling shorts general details pattern solid ideal women fabric care gentle machine wash lukewarm wa...\n",
              "Name: description_converted, dtype: object"
            ]
          },
          "metadata": {
            "tags": []
          },
          "execution_count": 55
        }
      ]
    },
    {
      "cell_type": "markdown",
      "metadata": {
        "id": "_aKkf02NtH6W"
      },
      "source": [
        "**Remove all digits**<br/>\n",
        "\n",
        "There are a lot of numbers in our product descriptions ( the product price, quantity, etc.). These numbers can be removed because they don't tell us much about the final product category "
      ]
    },
    {
      "cell_type": "code",
      "metadata": {
        "colab": {
          "base_uri": "https://localhost:8080/"
        },
        "id": "jBMsH-HztY-T",
        "outputId": "cd9012ee-e281-4c99-ff05-2076455d6f0c"
      },
      "source": [
        "def remove_digits(text) :\n",
        "  return text.translate(str.maketrans(string.digits,' '*len(string.digits)))\n",
        "\n",
        "flipkart_dataset_actual[\"description_converted\"] = flipkart_dataset_actual[\"description_converted\"].apply(lambda x : remove_digits(x))\n",
        "flipkart_dataset_actual[\"description_converted\"].head()\n"
      ],
      "execution_count": null,
      "outputs": [
        {
          "output_type": "stream",
          "text": [
            "/usr/local/lib/python3.7/dist-packages/ipykernel_launcher.py:4: SettingWithCopyWarning: \n",
            "A value is trying to be set on a copy of a slice from a DataFrame.\n",
            "Try using .loc[row_indexer,col_indexer] = value instead\n",
            "\n",
            "See the caveats in the documentation: https://pandas.pydata.org/pandas-docs/stable/user_guide/indexing.html#returning-a-view-versus-a-copy\n",
            "  after removing the cwd from sys.path.\n"
          ],
          "name": "stderr"
        },
        {
          "output_type": "execute_result",
          "data": {
            "text/plain": [
              "0    key features alisha solid women cycling shorts cotton lycra navy red navy specifications alisha solid women cycling shorts shorts details number contents sales package pack   fabric cotton lycra type cycling shorts general details pattern solid ideal women fabric care gentle machine wash lukewar...\n",
              "1    key features alisha solid women cycling shorts cotton lycra navy red navy specifications alisha solid women cycling shorts shorts details number contents sales package pack   fabric cotton lycra type cycling shorts general details pattern solid ideal women fabric care gentle machine wash lukewar...\n",
              "2    fabhomedecor fabric double sofa bed finish color leatherette black mechanism type pull price rs        • fine deep seating experience • save space new click clack sofa bed • easy fold vice versa simple click clack mechanism • chrome legs mango wood frame long term durability • double cushioned s...\n",
              "3    key features aw bellies sandals wedges heel casuals aw bellies price rs     material synthetic lifestyle casual heel type wedge warranty type manufacturer product warranty manufacturing defects    days care instructions allow pair shoes air de odorize regular basis use shoe bags prevent stains m...\n",
              "4    key features alisha solid women cycling shorts cotton lycra black red specifications alisha solid women cycling shorts shorts details number contents sales package pack   fabric cotton lycra type cycling shorts general details pattern solid ideal women fabric care gentle machine wash lukewarm wa...\n",
              "Name: description_converted, dtype: object"
            ]
          },
          "metadata": {
            "tags": []
          },
          "execution_count": 57
        }
      ]
    },
    {
      "cell_type": "markdown",
      "metadata": {
        "id": "cEEfeTc0ulC6"
      },
      "source": [
        "As before we realise that there are multiple spaces in our product descriptions because some digits have been replaced by whitespaces. We remove multiple spaces from our product descriptions"
      ]
    },
    {
      "cell_type": "code",
      "metadata": {
        "colab": {
          "base_uri": "https://localhost:8080/"
        },
        "id": "D_YhnLHDu5T5",
        "outputId": "1a77d47a-7ec8-4666-8cdc-30a457292dfb"
      },
      "source": [
        "flipkart_dataset_actual[\"description_converted\"] = flipkart_dataset_actual[\"description_converted\"].apply(lambda text : re.sub(' +', ' ', text))\n",
        "flipkart_dataset_actual[\"description_converted\"].head()"
      ],
      "execution_count": null,
      "outputs": [
        {
          "output_type": "stream",
          "text": [
            "/usr/local/lib/python3.7/dist-packages/ipykernel_launcher.py:1: SettingWithCopyWarning: \n",
            "A value is trying to be set on a copy of a slice from a DataFrame.\n",
            "Try using .loc[row_indexer,col_indexer] = value instead\n",
            "\n",
            "See the caveats in the documentation: https://pandas.pydata.org/pandas-docs/stable/user_guide/indexing.html#returning-a-view-versus-a-copy\n",
            "  \"\"\"Entry point for launching an IPython kernel.\n"
          ],
          "name": "stderr"
        },
        {
          "output_type": "execute_result",
          "data": {
            "text/plain": [
              "0    key features alisha solid women cycling shorts cotton lycra navy red navy specifications alisha solid women cycling shorts shorts details number contents sales package pack fabric cotton lycra type cycling shorts general details pattern solid ideal women fabric care gentle machine wash lukewarm ...\n",
              "1    key features alisha solid women cycling shorts cotton lycra navy red navy specifications alisha solid women cycling shorts shorts details number contents sales package pack fabric cotton lycra type cycling shorts general details pattern solid ideal women fabric care gentle machine wash lukewarm ...\n",
              "2    fabhomedecor fabric double sofa bed finish color leatherette black mechanism type pull price rs • fine deep seating experience • save space new click clack sofa bed • easy fold vice versa simple click clack mechanism • chrome legs mango wood frame long term durability • double cushioned sofa bed...\n",
              "3    key features aw bellies sandals wedges heel casuals aw bellies price rs material synthetic lifestyle casual heel type wedge warranty type manufacturer product warranty manufacturing defects days care instructions allow pair shoes air de odorize regular basis use shoe bags prevent stains mildew d...\n",
              "4    key features alisha solid women cycling shorts cotton lycra black red specifications alisha solid women cycling shorts shorts details number contents sales package pack fabric cotton lycra type cycling shorts general details pattern solid ideal women fabric care gentle machine wash lukewarm wate...\n",
              "Name: description_converted, dtype: object"
            ]
          },
          "metadata": {
            "tags": []
          },
          "execution_count": 58
        }
      ]
    },
    {
      "cell_type": "markdown",
      "metadata": {
        "id": "mQ0-5vr3wOnA"
      },
      "source": [
        "**Removing common words**<br/>\n",
        "Some words will appear regularly in descriptions across all categories. For instance since this dataset is from Flipkart it is likely that the word 'flipkart' will appear regularly. Since these words don't add anything meaningful to our final answer it makes sense to remove them. However it is also possible that some words appear commonly in a certain product category. There might be words like fabric which are very common in the Clothing Category. We should be careful not to remove these words"
      ]
    },
    {
      "cell_type": "code",
      "metadata": {
        "colab": {
          "base_uri": "https://localhost:8080/"
        },
        "id": "NrC3nZeTR1k_",
        "outputId": "2ae88391-f207-48d6-86dd-caf07584810d"
      },
      "source": [
        "from collections import Counter\n",
        "cnt = Counter()\n",
        "for text in flipkart_dataset_actual[\"description_converted\"].values:\n",
        "    for word in text.split():\n",
        "        cnt[word] += 1\n",
        "        \n",
        "(cnt.most_common(20))"
      ],
      "execution_count": null,
      "outputs": [
        {
          "output_type": "execute_result",
          "data": {
            "text/plain": [
              "[('rs', 21171),\n",
              " ('women', 15329),\n",
              " ('buy', 13685),\n",
              " ('online', 12980),\n",
              " ('com', 12841),\n",
              " ('flipkart', 12670),\n",
              " ('free', 9532),\n",
              " ('products', 9485),\n",
              " ('day', 9010),\n",
              " ('genuine', 8800),\n",
              " ('delivery', 8682),\n",
              " ('cash', 8642),\n",
              " ('shipping', 8616),\n",
              " ('replacement', 8445),\n",
              " ('guarantee', 7981),\n",
              " ('price', 7808),\n",
              " ('features', 7807),\n",
              " ('shirt', 7690),\n",
              " ('casual', 7127),\n",
              " ('collection', 6501)]"
            ]
          },
          "metadata": {
            "tags": []
          },
          "execution_count": 63
        }
      ]
    },
    {
      "cell_type": "markdown",
      "metadata": {
        "id": "qunYR6J-xiOV"
      },
      "source": [
        "In the above 20 words, there are 4 words which we should be careful not to remove \n",
        "\n",
        "1. *women* - It is possible that certain product categories cater more to female buyers than others. So removing the word women may make us lose some important information about the product category \n",
        "2. *shirt* - If a product description has the word shirt in it, it almost certainly belongs to the Clothing category, so we should not remove it \n",
        "3. *casual* - Words like casual are more likely to appear in Clothing products ( Casual T-shirt for example). So we should not remove this word\n",
        "4. *collection* - The word collection too is likely to appear in Clothing products so we shouldn't remove it either(Collection of 4 shirts, etc.) \n",
        "\n",
        "The rest of the words ( 16 of them) can be stored in a list and removed "
      ]
    },
    {
      "cell_type": "code",
      "metadata": {
        "colab": {
          "base_uri": "https://localhost:8080/"
        },
        "id": "yQFZI6eZzwkK",
        "outputId": "877fa549-bc18-4689-acc1-78772c429e86"
      },
      "source": [
        "common_words = [word[0] for word in cnt.most_common(20)]\n",
        "keep_words = [\"women\",\"shirt\",\"casual\",\"collection\"]\n",
        "\n",
        "remove_words = [word for word in common_words if word not in keep_words]\n",
        "\n",
        "\n",
        "def remove_common(text) :\n",
        "  return \" \".join([word for word in str(text).split() if word not in remove_words])\n",
        "\n",
        "flipkart_dataset_actual[\"description_converted\"] = flipkart_dataset_actual[\"description_converted\"].apply(lambda x : remove_common(x))\n",
        "flipkart_dataset_actual[\"description_converted\"].head()"
      ],
      "execution_count": null,
      "outputs": [
        {
          "output_type": "stream",
          "text": [
            "/usr/local/lib/python3.7/dist-packages/ipykernel_launcher.py:10: SettingWithCopyWarning: \n",
            "A value is trying to be set on a copy of a slice from a DataFrame.\n",
            "Try using .loc[row_indexer,col_indexer] = value instead\n",
            "\n",
            "See the caveats in the documentation: https://pandas.pydata.org/pandas-docs/stable/user_guide/indexing.html#returning-a-view-versus-a-copy\n",
            "  # Remove the CWD from sys.path while we load stuff.\n"
          ],
          "name": "stderr"
        },
        {
          "output_type": "execute_result",
          "data": {
            "text/plain": [
              "0    key alisha solid women cycling shorts cotton lycra navy red navy specifications alisha solid women cycling shorts shorts details number contents sales package pack fabric cotton lycra type cycling shorts general details pattern solid ideal women fabric care gentle machine wash lukewarm water ble...\n",
              "1    key alisha solid women cycling shorts cotton lycra navy red navy specifications alisha solid women cycling shorts shorts details number contents sales package pack fabric cotton lycra type cycling shorts general details pattern solid ideal women fabric care gentle machine wash lukewarm water ble...\n",
              "2    fabhomedecor fabric double sofa bed finish color leatherette black mechanism type pull • fine deep seating experience • save space new click clack sofa bed • easy fold vice versa simple click clack mechanism • chrome legs mango wood frame long term durability • double cushioned sofa bed provide ...\n",
              "3    key aw bellies sandals wedges heel casuals aw bellies material synthetic lifestyle casual heel type wedge warranty type manufacturer product warranty manufacturing defects days care instructions allow pair shoes air de odorize regular basis use shoe bags prevent stains mildew dust dry dirt surfa...\n",
              "4    key alisha solid women cycling shorts cotton lycra black red specifications alisha solid women cycling shorts shorts details number contents sales package pack fabric cotton lycra type cycling shorts general details pattern solid ideal women fabric care gentle machine wash lukewarm water bleach ...\n",
              "Name: description_converted, dtype: object"
            ]
          },
          "metadata": {
            "tags": []
          },
          "execution_count": 67
        }
      ]
    },
    {
      "cell_type": "code",
      "metadata": {
        "colab": {
          "base_uri": "https://localhost:8080/",
          "height": 1000
        },
        "id": "RKue1eh47xqS",
        "outputId": "cf529fa4-e9e8-4216-db4e-261a24a502fb"
      },
      "source": [
        "flipkart_dataset_actual.head()"
      ],
      "execution_count": null,
      "outputs": [
        {
          "output_type": "execute_result",
          "data": {
            "text/html": [
              "<div>\n",
              "<style scoped>\n",
              "    .dataframe tbody tr th:only-of-type {\n",
              "        vertical-align: middle;\n",
              "    }\n",
              "\n",
              "    .dataframe tbody tr th {\n",
              "        vertical-align: top;\n",
              "    }\n",
              "\n",
              "    .dataframe thead th {\n",
              "        text-align: right;\n",
              "    }\n",
              "</style>\n",
              "<table border=\"1\" class=\"dataframe\">\n",
              "  <thead>\n",
              "    <tr style=\"text-align: right;\">\n",
              "      <th></th>\n",
              "      <th>index</th>\n",
              "      <th>product_name</th>\n",
              "      <th>pid</th>\n",
              "      <th>description</th>\n",
              "      <th>brand</th>\n",
              "      <th>product_category_tree</th>\n",
              "      <th>primary_category</th>\n",
              "      <th>description_converted</th>\n",
              "    </tr>\n",
              "  </thead>\n",
              "  <tbody>\n",
              "    <tr>\n",
              "      <th>0</th>\n",
              "      <td>0</td>\n",
              "      <td>Alisha Solid Women's Cycling Shorts</td>\n",
              "      <td>SRTEH2FF9KEDEFGF</td>\n",
              "      <td>Key Features of Alisha Solid Women's Cycling Shorts Cotton Lycra Navy, Red, Navy,Specifications of Alisha Solid Women's Cycling Shorts Shorts Details Number of Contents in Sales Package Pack of 3 Fabric Cotton Lycra Type Cycling Shorts General Details Pattern Solid Ideal For Women's Fabric Care ...</td>\n",
              "      <td>Alisha</td>\n",
              "      <td>Clothing &gt;&gt; Women's Clothing &gt;&gt; Lingerie</td>\n",
              "      <td>Clothing</td>\n",
              "      <td>key alisha solid women cycling shorts cotton lycra navy red navy specifications alisha solid women cycling shorts shorts details number contents sales package pack fabric cotton lycra type cycling shorts general details pattern solid ideal women fabric care gentle machine wash lukewarm water ble...</td>\n",
              "    </tr>\n",
              "    <tr>\n",
              "      <th>1</th>\n",
              "      <td>1</td>\n",
              "      <td>Alisha Solid Women's Cycling Shorts</td>\n",
              "      <td>SRTEH2FF9KEDEFGF</td>\n",
              "      <td>Key Features of Alisha Solid Women's Cycling Shorts Cotton Lycra Navy, Red, Navy,Specifications of Alisha Solid Women's Cycling Shorts Shorts Details Number of Contents in Sales Package Pack of 3 Fabric Cotton Lycra Type Cycling Shorts General Details Pattern Solid Ideal For Women's Fabric Care ...</td>\n",
              "      <td>Alisha</td>\n",
              "      <td>Sleep &amp; Swimwear &gt;&gt; Shorts &gt;&gt; Alisha Shorts &gt;&gt; Alisha Solid Women's Cycling Shorts</td>\n",
              "      <td>Sleep &amp; Swimwear</td>\n",
              "      <td>key alisha solid women cycling shorts cotton lycra navy red navy specifications alisha solid women cycling shorts shorts details number contents sales package pack fabric cotton lycra type cycling shorts general details pattern solid ideal women fabric care gentle machine wash lukewarm water ble...</td>\n",
              "    </tr>\n",
              "    <tr>\n",
              "      <th>2</th>\n",
              "      <td>2</td>\n",
              "      <td>FabHomeDecor Fabric Double Sofa Bed</td>\n",
              "      <td>SBEEH3QGU7MFYJFY</td>\n",
              "      <td>FabHomeDecor Fabric Double Sofa Bed (Finish Color - Leatherette Black Mechanism Type - Pull Out) Price: Rs. 22,646 • Fine deep seating experience • Save Space with the all new click clack Sofa Bed • Easy to fold and vice versa with simple click clack mechanism • Chrome legs with mango wood frame...</td>\n",
              "      <td>FabHomeDecor</td>\n",
              "      <td>Furniture &gt;&gt; Living Room Furniture &gt;&gt; Sofa Beds &amp; Futons &gt;&gt; FabHomeDecor Fabric Double Sofa Bed (Finish Colo...</td>\n",
              "      <td>Furniture</td>\n",
              "      <td>fabhomedecor fabric double sofa bed finish color leatherette black mechanism type pull • fine deep seating experience • save space new click clack sofa bed • easy fold vice versa simple click clack mechanism • chrome legs mango wood frame long term durability • double cushioned sofa bed provide ...</td>\n",
              "    </tr>\n",
              "    <tr>\n",
              "      <th>3</th>\n",
              "      <td>3</td>\n",
              "      <td>AW Bellies</td>\n",
              "      <td>SHOEH4GRSUBJGZXE</td>\n",
              "      <td>Key Features of AW Bellies Sandals Wedges Heel Casuals,AW Bellies Price: Rs. 499 Material: Synthetic Lifestyle: Casual Heel Type: Wedge Warranty Type: Manufacturer Product Warranty against manufacturing defects: 30 days Care instructions: Allow your pair of shoes to air and de-odorize at regular...</td>\n",
              "      <td>AW</td>\n",
              "      <td>Footwear &gt;&gt; Women's Footwear &gt;&gt; Ballerinas &gt;&gt; AW Bellies</td>\n",
              "      <td>Footwear</td>\n",
              "      <td>key aw bellies sandals wedges heel casuals aw bellies material synthetic lifestyle casual heel type wedge warranty type manufacturer product warranty manufacturing defects days care instructions allow pair shoes air de odorize regular basis use shoe bags prevent stains mildew dust dry dirt surfa...</td>\n",
              "    </tr>\n",
              "    <tr>\n",
              "      <th>4</th>\n",
              "      <td>4</td>\n",
              "      <td>Alisha Solid Women's Cycling Shorts</td>\n",
              "      <td>SRTEH2F6HUZMQ6SJ</td>\n",
              "      <td>Key Features of Alisha Solid Women's Cycling Shorts Cotton Lycra Black, Red,Specifications of Alisha Solid Women's Cycling Shorts Shorts Details Number of Contents in Sales Package Pack of 2 Fabric Cotton Lycra Type Cycling Shorts General Details Pattern Solid Ideal For Women's Fabric Care Gentl...</td>\n",
              "      <td>Alisha</td>\n",
              "      <td>Clothing &gt;&gt; Women's Clothing &gt;&gt; Lingerie</td>\n",
              "      <td>Clothing</td>\n",
              "      <td>key alisha solid women cycling shorts cotton lycra black red specifications alisha solid women cycling shorts shorts details number contents sales package pack fabric cotton lycra type cycling shorts general details pattern solid ideal women fabric care gentle machine wash lukewarm water bleach ...</td>\n",
              "    </tr>\n",
              "  </tbody>\n",
              "</table>\n",
              "</div>"
            ],
            "text/plain": [
              "   index  ...                                                                                                                                                                                                                                                                                        description_converted\n",
              "0      0  ...  key alisha solid women cycling shorts cotton lycra navy red navy specifications alisha solid women cycling shorts shorts details number contents sales package pack fabric cotton lycra type cycling shorts general details pattern solid ideal women fabric care gentle machine wash lukewarm water ble...\n",
              "1      1  ...  key alisha solid women cycling shorts cotton lycra navy red navy specifications alisha solid women cycling shorts shorts details number contents sales package pack fabric cotton lycra type cycling shorts general details pattern solid ideal women fabric care gentle machine wash lukewarm water ble...\n",
              "2      2  ...  fabhomedecor fabric double sofa bed finish color leatherette black mechanism type pull • fine deep seating experience • save space new click clack sofa bed • easy fold vice versa simple click clack mechanism • chrome legs mango wood frame long term durability • double cushioned sofa bed provide ...\n",
              "3      3  ...  key aw bellies sandals wedges heel casuals aw bellies material synthetic lifestyle casual heel type wedge warranty type manufacturer product warranty manufacturing defects days care instructions allow pair shoes air de odorize regular basis use shoe bags prevent stains mildew dust dry dirt surfa...\n",
              "4      4  ...  key alisha solid women cycling shorts cotton lycra black red specifications alisha solid women cycling shorts shorts details number contents sales package pack fabric cotton lycra type cycling shorts general details pattern solid ideal women fabric care gentle machine wash lukewarm water bleach ...\n",
              "\n",
              "[5 rows x 8 columns]"
            ]
          },
          "metadata": {
            "tags": []
          },
          "execution_count": 70
        }
      ]
    },
    {
      "cell_type": "markdown",
      "metadata": {
        "id": "lauBV87Z-7GB"
      },
      "source": [
        "There are 4 columns in 'flipkart_dataset_actual' that we can drop now without any issues \n",
        "1. *index* - This column is unnecessary since we already have a separate column maintaining the indices of the rows\n",
        "2. *description* - Since we already have our processed description in description_converted we can drop the description column\n",
        "3. *product_category_tree* - We already have the primary categories for all the products so it makes sense to drop the trees \n",
        "4. *pid* - it doesn't exactly help us predict the product category ( **Note** : It's possible that all products in a certain category have a particular type of product ID, however we will not use this information in this task since the category needs to be predicted using the description) "
      ]
    },
    {
      "cell_type": "code",
      "metadata": {
        "colab": {
          "base_uri": "https://localhost:8080/"
        },
        "id": "f7_bMwMn_qcb",
        "outputId": "3e35a0d2-3eda-4db4-e6c1-9157f5856714"
      },
      "source": [
        "flipkart_dataset_actual.drop(columns = [\"index\",\"pid\",\"description\",\"product_category_tree\"],inplace= True)"
      ],
      "execution_count": null,
      "outputs": [
        {
          "output_type": "stream",
          "text": [
            "/usr/local/lib/python3.7/dist-packages/pandas/core/frame.py:4174: SettingWithCopyWarning: \n",
            "A value is trying to be set on a copy of a slice from a DataFrame\n",
            "\n",
            "See the caveats in the documentation: https://pandas.pydata.org/pandas-docs/stable/user_guide/indexing.html#returning-a-view-versus-a-copy\n",
            "  errors=errors,\n"
          ],
          "name": "stderr"
        }
      ]
    },
    {
      "cell_type": "code",
      "metadata": {
        "id": "b_4KrPCjAufd"
      },
      "source": [
        "flipkart_dataset_actual.head()"
      ],
      "execution_count": null,
      "outputs": []
    },
    {
      "cell_type": "markdown",
      "metadata": {
        "id": "rYDZ6-btGaKT"
      },
      "source": [
        "**Saving dataframe in a CSV file** "
      ]
    },
    {
      "cell_type": "code",
      "metadata": {
        "id": "M-uBWqpuHA5p"
      },
      "source": [
        "flipkart_dataset_actual.to_csv(r'/content/drive/MyDrive/Colab Datasets/Flipkart eCommerce/flipkart_dataset.csv',index=False)"
      ],
      "execution_count": null,
      "outputs": []
    },
    {
      "cell_type": "code",
      "metadata": {
        "id": "Q565xlKHHf8h"
      },
      "source": [
        "#Checking to see whether the dataframe has been stored as we want it to be \n",
        "pd.options.display.max_colwidth = 300\n",
        "\n",
        "my_dataset = pd.read_csv('/content/drive/MyDrive/Colab Datasets/Flipkart eCommerce/flipkart_dataset.csv')\n",
        "my_dataset.head()"
      ],
      "execution_count": null,
      "outputs": []
    },
    {
      "cell_type": "markdown",
      "metadata": {
        "id": "z1cHApIpca5o"
      },
      "source": [
        "**Splitting the dataset into train, validation and test sets, which can then be saved as separate CSV files** \n",
        "\n",
        "The training sets are used for training the model, while the validation set is used for evaluating the model and fine-tuning the hyperparameters. Once all the fine-tuning is completed the model is tested on the test set, to check the final accuracy  "
      ]
    },
    {
      "cell_type": "code",
      "metadata": {
        "id": "U9HJVIPPZaDf"
      },
      "source": [
        "# We set a constant seed to be able to reproduce the result \n",
        "SEED = 11\n",
        "train_data,test_data = train_test_split(my_dataset,test_size = 0.25,random_state = SEED)"
      ],
      "execution_count": null,
      "outputs": []
    },
    {
      "cell_type": "code",
      "metadata": {
        "id": "K_rvgMQ5bltx"
      },
      "source": [
        "# To get the validation set, we split the training set attained in the previous set, with 80% of the entries being in the training set\n",
        "train_data,valid_data = train_test_split(train_data,test_size = 0.2, random_state = SEED)"
      ],
      "execution_count": null,
      "outputs": []
    },
    {
      "cell_type": "markdown",
      "metadata": {
        "id": "AKdpzUfFdUQ4"
      },
      "source": [
        "We look at the **distribution of the train,test and validation datasets** to make sure that the products are distributed uniformly enough to be able to make a reasonable estimate of the final accuracy "
      ]
    },
    {
      "cell_type": "code",
      "metadata": {
        "id": "t30zvBOUdER_"
      },
      "source": [
        "train_data[\"primary_category\"].value_counts(),valid_data[\"primary_category\"].value_counts(),test_data[\"primary_category\"].value_counts()"
      ],
      "execution_count": null,
      "outputs": []
    },
    {
      "cell_type": "code",
      "metadata": {
        "colab": {
          "base_uri": "https://localhost:8080/",
          "height": 346
        },
        "id": "tuRISjIFdn7G",
        "outputId": "2dcc96ce-ce16-4c25-9822-fd05e3c772d1"
      },
      "source": [
        "train_data.head()"
      ],
      "execution_count": null,
      "outputs": [
        {
          "output_type": "execute_result",
          "data": {
            "text/html": [
              "<div>\n",
              "<style scoped>\n",
              "    .dataframe tbody tr th:only-of-type {\n",
              "        vertical-align: middle;\n",
              "    }\n",
              "\n",
              "    .dataframe tbody tr th {\n",
              "        vertical-align: top;\n",
              "    }\n",
              "\n",
              "    .dataframe thead th {\n",
              "        text-align: right;\n",
              "    }\n",
              "</style>\n",
              "<table border=\"1\" class=\"dataframe\">\n",
              "  <thead>\n",
              "    <tr style=\"text-align: right;\">\n",
              "      <th></th>\n",
              "      <th>product_name</th>\n",
              "      <th>brand</th>\n",
              "      <th>primary_category</th>\n",
              "      <th>description_converted</th>\n",
              "    </tr>\n",
              "  </thead>\n",
              "  <tbody>\n",
              "    <tr>\n",
              "      <th>10441</th>\n",
              "      <td>Sonata 8925YM06J Analog Watch  - For Women</td>\n",
              "      <td>NaN</td>\n",
              "      <td>Watches</td>\n",
              "      <td>sonata ym j analog watch women sonata ym j analog watch women ym j india round dial golden strap water resistant great discounts</td>\n",
              "    </tr>\n",
              "    <tr>\n",
              "      <th>3666</th>\n",
              "      <td>Urbaano Women's Full Coverage Bra</td>\n",
              "      <td>Pink</td>\n",
              "      <td>Clothing</td>\n",
              "      <td>urbaano women full coverage bra urbaano catering needs customers innovative premium quality innerwear keeping mind changing needs today active woman lovely lace bra ladies always remain bride heart lace pattern give delicate look come vibrant colours enlighten lives intricate silver trim neck li...</td>\n",
              "    </tr>\n",
              "    <tr>\n",
              "      <th>5746</th>\n",
              "      <td>Lal Haveli Traditional Hand Crafted Beautiful Iron Musician 5 Pcs Set Showpiece  -  33 cm</td>\n",
              "      <td>Lal Haveli</td>\n",
              "      <td>Home Decor &amp; Festive Needs</td>\n",
              "      <td>lal haveli traditional hand crafted beautiful iron musician pcs set showpiece cm lal haveli traditional hand crafted beautiful iron musician pcs set showpiece cm best prices</td>\n",
              "    </tr>\n",
              "    <tr>\n",
              "      <th>6072</th>\n",
              "      <td>Allure Auto CM 1770 Car Mat Mahindra Xylo</td>\n",
              "      <td>Allure Auto</td>\n",
              "      <td>Automotive</td>\n",
              "      <td>allure auto cm car mat mahindra xylo allure auto cm car mat mahindra xylo best prices</td>\n",
              "    </tr>\n",
              "    <tr>\n",
              "      <th>21232</th>\n",
              "      <td>Leebo L86 Projector Lens</td>\n",
              "      <td>Leebo</td>\n",
              "      <td>Automotive</td>\n",
              "      <td>specifications leebo l projector lens general brand leebo lens diameter cm vehicle model name ninja model number l power consumption w light color white red blue vehicle brand kawasaki color temperature voltage v vehicle model year lifespan vehicle type motorbike box projector lens</td>\n",
              "    </tr>\n",
              "  </tbody>\n",
              "</table>\n",
              "</div>"
            ],
            "text/plain": [
              "                                                                                    product_name  ...                                                                                                                                                                                                                                                                                        description_converted\n",
              "10441                                                 Sonata 8925YM06J Analog Watch  - For Women  ...                                                                                                                                                                             sonata ym j analog watch women sonata ym j analog watch women ym j india round dial golden strap water resistant great discounts\n",
              "3666                                                           Urbaano Women's Full Coverage Bra  ...  urbaano women full coverage bra urbaano catering needs customers innovative premium quality innerwear keeping mind changing needs today active woman lovely lace bra ladies always remain bride heart lace pattern give delicate look come vibrant colours enlighten lives intricate silver trim neck li...\n",
              "5746   Lal Haveli Traditional Hand Crafted Beautiful Iron Musician 5 Pcs Set Showpiece  -  33 cm  ...                                                                                                                                lal haveli traditional hand crafted beautiful iron musician pcs set showpiece cm lal haveli traditional hand crafted beautiful iron musician pcs set showpiece cm best prices\n",
              "6072                                                   Allure Auto CM 1770 Car Mat Mahindra Xylo  ...                                                                                                                                                                                                                        allure auto cm car mat mahindra xylo allure auto cm car mat mahindra xylo best prices\n",
              "21232                                                                   Leebo L86 Projector Lens  ...                   specifications leebo l projector lens general brand leebo lens diameter cm vehicle model name ninja model number l power consumption w light color white red blue vehicle brand kawasaki color temperature voltage v vehicle model year lifespan vehicle type motorbike box projector lens\n",
              "\n",
              "[5 rows x 4 columns]"
            ]
          },
          "metadata": {
            "tags": []
          },
          "execution_count": 26
        }
      ]
    },
    {
      "cell_type": "code",
      "metadata": {
        "id": "6jBFSyCg2Z4p"
      },
      "source": [
        "train_data.to_csv(r'/content/drive/MyDrive/Colab Datasets/Flipkart eCommerce/flipkart_dataset_train.csv')\n",
        "valid_data.to_csv(r'/content/drive/MyDrive/Colab Datasets/Flipkart eCommerce/flipkart_dataset_valid.csv')\n",
        "test_data.to_csv(r'/content/drive/MyDrive/Colab Datasets/Flipkart eCommerce/flipkart_dataset_test.csv')"
      ],
      "execution_count": null,
      "outputs": []
    },
    {
      "cell_type": "markdown",
      "metadata": {
        "id": "JpNCGTKkH6sM"
      },
      "source": [
        "### **Creating PyTorch dataset and iterators from the saved dataframes**"
      ]
    },
    {
      "cell_type": "markdown",
      "metadata": {
        "id": "bfx6qGh1cchF"
      },
      "source": [
        "* We use the standard str.split() as tokenizer which takes a sentence/paragraphs tokenizes it using white spaces as a separator. So you get a list of words as output, and since we don't have any punctuations in our dataframe this is sufficient \n",
        "* data.Field() defines how to process a given input text data and convert it into a tensor. \n",
        "* The DESCRIPTION data.Field() says that the input being passed to it will be sequntial(*sequential = True*), that a vocabulary object should be used on the input(*use_vocab = True*, this is used on text data which converts the individual words into numbers by building a vocabulary on the input data) \n",
        "* The CATEGORY data.Field() says that that the input being to it will not be sequential ( as is the case with our category labels), and that *use_vocab = True* which means that the data being inputted will be text data"
      ]
    },
    {
      "cell_type": "code",
      "metadata": {
        "id": "6Yv_2-4dTdCw"
      },
      "source": [
        "tokenize = lambda x : x.split()\n",
        "DESCRIPTION = data.Field(sequential = True, use_vocab = True,tokenize= tokenize, lower = True)\n",
        "CATEGORY = data.Field(sequential = False, use_vocab= True)\n",
        "\n",
        "fields = {'description_converted' : ('d',DESCRIPTION), 'primary_category' : ('c',CATEGORY)}\n"
      ],
      "execution_count": 13,
      "outputs": []
    },
    {
      "cell_type": "code",
      "metadata": {
        "id": "hvqP4XN__Axg"
      },
      "source": [
        "train_flipkart_data,valid_flipkart_data, test_flipkart_data = data.TabularDataset.splits(\n",
        "                                                                path = '/content/drive/MyDrive/Colab Datasets/Flipkart eCommerce',\n",
        "                                                                train = 'flipkart_dataset_train.csv',\n",
        "                                                                validation = 'flipkart_dataset_valid.csv',\n",
        "                                                                test = 'flipkart_dataset_test.csv',\n",
        "                                                                format = 'csv',\n",
        "                                                                fields = fields\n",
        "                                                              )"
      ],
      "execution_count": 14,
      "outputs": []
    },
    {
      "cell_type": "markdown",
      "metadata": {
        "id": "aHhrPiJ0kl52"
      },
      "source": [
        "In the first three lines we set a SEED to ensure that the results are reproducible. \n",
        "\n",
        "We also define the BATCH SIZE and device to train our models"
      ]
    },
    {
      "cell_type": "code",
      "metadata": {
        "id": "wHLD5KEUDjWh"
      },
      "source": [
        "# To ensure reproducibility of results\n",
        "SEED = 123\n",
        "torch.manual_seed(SEED)\n",
        "torch.backends.cudnn.deterministic = True\n",
        "\n",
        "# Defining the batch size, and device ( if a GPU is available it is used otherwise we use a CPU) \n",
        "BATCH_SIZE = 64\n",
        "\n",
        "device = torch.device('cuda' if torch.cuda.is_available() else 'cpu')\n",
        "\n"
      ],
      "execution_count": 15,
      "outputs": []
    },
    {
      "cell_type": "code",
      "metadata": {
        "colab": {
          "base_uri": "https://localhost:8080/"
        },
        "id": "avJQcwxpFaaS",
        "outputId": "2bcd2620-e3f9-4e98-ef89-0fc43b47c776"
      },
      "source": [
        "device"
      ],
      "execution_count": 16,
      "outputs": [
        {
          "output_type": "execute_result",
          "data": {
            "text/plain": [
              "device(type='cpu')"
            ]
          },
          "metadata": {
            "tags": []
          },
          "execution_count": 16
        }
      ]
    },
    {
      "cell_type": "markdown",
      "metadata": {
        "id": "w9rOPwOhkzTk"
      },
      "source": [
        "We use the data.BucketIterator module to be able to divide the training, validation, and test data into batches "
      ]
    },
    {
      "cell_type": "code",
      "metadata": {
        "id": "hk7dmTlpQ5tc"
      },
      "source": [
        "train_iterator, valid_iterator, test_iterator = data.BucketIterator.splits(\n",
        "    (train_flipkart_data, valid_flipkart_data, test_flipkart_data), \n",
        "    batch_size = BATCH_SIZE, \n",
        "    device = device,\n",
        "    sort = False)\n"
      ],
      "execution_count": 17,
      "outputs": []
    },
    {
      "cell_type": "markdown",
      "metadata": {
        "id": "gJ53BkDdmhh0"
      },
      "source": [
        "data.Field.build_vocab() module is used to build a vocabulary of words from the given corpus of data. The arguments to the method are explained below  :\n",
        "* max_size defines what the maximum size of the vocabulary should be. In this case we set it to be 25000 words\n",
        "* The vectors argument determines what vector representation we should use for each of the words in the vocabulary. In this case we use the glove 100 dimensional word embedding representation. \n",
        "* unk_init - this decides what to do with words that aren't in the vocabulary. \n",
        "* min_freq - this argument determines what the minimum frequency of a word needs to be in the corpus for it to be a part of the vocabulary. In this case, we set min_freq = 2 which means that words which appear only once in the corpus don't feature in the vocabulary"
      ]
    },
    {
      "cell_type": "code",
      "metadata": {
        "id": "P_Y6bT4AhIPa",
        "colab": {
          "base_uri": "https://localhost:8080/"
        },
        "outputId": "38f01a6a-905a-457a-d72d-f3e2844d2c0b"
      },
      "source": [
        "MAX_VOCAB_SIZE = 25_000\n",
        "\n",
        "DESCRIPTION.build_vocab(train_flipkart_data, \n",
        "                 max_size = MAX_VOCAB_SIZE, \n",
        "                 vectors = \"glove.6B.100d\", \n",
        "                 unk_init = torch.Tensor.normal_,\n",
        "                 min_freq = 2)\n",
        "\n",
        "CATEGORY.build_vocab(train_flipkart_data)\n"
      ],
      "execution_count": 18,
      "outputs": [
        {
          "output_type": "stream",
          "text": [
            ".vector_cache/glove.6B.zip: 862MB [02:43, 5.29MB/s]                           \n",
            "100%|█████████▉| 399811/400000 [00:20<00:00, 18590.05it/s]"
          ],
          "name": "stderr"
        }
      ]
    },
    {
      "cell_type": "markdown",
      "metadata": {
        "id": "G-gAcxk4FI4m"
      },
      "source": [
        "We look at the mapping from the Category Name to the number each of these categories is assigned to. So every category in the dataset is mapped to some number as can be seen below. The vocabulary of Category name basically has 35 words ( there's one extra to account for unknown categories)<br/>\n",
        "Similarly there is a vocabulary for the description column as well which consists of all the words which appear in the descriptions of all products ( Since our minimum frequency is 2, only those words which appear in the descriptions more than once form a part of the vocabulary"
      ]
    },
    {
      "cell_type": "code",
      "metadata": {
        "colab": {
          "base_uri": "https://localhost:8080/"
        },
        "id": "Atycfhu0T6dl",
        "outputId": "1ef89192-fda2-464f-8c21-778264e5c97b"
      },
      "source": [
        "DESCRIPTION.vocab.vectors.shape"
      ],
      "execution_count": 19,
      "outputs": [
        {
          "output_type": "execute_result",
          "data": {
            "text/plain": [
              "torch.Size([13066, 100])"
            ]
          },
          "metadata": {
            "tags": []
          },
          "execution_count": 19
        }
      ]
    },
    {
      "cell_type": "markdown",
      "metadata": {
        "id": "Aclz8onwRASl"
      },
      "source": [
        "### **Defining the train, evaluation, and accuracies for models**"
      ]
    },
    {
      "cell_type": "markdown",
      "metadata": {
        "id": "RF8motjJjfii"
      },
      "source": [
        "One thing to realise here is that overall batch accuracy might not be the most \n",
        "accurate metric for evaluating the performance of our model. This is because our classes are imbalanced ( certain classes have more products than others do ) . <br/>\n",
        "So a better evaluation metric would be to look at the predictions that the model gives for each of the classes through True Positives, False Negatives, and False Positives and evaluate the precision and recall for all the classes \n",
        "We could use the F1 score which combines the precision and recall to give a single score to evaluate how well the model does on each class\n",
        "\n",
        "Precision of Class = (True Positives/(True Positives + False Positives))<br/>\n",
        "Recall of Class = (True Positives/ (True Positives + False Negatives ) ) <br/>\n",
        "F1 score = 2 \\* ( Precision \\* Recall ) /(Precision + Recall)<br/>\n",
        "\n",
        "We also add 'torch.nan_to_num(tensor)' lines to ensure that the tensors that any nan values that are formed ( due to dividing by zero) are converted to zeros\n",
        "\n",
        "The method to build these matrices for a given batch is as follows : \n",
        "* Given a prediction tensor of dimensions (batch size, num_categ), we get the maximum maximum value for each batch size, to get the top_predic tensor of dimensions (batch size), where each element contains the predicted category number \n",
        "* We iterate through every element the top_predic tensor. For a given i if top_predic[i] = y[i], that would be a true positive for the predicted category so we update that \n",
        "* If for a given i the top_predic[i] != y[i], then it is a false positive for the predicted category, and a false negative for the category 'y[i]' so we make the updates accordingly \n",
        "* We then calculate the batch precision, recall, and F1 scores using the formulae listed above \n"
      ]
    },
    {
      "cell_type": "code",
      "metadata": {
        "colab": {
          "base_uri": "https://localhost:8080/"
        },
        "id": "LddI_G8iTquP",
        "outputId": "e83dc101-8d16-40a3-fb61-4f60f63f784f"
      },
      "source": [
        "num_categ = len(CATEGORY.vocab)\n",
        "num_categ"
      ],
      "execution_count": 20,
      "outputs": [
        {
          "output_type": "execute_result",
          "data": {
            "text/plain": [
              "35"
            ]
          },
          "metadata": {
            "tags": []
          },
          "execution_count": 20
        }
      ]
    },
    {
      "cell_type": "code",
      "metadata": {
        "id": "ROlmgi4HjSHU"
      },
      "source": [
        "# Here TruePositives[i] gives the number of TruePositive predictions for \n",
        "\n",
        "def batch_F1Scores(preds,y) :\n",
        "  num_categ = len(CATEGORY.vocab.stoi)\n",
        "  TruePositives = torch.zeros(num_categ)\n",
        "  FalseNegatives = torch.zeros(num_categ)\n",
        "  FalsePositives = torch.zeros(num_categ)\n",
        "  \n",
        "  with torch.no_grad():\n",
        "    top_predic = preds.argmax(1, keepdim = False)\n",
        "    #print(f\"Shape of top predictions : {top_predic.shape}\")\n",
        "    #print(f\"Shape of batch.c : {batch.c.shape}\")\n",
        "    for i in range(top_predic.shape[0]) :\n",
        "        if ((top_predic[i]) == (y[i])) :\n",
        "          TruePositives[top_predic[i]] = TruePositives[top_predic[i]] + 1\n",
        "        else :\n",
        "          FalseNegatives[y[i]] = FalseNegatives[y[i]] + 1\n",
        "          FalsePositives[top_predic[i]] = FalsePositives[top_predic[i]] + 1 \n",
        "    \n",
        "  Precision = (TruePositives)/(TruePositives + FalsePositives)\n",
        "  Recall = (TruePositives)/(TruePositives + FalseNegatives)\n",
        "  Precision =  torch.nan_to_num(Precision)\n",
        "  Recall = torch.nan_to_num(Recall)\n",
        "  F1Scores = 2 * Precision * Recall/(Precision + Recall)\n",
        "  F1Scores = torch.nan_to_num(F1Scores)\n",
        "  return F1Scores"
      ],
      "execution_count": 21,
      "outputs": []
    },
    {
      "cell_type": "markdown",
      "metadata": {
        "id": "7o-z_Rv8aYgo"
      },
      "source": [
        "**Training loop**\n",
        "\n",
        "*   we set both the epoch loss and the F1 score of that epoch(shape - (batch size ,1) \n",
        "* model.train() is initiated to indicate to the model that it is being trained \n",
        "* We iterate through every batch and calculate the loss and F1 score at every batch.\n",
        "* loss.backward() completes the backpropagation and calculates the gradients. optimizer.step() updates the parameters of the model \n",
        "* optimizer.zero_grad() at the beginning of each loop initiates the gradients to be zero "
      ]
    },
    {
      "cell_type": "code",
      "metadata": {
        "id": "cy5ke-TDpGlO"
      },
      "source": [
        "def train(model, iterator, optimizer, criterion):\n",
        "    \n",
        "    epoch_loss = 0\n",
        "    epoch_F1 = torch.zeros(num_categ)\n",
        "    \n",
        "    model.train()\n",
        "    \n",
        "    for batch in iterator:\n",
        "        \n",
        "        optimizer.zero_grad()\n",
        "        \n",
        "        predictions = model(batch.d)\n",
        "        \n",
        "        loss = criterion(predictions, batch.c)\n",
        "        \n",
        "        F1 = batch_F1Scores(predictions, batch.c)\n",
        "        \n",
        "        loss.backward()\n",
        "        \n",
        "        optimizer.step()\n",
        "        \n",
        "        epoch_loss += loss.item()\n",
        "        epoch_F1 += F1\n",
        "        \n",
        "    return epoch_loss / len(iterator), epoch_F1 / len(iterator)\n"
      ],
      "execution_count": 22,
      "outputs": []
    },
    {
      "cell_type": "markdown",
      "metadata": {
        "id": "neO7AkDL8Zsg"
      },
      "source": [
        "The evaluate() function is similar except for 2 differences\n",
        "* model.eval() is used to tell the model that the model is going to be evaluated \n",
        "* with torch.no_grad() implies that the gradients are not calculated since we are only evaluating the model"
      ]
    },
    {
      "cell_type": "code",
      "metadata": {
        "id": "FCDUvfT2-Tjl"
      },
      "source": [
        "def evaluate(model, iterator, criterion):\n",
        "    \n",
        "    epoch_loss = 0\n",
        "    epoch_F1 = 0\n",
        "    \n",
        "    model.eval()\n",
        "    \n",
        "    with torch.no_grad():\n",
        "    \n",
        "        for batch in iterator:\n",
        "\n",
        "            predictions = model(batch.d)\n",
        "            \n",
        "            loss = criterion(predictions, batch.c)\n",
        "            \n",
        "            F1 = batch_F1Scores(predictions, batch.c)\n",
        "\n",
        "            epoch_loss += loss.item()\n",
        "            epoch_F1 += F1\n",
        "        \n",
        "    return epoch_loss / len(iterator), epoch_F1 / len(iterator)\n"
      ],
      "execution_count": 23,
      "outputs": []
    },
    {
      "cell_type": "markdown",
      "metadata": {
        "id": "GZvuVrsK-UPl"
      },
      "source": [
        "### **CNN for text classification**"
      ]
    },
    {
      "cell_type": "markdown",
      "metadata": {
        "id": "qv-VEl_kBts8"
      },
      "source": [
        "**Explaining the CNN Architecture**\n",
        "\n",
        "* Embedding layer \n",
        "    - Takes in a *input tensor of shape (batch_size, len_of_sentence)*, and converts the sentences to their GloVe vector represenations to give *output tensor of shape (batch_size,len_of_sentence, embedding_dimensions)* - in this case embedding_dimensions = 50\n",
        "    \n",
        "* Convolutional Layer (convLayers) \n",
        "    - It takes an *input tensor of shape (batch_size,len_of_sentence, embedding_dimensions)* and performs convolutional operations on it \n",
        "\n",
        "    - This layer is a *list of nn.conv2D* operations which has the same length as the number of filter sizes. So if the filter sizes are 2,3, and 4 it will *return a list of 3 tensors each of dimensions (batch_size, n_filters, len_of_sentence - filter_size[i] ) *, where i is the index of the tensor in the list\n",
        "    - Let's consider a filter size of 2 - the filter has dimensions (2, embedding_dim). This filter performs a convolution operatoion on each member of a batch ( dimensions - (batch_size, 1, len_of_sentence,embedding_dim) ). So essentially if we consider a particular description as a matrix of dimensions (len_of_sentence,embedding_dim), the filter moves vertically downwards on this matrix, performing a convolution operation to give a final vector of dimensions (len_of_sentence - embedding_dim). Since there are n_filters of each filter size, the final dimensions per description becomes (n_filters, len_of_sentence - embedding_dim). Since this operation in term is performed batchwise we have a final output tensor of dimensions (batch_size,n_filters,len_of_sentence-embedding_dim, 1)\n",
        "\n",
        "    - For more reference,  [nn.Conv2d()](https://pytorch.org/docs/stable/generated/torch.nn.Conv2d.html)\n",
        "\n",
        "* Relu layer \n",
        "    - Here essentially we *return a list of tensors each of dimensions (batch_size,n_filters,len_of_sentence-embedding_dim* . This corresponds to performing the [F.relu()](https://pytorch.org/docs/stable/nn.functional.html#relu) operation on each of the elements of the tensor obtained from convolved layer ( with the last dimension squeezed) \n",
        "\n",
        "* Pooling layer \n",
        "     - In this, we *return a list of tensors, each of whose elements has dimensions batch_size, n_filters* \n",
        "     - This essentially applies a max pooling layer over the last dimension of the output from the Relu layer ( extracts the maximum element ) , to get a list of tensors\n",
        "     - The intuition behind this is that we manage to extract the most important ( most active) from each of the filters that we use, and this can help us get a classification \n",
        "\n",
        "* Dropout layer followed by Concatenation\n",
        "    - We add a dropout layer to help with regularization ( preventing overfitting ) on the output from the Pooling layer\n",
        "    - Once we have applied dropout, we concatenate the individual tensors in the list to get a single tensor of dimensions ( batch_size, n_filters * len(filter_size) ) \n",
        "  \n",
        "* Fully connected layer \n",
        "    - This takes the tensor from the previous step, and feeds it to a fully connected layer to give an output tensor of dimensions (batch_size,output_dim). The output dimensions in this case is the number of categories.\n",
        "    - The category which has the highest activation is our final prediction \n",
        "\n",
        "**Why does using this architecture make sense?**\n",
        "\n"
      ]
    },
    {
      "cell_type": "code",
      "metadata": {
        "id": "IVTc_7V2rEAr"
      },
      "source": [
        "class CNNClassify(nn.Module) :\n",
        "  def __init__(self, vocab_size, embedding_dim, n_filters,filter_sizes,output_dim,dropout_rate,pad_idx) :\n",
        "    super().__init__()\n",
        "    # The first layer is an Embedding layer used to convert the words to their corresponding GloVe vector representation \n",
        "    self.embedding = nn.Embedding(vocab_size,embedding_dim)\n",
        "    \n",
        "    # We have a convLayers, which is a ModuleList(a list of ) \n",
        "    self.convLayers = nn.ModuleList([nn.Conv2d(in_channels = 1,out_channels = n_filters,kernel_size = (fs,embedding_dim)) for fs in filter_sizes ])\n",
        "\n",
        "    # A fully connected layer which takes in \n",
        "    self.fullyConnect = nn.Linear(len(filter_sizes) * n_filters, output_dim) \n",
        "    self.dropout = nn.Dropout(dropout_rate)\n",
        "\n",
        "  def forward(self,text) :\n",
        "    # Since the text we receive is of dimensions (len_of_sentence,batch_size) we switch the dimensions. This is similar to the transpose operation\n",
        "    text = text.permute(1,0)\n",
        "\n",
        "    # Converting the sentence into its GloVe Vector representation\n",
        "    embedded_sentence = self.embedding(text)\n",
        "\n",
        "    # The dimensions of embedded_sentence are (batch_size, len_of_sentence, embedding_dim) - we change dimensions to (batch_size, 1,len_of_sentence, embedding_dim) using unsqueeze\n",
        "    # function in order to perform the convolution operation \n",
        "    embedded_sentence = embedded_sentence.unsqueeze(1)\n",
        "\n",
        "    # Performing the convolution operations on the embedded_sentece\n",
        "    convolved =  [F.relu(conv(embedded_sentence)).squeeze(3) for conv in self.convLayers]\n",
        "\n",
        "    # Dimensions of convolved[i] = (batch_size, n_filters, len_of_sentence - filter_sizes[i])and i ranges from 0 to len(filter_size) - 1\n",
        "\n",
        "    pooled_layer = [F.max_pool1d(conv,conv.shape[2]).squeeze(2) for conv in convolved]\n",
        "\n",
        "\n",
        "    # Dimensions of pooled_layer[i] = (batch_size, n_filters)\n",
        "\n",
        "    cat_layer = self.dropout(torch.cat(pooled_layer,dim = 1))\n",
        "\n",
        "    # Dimensions of cat_layer = (batch_size, n_filters * len(filter_size) )\n",
        "    return self.fullyConnect(cat_layer)\n"
      ],
      "execution_count": 12,
      "outputs": []
    },
    {
      "cell_type": "code",
      "metadata": {
        "id": "qYIuXVza9X5J"
      },
      "source": [
        "VOCAB_SIZE = len(DESCRIPTION.vocab)\n",
        "EMBEDDING_DIM = 100\n",
        "N_FILTERS = 100\n",
        "FILTER_SIZES = [2,3,4,5,6]\n",
        "OUTPUT_DIM = len(CATEGORY.vocab)\n",
        "DROPOUT = 0.5\n",
        "PAD_IDX = DESCRIPTION.vocab.stoi[DESCRIPTION.pad_token]\n",
        "\n",
        "CNNmodel = CNNClassify(VOCAB_SIZE, EMBEDDING_DIM, N_FILTERS, FILTER_SIZES, OUTPUT_DIM, DROPOUT, PAD_IDX)\n"
      ],
      "execution_count": 24,
      "outputs": []
    },
    {
      "cell_type": "code",
      "metadata": {
        "colab": {
          "base_uri": "https://localhost:8080/"
        },
        "id": "KGBpWc_TXAX2",
        "outputId": "14ab6372-e7cb-48f1-e44b-9a7110a4bfd1"
      },
      "source": [
        "CNNmodel"
      ],
      "execution_count": null,
      "outputs": [
        {
          "output_type": "execute_result",
          "data": {
            "text/plain": [
              "CNNClassify(\n",
              "  (embedding): Embedding(13066, 100)\n",
              "  (convLayers): ModuleList(\n",
              "    (0): Conv2d(1, 100, kernel_size=(2, 100), stride=(1, 1))\n",
              "    (1): Conv2d(1, 100, kernel_size=(3, 100), stride=(1, 1))\n",
              "    (2): Conv2d(1, 100, kernel_size=(4, 100), stride=(1, 1))\n",
              "    (3): Conv2d(1, 100, kernel_size=(5, 100), stride=(1, 1))\n",
              "    (4): Conv2d(1, 100, kernel_size=(6, 100), stride=(1, 1))\n",
              "  )\n",
              "  (fullyConnect): Linear(in_features=500, out_features=35, bias=True)\n",
              "  (dropout): Dropout(p=0.5, inplace=False)\n",
              ")"
            ]
          },
          "metadata": {
            "tags": []
          },
          "execution_count": 15
        }
      ]
    },
    {
      "cell_type": "markdown",
      "metadata": {
        "id": "3dhdxMpRGm7v"
      },
      "source": [
        "We copy our GloVe 100 dimensional word embeddings to the embedding layer of the Model "
      ]
    },
    {
      "cell_type": "code",
      "metadata": {
        "id": "6cpYOAhMKxYr",
        "colab": {
          "base_uri": "https://localhost:8080/"
        },
        "outputId": "8e6d66dc-6723-44ba-dc48-f3cca56bdfd0"
      },
      "source": [
        "CNNmodel.embedding.weight.data.copy_(DESCRIPTION.vocab.vectors)\n",
        "CNNmodel.embedding.weight.data"
      ],
      "execution_count": null,
      "outputs": [
        {
          "output_type": "execute_result",
          "data": {
            "text/plain": [
              "tensor([[ 0.3374, -0.1778, -0.3035,  ...,  0.2770,  0.6455, -0.8957],\n",
              "        [ 0.4928, -0.0141, -0.2747,  ...,  0.0493,  0.8484,  0.4671],\n",
              "        [ 0.8338,  0.9443, -0.0114,  ..., -0.1500,  0.8400,  0.4852],\n",
              "        ...,\n",
              "        [-0.1623, -0.0926, -1.1067,  ...,  0.0262, -0.0052, -2.3561],\n",
              "        [-0.1873,  0.2027,  1.1976,  ...,  0.3397, -0.1919,  1.0648],\n",
              "        [-1.1966,  0.0796, -1.1000,  ..., -0.8675,  0.4538, -0.4539]])"
            ]
          },
          "metadata": {
            "tags": []
          },
          "execution_count": 16
        }
      ]
    },
    {
      "cell_type": "markdown",
      "metadata": {
        "id": "FmtCcB5DLLdG"
      },
      "source": [
        "We also set the embeddings of the unknown word and padding words to be equal to 0 ( So in our case the unknown words and pad words will have 50 dimensional vectors with all zeroes)"
      ]
    },
    {
      "cell_type": "code",
      "metadata": {
        "colab": {
          "base_uri": "https://localhost:8080/"
        },
        "id": "apd1jHLJK8b8",
        "outputId": "21f37734-054b-4e28-9412-d4d821ceb10f"
      },
      "source": [
        "UNK_IDX = DESCRIPTION.vocab.stoi[DESCRIPTION.unk_token]\n",
        "\n",
        "CNNmodel.embedding.weight.data[UNK_IDX] = torch.zeros(EMBEDDING_DIM)\n",
        "CNNmodel.embedding.weight.data[PAD_IDX] = torch.zeros(EMBEDDING_DIM)\n",
        "CNNmodel.embedding.weight.data\n"
      ],
      "execution_count": null,
      "outputs": [
        {
          "output_type": "execute_result",
          "data": {
            "text/plain": [
              "tensor([[ 0.0000,  0.0000,  0.0000,  ...,  0.0000,  0.0000,  0.0000],\n",
              "        [ 0.0000,  0.0000,  0.0000,  ...,  0.0000,  0.0000,  0.0000],\n",
              "        [ 0.8338,  0.9443, -0.0114,  ..., -0.1500,  0.8400,  0.4852],\n",
              "        ...,\n",
              "        [-0.1623, -0.0926, -1.1067,  ...,  0.0262, -0.0052, -2.3561],\n",
              "        [-0.1873,  0.2027,  1.1976,  ...,  0.3397, -0.1919,  1.0648],\n",
              "        [-1.1966,  0.0796, -1.1000,  ..., -0.8675,  0.4538, -0.4539]])"
            ]
          },
          "metadata": {
            "tags": []
          },
          "execution_count": 17
        }
      ]
    },
    {
      "cell_type": "markdown",
      "metadata": {
        "id": "bBV-PFKiLgaT"
      },
      "source": [
        "We now define our optimizer which is used to update the parameters and our loss function. \n",
        "* For optimization we use the Adam optimizer \n",
        "* The loss function is defined to be the Cross Entropy loss \n",
        "\n",
        "We also move our model, and criterion ( loss function) to the GPU to be able to train the model"
      ]
    },
    {
      "cell_type": "code",
      "metadata": {
        "id": "8OERVvrdMdfL"
      },
      "source": [
        "import torch.optim as optim\n",
        "\n",
        "optimizer = optim.Adam(CNNmodel.parameters(),lr = 0.01)\n",
        "criterion = nn.CrossEntropyLoss()\n",
        "\n",
        "CNNmodel = CNNmodel.to(device)\n",
        "criterion = criterion.to(device)\n"
      ],
      "execution_count": null,
      "outputs": []
    },
    {
      "cell_type": "markdown",
      "metadata": {
        "id": "u_xJr62AWLPs"
      },
      "source": [
        "We train the model for 5 epochs,"
      ]
    },
    {
      "cell_type": "code",
      "metadata": {
        "colab": {
          "base_uri": "https://localhost:8080/"
        },
        "id": "X1-vbW29bQhn",
        "outputId": "3601569a-2da5-48d3-b21f-7b865bea590a"
      },
      "source": [
        "N_EPOCHS = 5\n",
        "\n",
        "best_valid_loss = float('inf')\n",
        "\n",
        "for epoch in range(N_EPOCHS):\n",
        "    \n",
        "    train_loss, train_F1 = train(CNNmodel, train_iterator, optimizer, criterion)\n",
        "    valid_loss, valid_F1 = evaluate(CNNmodel, valid_iterator, criterion)\n",
        "        \n",
        "    print(f'Epoch: {epoch+1:02}')\n",
        "    print(f'\\tTrain Loss: {train_loss:.3f}')\n",
        "    print(\"Training F1 Scores\")\n",
        "    for i in range(train_F1.shape[0]) :\n",
        "      categ_name = CATEGORY.vocab.itos[i] \n",
        "      print(f\"Category - {categ_name} , Frequency :{CATEGORY.vocab.freqs[categ_name]}, F1 Score : {train_F1[i]}\")\n",
        "    print(\" \")\n",
        "\n",
        "    print(f'\\t Val. Loss: {valid_loss:.3f}')\n",
        "    for i in range(valid_F1.shape[0]) :\n",
        "      categ_name = CATEGORY.vocab.itos[i] \n",
        "      print(f\"Category - {categ_name} , Frequency :{CATEGORY.vocab.freqs[categ_name]}, F1 Score : {valid_F1[i]}\")\n",
        "    \n",
        "    print(\"--------------------\")\n"
      ],
      "execution_count": null,
      "outputs": [
        {
          "output_type": "stream",
          "text": [
            "Epoch: 01\n",
            "\tTrain Loss: 1.138\n",
            "Training F1 Scores\n",
            "Category - <unk> , Frequency :0, F1 Score : 0.0\n",
            "Category - Clothing  , Frequency :3740, F1 Score : 0.7350893616676331\n",
            "Category - Jewellery  , Frequency :2122, F1 Score : 0.8458963632583618\n",
            "Category - Tops & Tunics  , Frequency :757, F1 Score : 0.29800519347190857\n",
            "Category - Footwear  , Frequency :730, F1 Score : 0.8085187673568726\n",
            "Category - Sleep & Swimwear  , Frequency :728, F1 Score : 0.3048875629901886\n",
            "Category - Mobiles & Accessories  , Frequency :653, F1 Score : 0.7855855226516724\n",
            "Category - Automotive  , Frequency :600, F1 Score : 0.8157932758331299\n",
            "Category - Home Decor & Festive Needs  , Frequency :558, F1 Score : 0.6786298751831055\n",
            "Category - Beauty and Personal Care  , Frequency :462, F1 Score : 0.5928982496261597\n",
            "Category - Bracelets & Armlets  , Frequency :433, F1 Score : 0.2614552080631256\n",
            "Category - Home Furnishing  , Frequency :423, F1 Score : 0.48012712597846985\n",
            "Category - Kitchen & Dining  , Frequency :396, F1 Score : 0.6394255757331848\n",
            "Category - Computers  , Frequency :334, F1 Score : 0.5401682257652283\n",
            "Category - Watches  , Frequency :321, F1 Score : 0.6741355657577515\n",
            "Category - Baby Care  , Frequency :305, F1 Score : 0.39281564950942993\n",
            "Category - Tools & Hardware  , Frequency :223, F1 Score : 0.4803813397884369\n",
            "Category - Toys & School Supplies  , Frequency :200, F1 Score : 0.24238313734531403\n",
            "Category - Pens & Stationery  , Frequency :185, F1 Score : 0.16096745431423187\n",
            "Category - Bags , Frequency :156, F1 Score : 0.1497952938079834\n",
            "Category - Wallets & Belts  , Frequency :150, F1 Score : 0.10482653230428696\n",
            "Category - Quilts & Dohars , Frequency :117, F1 Score : 0.14705879986286163\n",
            "Category - Furniture  , Frequency :96, F1 Score : 0.16651582717895508\n",
            "Category - Sports & Fitness  , Frequency :94, F1 Score : 0.08280542492866516\n",
            "Category - Pillows & Covers  , Frequency :55, F1 Score : 0.04826546087861061\n",
            "Category - Cameras & Accessories  , Frequency :50, F1 Score : 0.0935143381357193\n",
            "Category - Pen & Pencil boxes  , Frequency :41, F1 Score : 0.024132730439305305\n",
            "Category - Home Improvement  , Frequency :35, F1 Score : 0.013574660755693913\n",
            "Category - Health & Personal Care Appliances  , Frequency :23, F1 Score : 0.0\n",
            "Category - Plants & Vases  , Frequency :22, F1 Score : 0.004524887073785067\n",
            "Category - Pet Supplies  , Frequency :21, F1 Score : 0.022624434903264046\n",
            "Category - Home & Kitchen  , Frequency :17, F1 Score : 0.0\n",
            "Category - Sunglasses  , Frequency :17, F1 Score : 0.018099548295140266\n",
            "Category - Gaming  , Frequency :15, F1 Score : 0.013574660755693913\n",
            "Category - Shorts & 3/4ths  , Frequency :9, F1 Score : 0.0\n",
            " \n",
            "\t Val. Loss: 0.609\n",
            "Category - <unk> , Frequency :0, F1 Score : 0.0\n",
            "Category - Clothing  , Frequency :3740, F1 Score : 0.7747129797935486\n",
            "Category - Jewellery  , Frequency :2122, F1 Score : 0.8683978319168091\n",
            "Category - Tops & Tunics  , Frequency :757, F1 Score : 0.15567152202129364\n",
            "Category - Footwear  , Frequency :730, F1 Score : 0.9188114404678345\n",
            "Category - Sleep & Swimwear  , Frequency :728, F1 Score : 0.24672619998455048\n",
            "Category - Mobiles & Accessories  , Frequency :653, F1 Score : 0.8608121871948242\n",
            "Category - Automotive  , Frequency :600, F1 Score : 0.8945294618606567\n",
            "Category - Home Decor & Festive Needs  , Frequency :558, F1 Score : 0.8137653470039368\n",
            "Category - Beauty and Personal Care  , Frequency :462, F1 Score : 0.6759211421012878\n",
            "Category - Bracelets & Armlets  , Frequency :433, F1 Score : 0.2521258294582367\n",
            "Category - Home Furnishing  , Frequency :423, F1 Score : 0.6708899736404419\n",
            "Category - Kitchen & Dining  , Frequency :396, F1 Score : 0.6875\n",
            "Category - Computers  , Frequency :334, F1 Score : 0.6853175163269043\n",
            "Category - Watches  , Frequency :321, F1 Score : 0.7107142806053162\n",
            "Category - Baby Care  , Frequency :305, F1 Score : 0.43511897325515747\n",
            "Category - Tools & Hardware  , Frequency :223, F1 Score : 0.5916666388511658\n",
            "Category - Toys & School Supplies  , Frequency :200, F1 Score : 0.36556121706962585\n",
            "Category - Pens & Stationery  , Frequency :185, F1 Score : 0.2886905074119568\n",
            "Category - Bags , Frequency :156, F1 Score : 0.2867913842201233\n",
            "Category - Wallets & Belts  , Frequency :150, F1 Score : 0.01785714365541935\n",
            "Category - Quilts & Dohars , Frequency :117, F1 Score : 0.05595238134264946\n",
            "Category - Furniture  , Frequency :96, F1 Score : 0.4107142388820648\n",
            "Category - Sports & Fitness  , Frequency :94, F1 Score : 0.3261904716491699\n",
            "Category - Pillows & Covers  , Frequency :55, F1 Score : 0.0833333283662796\n",
            "Category - Cameras & Accessories  , Frequency :50, F1 Score : 0.190476194024086\n",
            "Category - Pen & Pencil boxes  , Frequency :41, F1 Score : 0.0\n",
            "Category - Home Improvement  , Frequency :35, F1 Score : 0.0476190485060215\n",
            "Category - Health & Personal Care Appliances  , Frequency :23, F1 Score : 0.01785714365541935\n",
            "Category - Plants & Vases  , Frequency :22, F1 Score : 0.0535714291036129\n",
            "Category - Pet Supplies  , Frequency :21, F1 Score : 0.0357142873108387\n",
            "Category - Home & Kitchen  , Frequency :17, F1 Score : 0.0\n",
            "Category - Sunglasses  , Frequency :17, F1 Score : 0.095238097012043\n",
            "Category - Gaming  , Frequency :15, F1 Score : 0.0535714291036129\n",
            "Category - Shorts & 3/4ths  , Frequency :9, F1 Score : 0.0\n",
            "--------------------\n",
            "Epoch: 02\n",
            "\tTrain Loss: 0.757\n",
            "Training F1 Scores\n",
            "Category - <unk> , Frequency :0, F1 Score : 0.0\n",
            "Category - Clothing  , Frequency :3740, F1 Score : 0.7626092433929443\n",
            "Category - Jewellery  , Frequency :2122, F1 Score : 0.8768022656440735\n",
            "Category - Tops & Tunics  , Frequency :757, F1 Score : 0.34216827154159546\n",
            "Category - Footwear  , Frequency :730, F1 Score : 0.9174207448959351\n",
            "Category - Sleep & Swimwear  , Frequency :728, F1 Score : 0.371603786945343\n",
            "Category - Mobiles & Accessories  , Frequency :653, F1 Score : 0.8764784336090088\n",
            "Category - Automotive  , Frequency :600, F1 Score : 0.8966225385665894\n",
            "Category - Home Decor & Festive Needs  , Frequency :558, F1 Score : 0.8266928195953369\n",
            "Category - Beauty and Personal Care  , Frequency :462, F1 Score : 0.8010753989219666\n",
            "Category - Bracelets & Armlets  , Frequency :433, F1 Score : 0.3475632071495056\n",
            "Category - Home Furnishing  , Frequency :423, F1 Score : 0.5827459692955017\n",
            "Category - Kitchen & Dining  , Frequency :396, F1 Score : 0.7577318549156189\n",
            "Category - Computers  , Frequency :334, F1 Score : 0.66250079870224\n",
            "Category - Watches  , Frequency :321, F1 Score : 0.750786542892456\n",
            "Category - Baby Care  , Frequency :305, F1 Score : 0.5154203176498413\n",
            "Category - Tools & Hardware  , Frequency :223, F1 Score : 0.5738633871078491\n",
            "Category - Toys & School Supplies  , Frequency :200, F1 Score : 0.40502044558525085\n",
            "Category - Pens & Stationery  , Frequency :185, F1 Score : 0.3173346519470215\n",
            "Category - Bags , Frequency :156, F1 Score : 0.15533290803432465\n",
            "Category - Wallets & Belts  , Frequency :150, F1 Score : 0.16050417721271515\n",
            "Category - Quilts & Dohars , Frequency :117, F1 Score : 0.13570350408554077\n",
            "Category - Furniture  , Frequency :96, F1 Score : 0.30000001192092896\n",
            "Category - Sports & Fitness  , Frequency :94, F1 Score : 0.22865761816501617\n",
            "Category - Pillows & Covers  , Frequency :55, F1 Score : 0.09049773961305618\n",
            "Category - Cameras & Accessories  , Frequency :50, F1 Score : 0.17405731976032257\n",
            "Category - Pen & Pencil boxes  , Frequency :41, F1 Score : 0.031674209982156754\n",
            "Category - Home Improvement  , Frequency :35, F1 Score : 0.07541478425264359\n",
            "Category - Health & Personal Care Appliances  , Frequency :23, F1 Score : 0.015082957223057747\n",
            "Category - Plants & Vases  , Frequency :22, F1 Score : 0.03318250551819801\n",
            "Category - Pet Supplies  , Frequency :21, F1 Score : 0.04977375641465187\n",
            "Category - Home & Kitchen  , Frequency :17, F1 Score : 0.0075414786115288734\n",
            "Category - Sunglasses  , Frequency :17, F1 Score : 0.04977375641465187\n",
            "Category - Gaming  , Frequency :15, F1 Score : 0.03619909659028053\n",
            "Category - Shorts & 3/4ths  , Frequency :9, F1 Score : 0.013574660755693913\n",
            " \n",
            "\t Val. Loss: 0.639\n",
            "Category - <unk> , Frequency :0, F1 Score : 0.0\n",
            "Category - Clothing  , Frequency :3740, F1 Score : 0.7387386560440063\n",
            "Category - Jewellery  , Frequency :2122, F1 Score : 0.8637713193893433\n",
            "Category - Tops & Tunics  , Frequency :757, F1 Score : 0.4560302197933197\n",
            "Category - Footwear  , Frequency :730, F1 Score : 0.9226190447807312\n",
            "Category - Sleep & Swimwear  , Frequency :728, F1 Score : 0.4811559021472931\n",
            "Category - Mobiles & Accessories  , Frequency :653, F1 Score : 0.8932467699050903\n",
            "Category - Automotive  , Frequency :600, F1 Score : 0.8692744374275208\n",
            "Category - Home Decor & Festive Needs  , Frequency :558, F1 Score : 0.8728970289230347\n",
            "Category - Beauty and Personal Care  , Frequency :462, F1 Score : 0.6996031403541565\n",
            "Category - Bracelets & Armlets  , Frequency :433, F1 Score : 0.2738945484161377\n",
            "Category - Home Furnishing  , Frequency :423, F1 Score : 0.6399660110473633\n",
            "Category - Kitchen & Dining  , Frequency :396, F1 Score : 0.6946428418159485\n",
            "Category - Computers  , Frequency :334, F1 Score : 0.7264456152915955\n",
            "Category - Watches  , Frequency :321, F1 Score : 0.7071428298950195\n",
            "Category - Baby Care  , Frequency :305, F1 Score : 0.4605441093444824\n",
            "Category - Tools & Hardware  , Frequency :223, F1 Score : 0.597449004650116\n",
            "Category - Toys & School Supplies  , Frequency :200, F1 Score : 0.3595237731933594\n",
            "Category - Pens & Stationery  , Frequency :185, F1 Score : 0.29999998211860657\n",
            "Category - Bags , Frequency :156, F1 Score : 0.26417237520217896\n",
            "Category - Wallets & Belts  , Frequency :150, F1 Score : 0.011904762126505375\n",
            "Category - Quilts & Dohars , Frequency :117, F1 Score : 0.0714285746216774\n",
            "Category - Furniture  , Frequency :96, F1 Score : 0.363095223903656\n",
            "Category - Sports & Fitness  , Frequency :94, F1 Score : 0.40714284777641296\n",
            "Category - Pillows & Covers  , Frequency :55, F1 Score : 0.0535714291036129\n",
            "Category - Cameras & Accessories  , Frequency :50, F1 Score : 0.1726190596818924\n",
            "Category - Pen & Pencil boxes  , Frequency :41, F1 Score : 0.011904762126505375\n",
            "Category - Home Improvement  , Frequency :35, F1 Score : 0.1011904701590538\n",
            "Category - Health & Personal Care Appliances  , Frequency :23, F1 Score : 0.0357142873108387\n",
            "Category - Plants & Vases  , Frequency :22, F1 Score : 0.0535714291036129\n",
            "Category - Pet Supplies  , Frequency :21, F1 Score : 0.0357142873108387\n",
            "Category - Home & Kitchen  , Frequency :17, F1 Score : 0.0\n",
            "Category - Sunglasses  , Frequency :17, F1 Score : 0.130952388048172\n",
            "Category - Gaming  , Frequency :15, F1 Score : 0.065476194024086\n",
            "Category - Shorts & 3/4ths  , Frequency :9, F1 Score : 0.0\n",
            "--------------------\n",
            "Epoch: 03\n",
            "\tTrain Loss: 0.667\n",
            "Training F1 Scores\n",
            "Category - <unk> , Frequency :0, F1 Score : 0.0\n",
            "Category - Clothing  , Frequency :3740, F1 Score : 0.7767220735549927\n",
            "Category - Jewellery  , Frequency :2122, F1 Score : 0.8805806636810303\n",
            "Category - Tops & Tunics  , Frequency :757, F1 Score : 0.3598851263523102\n",
            "Category - Footwear  , Frequency :730, F1 Score : 0.9465987086296082\n",
            "Category - Sleep & Swimwear  , Frequency :728, F1 Score : 0.372670441865921\n",
            "Category - Mobiles & Accessories  , Frequency :653, F1 Score : 0.8965634107589722\n",
            "Category - Automotive  , Frequency :600, F1 Score : 0.9022861123085022\n",
            "Category - Home Decor & Festive Needs  , Frequency :558, F1 Score : 0.8533522486686707\n",
            "Category - Beauty and Personal Care  , Frequency :462, F1 Score : 0.8467605113983154\n",
            "Category - Bracelets & Armlets  , Frequency :433, F1 Score : 0.35581353306770325\n",
            "Category - Home Furnishing  , Frequency :423, F1 Score : 0.5860691070556641\n",
            "Category - Kitchen & Dining  , Frequency :396, F1 Score : 0.8063329458236694\n",
            "Category - Computers  , Frequency :334, F1 Score : 0.7104359865188599\n",
            "Category - Watches  , Frequency :321, F1 Score : 0.751030683517456\n",
            "Category - Baby Care  , Frequency :305, F1 Score : 0.6127557754516602\n",
            "Category - Tools & Hardware  , Frequency :223, F1 Score : 0.6000986099243164\n",
            "Category - Toys & School Supplies  , Frequency :200, F1 Score : 0.4286144971847534\n",
            "Category - Pens & Stationery  , Frequency :185, F1 Score : 0.36133742332458496\n",
            "Category - Bags , Frequency :156, F1 Score : 0.2131221890449524\n",
            "Category - Wallets & Belts  , Frequency :150, F1 Score : 0.18205127120018005\n",
            "Category - Quilts & Dohars , Frequency :117, F1 Score : 0.143891379237175\n",
            "Category - Furniture  , Frequency :96, F1 Score : 0.32262447476387024\n",
            "Category - Sports & Fitness  , Frequency :94, F1 Score : 0.2811463177204132\n",
            "Category - Pillows & Covers  , Frequency :55, F1 Score : 0.080693818628788\n",
            "Category - Cameras & Accessories  , Frequency :50, F1 Score : 0.1892911195755005\n",
            "Category - Pen & Pencil boxes  , Frequency :41, F1 Score : 0.04524886980652809\n",
            "Category - Home Improvement  , Frequency :35, F1 Score : 0.09276017546653748\n",
            "Category - Health & Personal Care Appliances  , Frequency :23, F1 Score : 0.04977375641465187\n",
            "Category - Plants & Vases  , Frequency :22, F1 Score : 0.009049774147570133\n",
            "Category - Pet Supplies  , Frequency :21, F1 Score : 0.05882353335618973\n",
            "Category - Home & Kitchen  , Frequency :17, F1 Score : 0.04524886980652809\n",
            "Category - Sunglasses  , Frequency :17, F1 Score : 0.05882352963089943\n",
            "Category - Gaming  , Frequency :15, F1 Score : 0.04072398319840431\n",
            "Category - Shorts & 3/4ths  , Frequency :9, F1 Score : 0.004524887073785067\n",
            " \n",
            "\t Val. Loss: 0.635\n",
            "Category - <unk> , Frequency :0, F1 Score : 0.0\n",
            "Category - Clothing  , Frequency :3740, F1 Score : 0.7509588599205017\n",
            "Category - Jewellery  , Frequency :2122, F1 Score : 0.8582372069358826\n",
            "Category - Tops & Tunics  , Frequency :757, F1 Score : 0.35982173681259155\n",
            "Category - Footwear  , Frequency :730, F1 Score : 0.920634925365448\n",
            "Category - Sleep & Swimwear  , Frequency :728, F1 Score : 0.570655345916748\n",
            "Category - Mobiles & Accessories  , Frequency :653, F1 Score : 0.8991555571556091\n",
            "Category - Automotive  , Frequency :600, F1 Score : 0.8740363121032715\n",
            "Category - Home Decor & Festive Needs  , Frequency :558, F1 Score : 0.8649582862854004\n",
            "Category - Beauty and Personal Care  , Frequency :462, F1 Score : 0.6798895001411438\n",
            "Category - Bracelets & Armlets  , Frequency :433, F1 Score : 0.36774376034736633\n",
            "Category - Home Furnishing  , Frequency :423, F1 Score : 0.5882368683815002\n",
            "Category - Kitchen & Dining  , Frequency :396, F1 Score : 0.6870670914649963\n",
            "Category - Computers  , Frequency :334, F1 Score : 0.7647109031677246\n",
            "Category - Watches  , Frequency :321, F1 Score : 0.7142857313156128\n",
            "Category - Baby Care  , Frequency :305, F1 Score : 0.5568026900291443\n",
            "Category - Tools & Hardware  , Frequency :223, F1 Score : 0.5700680017471313\n",
            "Category - Toys & School Supplies  , Frequency :200, F1 Score : 0.3673469126224518\n",
            "Category - Pens & Stationery  , Frequency :185, F1 Score : 0.2964286208152771\n",
            "Category - Bags , Frequency :156, F1 Score : 0.14047618210315704\n",
            "Category - Wallets & Belts  , Frequency :150, F1 Score : 0.3125\n",
            "Category - Quilts & Dohars , Frequency :117, F1 Score : 0.28809526562690735\n",
            "Category - Furniture  , Frequency :96, F1 Score : 0.4107142984867096\n",
            "Category - Sports & Fitness  , Frequency :94, F1 Score : 0.40714284777641296\n",
            "Category - Pillows & Covers  , Frequency :55, F1 Score : 0.0357142873108387\n",
            "Category - Cameras & Accessories  , Frequency :50, F1 Score : 0.1785714328289032\n",
            "Category - Pen & Pencil boxes  , Frequency :41, F1 Score : 0.0\n",
            "Category - Home Improvement  , Frequency :35, F1 Score : 0.12142857164144516\n",
            "Category - Health & Personal Care Appliances  , Frequency :23, F1 Score : 0.0535714291036129\n",
            "Category - Plants & Vases  , Frequency :22, F1 Score : 0.0535714291036129\n",
            "Category - Pet Supplies  , Frequency :21, F1 Score : 0.0357142873108387\n",
            "Category - Home & Kitchen  , Frequency :17, F1 Score : 0.0\n",
            "Category - Sunglasses  , Frequency :17, F1 Score : 0.1428571492433548\n",
            "Category - Gaming  , Frequency :15, F1 Score : 0.0714285746216774\n",
            "Category - Shorts & 3/4ths  , Frequency :9, F1 Score : 0.0\n",
            "--------------------\n",
            "Epoch: 04\n",
            "\tTrain Loss: 0.594\n",
            "Training F1 Scores\n",
            "Category - <unk> , Frequency :0, F1 Score : 0.0\n",
            "Category - Clothing  , Frequency :3740, F1 Score : 0.7736327052116394\n",
            "Category - Jewellery  , Frequency :2122, F1 Score : 0.8838515877723694\n",
            "Category - Tops & Tunics  , Frequency :757, F1 Score : 0.39441487193107605\n",
            "Category - Footwear  , Frequency :730, F1 Score : 0.9609096050262451\n",
            "Category - Sleep & Swimwear  , Frequency :728, F1 Score : 0.37488603591918945\n",
            "Category - Mobiles & Accessories  , Frequency :653, F1 Score : 0.9156268239021301\n",
            "Category - Automotive  , Frequency :600, F1 Score : 0.9107828140258789\n",
            "Category - Home Decor & Festive Needs  , Frequency :558, F1 Score : 0.8889260292053223\n",
            "Category - Beauty and Personal Care  , Frequency :462, F1 Score : 0.8487592339515686\n",
            "Category - Bracelets & Armlets  , Frequency :433, F1 Score : 0.33789023756980896\n",
            "Category - Home Furnishing  , Frequency :423, F1 Score : 0.6048442721366882\n",
            "Category - Kitchen & Dining  , Frequency :396, F1 Score : 0.8155335783958435\n",
            "Category - Computers  , Frequency :334, F1 Score : 0.7417510747909546\n",
            "Category - Watches  , Frequency :321, F1 Score : 0.7537454962730408\n",
            "Category - Baby Care  , Frequency :305, F1 Score : 0.6053977608680725\n",
            "Category - Tools & Hardware  , Frequency :223, F1 Score : 0.6199095249176025\n",
            "Category - Toys & School Supplies  , Frequency :200, F1 Score : 0.4371076822280884\n",
            "Category - Pens & Stationery  , Frequency :185, F1 Score : 0.38758885860443115\n",
            "Category - Bags , Frequency :156, F1 Score : 0.26742082834243774\n",
            "Category - Wallets & Belts  , Frequency :150, F1 Score : 0.19547511637210846\n",
            "Category - Quilts & Dohars , Frequency :117, F1 Score : 0.1591467261314392\n",
            "Category - Furniture  , Frequency :96, F1 Score : 0.3484162986278534\n",
            "Category - Sports & Fitness  , Frequency :94, F1 Score : 0.27511316537857056\n",
            "Category - Pillows & Covers  , Frequency :55, F1 Score : 0.10211160778999329\n",
            "Category - Cameras & Accessories  , Frequency :50, F1 Score : 0.17797887325286865\n",
            "Category - Pen & Pencil boxes  , Frequency :41, F1 Score : 0.036199092864990234\n",
            "Category - Home Improvement  , Frequency :35, F1 Score : 0.11463046818971634\n",
            "Category - Health & Personal Care Appliances  , Frequency :23, F1 Score : 0.06938159465789795\n",
            "Category - Plants & Vases  , Frequency :22, F1 Score : 0.027149321511387825\n",
            "Category - Pet Supplies  , Frequency :21, F1 Score : 0.05429864302277565\n",
            "Category - Home & Kitchen  , Frequency :17, F1 Score : 0.05128205567598343\n",
            "Category - Sunglasses  , Frequency :17, F1 Score : 0.06787330657243729\n",
            "Category - Gaming  , Frequency :15, F1 Score : 0.05429864302277565\n",
            "Category - Shorts & 3/4ths  , Frequency :9, F1 Score : 0.009049774147570133\n",
            " \n",
            "\t Val. Loss: 0.729\n",
            "Category - <unk> , Frequency :0, F1 Score : 0.0\n",
            "Category - Clothing  , Frequency :3740, F1 Score : 0.7533751726150513\n",
            "Category - Jewellery  , Frequency :2122, F1 Score : 0.8858647346496582\n",
            "Category - Tops & Tunics  , Frequency :757, F1 Score : 0.5037083029747009\n",
            "Category - Footwear  , Frequency :730, F1 Score : 0.9194445013999939\n",
            "Category - Sleep & Swimwear  , Frequency :728, F1 Score : 0.07465986907482147\n",
            "Category - Mobiles & Accessories  , Frequency :653, F1 Score : 0.8939134478569031\n",
            "Category - Automotive  , Frequency :600, F1 Score : 0.8641723394393921\n",
            "Category - Home Decor & Festive Needs  , Frequency :558, F1 Score : 0.8611240386962891\n",
            "Category - Beauty and Personal Care  , Frequency :462, F1 Score : 0.7066468000411987\n",
            "Category - Bracelets & Armlets  , Frequency :433, F1 Score : 0.0357142873108387\n",
            "Category - Home Furnishing  , Frequency :423, F1 Score : 0.5404335856437683\n",
            "Category - Kitchen & Dining  , Frequency :396, F1 Score : 0.6781385540962219\n",
            "Category - Computers  , Frequency :334, F1 Score : 0.7581915855407715\n",
            "Category - Watches  , Frequency :321, F1 Score : 0.7142857313156128\n",
            "Category - Baby Care  , Frequency :305, F1 Score : 0.525425136089325\n",
            "Category - Tools & Hardware  , Frequency :223, F1 Score : 0.5914965867996216\n",
            "Category - Toys & School Supplies  , Frequency :200, F1 Score : 0.3932822644710541\n",
            "Category - Pens & Stationery  , Frequency :185, F1 Score : 0.2904761731624603\n",
            "Category - Bags , Frequency :156, F1 Score : 0.15714284777641296\n",
            "Category - Wallets & Belts  , Frequency :150, F1 Score : 0.15535715222358704\n",
            "Category - Quilts & Dohars , Frequency :117, F1 Score : 0.181547611951828\n",
            "Category - Furniture  , Frequency :96, F1 Score : 0.3809523582458496\n",
            "Category - Sports & Fitness  , Frequency :94, F1 Score : 0.41904762387275696\n",
            "Category - Pillows & Covers  , Frequency :55, F1 Score : 0.1428571492433548\n",
            "Category - Cameras & Accessories  , Frequency :50, F1 Score : 0.1785714328289032\n",
            "Category - Pen & Pencil boxes  , Frequency :41, F1 Score : 0.011904762126505375\n",
            "Category - Home Improvement  , Frequency :35, F1 Score : 0.0833333283662796\n",
            "Category - Health & Personal Care Appliances  , Frequency :23, F1 Score : 0.0535714291036129\n",
            "Category - Plants & Vases  , Frequency :22, F1 Score : 0.0535714291036129\n",
            "Category - Pet Supplies  , Frequency :21, F1 Score : 0.0357142873108387\n",
            "Category - Home & Kitchen  , Frequency :17, F1 Score : 0.0\n",
            "Category - Sunglasses  , Frequency :17, F1 Score : 0.1369047611951828\n",
            "Category - Gaming  , Frequency :15, F1 Score : 0.0714285746216774\n",
            "Category - Shorts & 3/4ths  , Frequency :9, F1 Score : 0.01785714365541935\n",
            "--------------------\n",
            "Epoch: 05\n",
            "\tTrain Loss: 0.606\n",
            "Training F1 Scores\n",
            "Category - <unk> , Frequency :0, F1 Score : 0.0\n",
            "Category - Clothing  , Frequency :3740, F1 Score : 0.7884250283241272\n",
            "Category - Jewellery  , Frequency :2122, F1 Score : 0.8911865949630737\n",
            "Category - Tops & Tunics  , Frequency :757, F1 Score : 0.4040166139602661\n",
            "Category - Footwear  , Frequency :730, F1 Score : 0.9554469585418701\n",
            "Category - Sleep & Swimwear  , Frequency :728, F1 Score : 0.413702130317688\n",
            "Category - Mobiles & Accessories  , Frequency :653, F1 Score : 0.9101537466049194\n",
            "Category - Automotive  , Frequency :600, F1 Score : 0.9192448258399963\n",
            "Category - Home Decor & Festive Needs  , Frequency :558, F1 Score : 0.8915395140647888\n",
            "Category - Beauty and Personal Care  , Frequency :462, F1 Score : 0.8382821083068848\n",
            "Category - Bracelets & Armlets  , Frequency :433, F1 Score : 0.3907430171966553\n",
            "Category - Home Furnishing  , Frequency :423, F1 Score : 0.5951626300811768\n",
            "Category - Kitchen & Dining  , Frequency :396, F1 Score : 0.8072831630706787\n",
            "Category - Computers  , Frequency :334, F1 Score : 0.7305251359939575\n",
            "Category - Watches  , Frequency :321, F1 Score : 0.7441930174827576\n",
            "Category - Baby Care  , Frequency :305, F1 Score : 0.6123910546302795\n",
            "Category - Tools & Hardware  , Frequency :223, F1 Score : 0.5966818332672119\n",
            "Category - Toys & School Supplies  , Frequency :200, F1 Score : 0.457731693983078\n",
            "Category - Pens & Stationery  , Frequency :185, F1 Score : 0.41537386178970337\n",
            "Category - Bags , Frequency :156, F1 Score : 0.16817495226860046\n",
            "Category - Wallets & Belts  , Frequency :150, F1 Score : 0.19381600618362427\n",
            "Category - Quilts & Dohars , Frequency :117, F1 Score : 0.14072394371032715\n",
            "Category - Furniture  , Frequency :96, F1 Score : 0.32096531987190247\n",
            "Category - Sports & Fitness  , Frequency :94, F1 Score : 0.2736048400402069\n",
            "Category - Pillows & Covers  , Frequency :55, F1 Score : 0.07239820063114166\n",
            "Category - Cameras & Accessories  , Frequency :50, F1 Score : 0.1945701390504837\n",
            "Category - Pen & Pencil boxes  , Frequency :41, F1 Score : 0.05429864302277565\n",
            "Category - Home Improvement  , Frequency :35, F1 Score : 0.11312217265367508\n",
            "Category - Health & Personal Care Appliances  , Frequency :23, F1 Score : 0.08144796639680862\n",
            "Category - Plants & Vases  , Frequency :22, F1 Score : 0.03469080105423927\n",
            "Category - Pet Supplies  , Frequency :21, F1 Score : 0.06636500358581543\n",
            "Category - Home & Kitchen  , Frequency :17, F1 Score : 0.03770739212632179\n",
            "Category - Sunglasses  , Frequency :17, F1 Score : 0.06787330657243729\n",
            "Category - Gaming  , Frequency :15, F1 Score : 0.04072398319840431\n",
            "Category - Shorts & 3/4ths  , Frequency :9, F1 Score : 0.009049774147570133\n",
            " \n",
            "\t Val. Loss: 0.833\n",
            "Category - <unk> , Frequency :0, F1 Score : 0.0\n",
            "Category - Clothing  , Frequency :3740, F1 Score : 0.7905120253562927\n",
            "Category - Jewellery  , Frequency :2122, F1 Score : 0.8461951017379761\n",
            "Category - Tops & Tunics  , Frequency :757, F1 Score : 0.034665532410144806\n",
            "Category - Footwear  , Frequency :730, F1 Score : 0.9226190447807312\n",
            "Category - Sleep & Swimwear  , Frequency :728, F1 Score : 0.027125850319862366\n",
            "Category - Mobiles & Accessories  , Frequency :653, F1 Score : 0.8981634378433228\n",
            "Category - Automotive  , Frequency :600, F1 Score : 0.8702947497367859\n",
            "Category - Home Decor & Festive Needs  , Frequency :558, F1 Score : 0.8621030449867249\n",
            "Category - Beauty and Personal Care  , Frequency :462, F1 Score : 0.6518706679344177\n",
            "Category - Bracelets & Armlets  , Frequency :433, F1 Score : 0.44710874557495117\n",
            "Category - Home Furnishing  , Frequency :423, F1 Score : 0.6043082475662231\n",
            "Category - Kitchen & Dining  , Frequency :396, F1 Score : 0.6974489092826843\n",
            "Category - Computers  , Frequency :334, F1 Score : 0.7742347121238708\n",
            "Category - Watches  , Frequency :321, F1 Score : 0.7142857313156128\n",
            "Category - Baby Care  , Frequency :305, F1 Score : 0.4926869869232178\n",
            "Category - Tools & Hardware  , Frequency :223, F1 Score : 0.6004251837730408\n",
            "Category - Toys & School Supplies  , Frequency :200, F1 Score : 0.3798469007015228\n",
            "Category - Pens & Stationery  , Frequency :185, F1 Score : 0.2529762089252472\n",
            "Category - Bags , Frequency :156, F1 Score : 0.2736111283302307\n",
            "Category - Wallets & Belts  , Frequency :150, F1 Score : 0.11428571492433548\n",
            "Category - Quilts & Dohars , Frequency :117, F1 Score : 0.0714285746216774\n",
            "Category - Furniture  , Frequency :96, F1 Score : 0.3928571045398712\n",
            "Category - Sports & Fitness  , Frequency :94, F1 Score : 0.41904762387275696\n",
            "Category - Pillows & Covers  , Frequency :55, F1 Score : 0.0892857164144516\n",
            "Category - Cameras & Accessories  , Frequency :50, F1 Score : 0.1785714328289032\n",
            "Category - Pen & Pencil boxes  , Frequency :41, F1 Score : 0.0\n",
            "Category - Home Improvement  , Frequency :35, F1 Score : 0.0744047611951828\n",
            "Category - Health & Personal Care Appliances  , Frequency :23, F1 Score : 0.0357142873108387\n",
            "Category - Plants & Vases  , Frequency :22, F1 Score : 0.0\n",
            "Category - Pet Supplies  , Frequency :21, F1 Score : 0.0357142873108387\n",
            "Category - Home & Kitchen  , Frequency :17, F1 Score : 0.0\n",
            "Category - Sunglasses  , Frequency :17, F1 Score : 0.1369047611951828\n",
            "Category - Gaming  , Frequency :15, F1 Score : 0.0714285746216774\n",
            "Category - Shorts & 3/4ths  , Frequency :9, F1 Score : 0.0\n",
            "--------------------\n"
          ],
          "name": "stdout"
        }
      ]
    },
    {
      "cell_type": "markdown",
      "metadata": {
        "id": "owGRUhCHd7ES"
      },
      "source": [
        "Before we think about looking at the test set perhaps one thing that would be useful is to look at for which categories the F1 scores are really poor ( especially the ones which have a high frequency - because this gives us an indication of perhaps why the model is failing ) \n",
        "\n",
        "One trend that we see is that Categories which have very less products ( such as Gaming, Shorts & 3/4ths, Sunglasses, etc.) seem to give incorrect predictions. This is understandable because there are very few examples for the model to even learn from.\n",
        "\n",
        "However, the model also does surprisingly poorly on certain categories with plenty of products such as Tops & Tunics, Sleep & Swimwear which have F1 scores of 0.03 and 0.02 respectively. One reason that strikes intuitively is that the model predicts these to be Clothing products ( most Swimwear products are also Clothing products ) . To gauge whether this hypothesis is true we look at the predictions that the model makes for these categories and analyse the results\n",
        "\n",
        "We look at the first 20 predictions for the Sleep & Swimwear, Tops & Tunics category "
      ]
    },
    {
      "cell_type": "markdown",
      "metadata": {
        "id": "VBYprg3s1703"
      },
      "source": [
        "#### **Deciding what other categories to remove**"
      ]
    },
    {
      "cell_type": "code",
      "metadata": {
        "id": "FFtszRU4JH5a"
      },
      "source": [
        "# Saving the previous model in drive\n",
        "torch.save(CNNmodel.state_dict(), '/content/drive/MyDrive/Colab Datasets/Flipkart eCommerce/CNNmodel1.pt')\n"
      ],
      "execution_count": 75,
      "outputs": []
    },
    {
      "cell_type": "code",
      "metadata": {
        "id": "ERr9h1J2UKKT"
      },
      "source": [
        "myModel_para = torch.load('/content/drive/MyDrive/Colab Datasets/Flipkart eCommerce/CNNmodel1.pt',map_location=torch.device('cpu'))"
      ],
      "execution_count": 32,
      "outputs": []
    },
    {
      "cell_type": "code",
      "metadata": {
        "colab": {
          "base_uri": "https://localhost:8080/"
        },
        "id": "3lDJn_54Vj12",
        "outputId": "1e6b6cbf-50e4-487e-8346-80ee02bc02bc"
      },
      "source": [
        "myModel = CNNClassify(VOCAB_SIZE, EMBEDDING_DIM, N_FILTERS, FILTER_SIZES, OUTPUT_DIM, DROPOUT, PAD_IDX)\n",
        "myModel.load_state_dict(myModel_para)\n"
      ],
      "execution_count": 33,
      "outputs": [
        {
          "output_type": "execute_result",
          "data": {
            "text/plain": [
              "<All keys matched successfully>"
            ]
          },
          "metadata": {
            "tags": []
          },
          "execution_count": 33
        }
      ]
    },
    {
      "cell_type": "code",
      "metadata": {
        "colab": {
          "base_uri": "https://localhost:8080/"
        },
        "id": "lP2b87-PmA8k",
        "outputId": "5f095e40-7cca-457b-e187-0da5e507ff91"
      },
      "source": [
        "myModel"
      ],
      "execution_count": 34,
      "outputs": [
        {
          "output_type": "execute_result",
          "data": {
            "text/plain": [
              "CNNClassify(\n",
              "  (embedding): Embedding(13066, 100)\n",
              "  (convLayers): ModuleList(\n",
              "    (0): Conv2d(1, 100, kernel_size=(2, 100), stride=(1, 1))\n",
              "    (1): Conv2d(1, 100, kernel_size=(3, 100), stride=(1, 1))\n",
              "    (2): Conv2d(1, 100, kernel_size=(4, 100), stride=(1, 1))\n",
              "    (3): Conv2d(1, 100, kernel_size=(5, 100), stride=(1, 1))\n",
              "    (4): Conv2d(1, 100, kernel_size=(6, 100), stride=(1, 1))\n",
              "  )\n",
              "  (fullyConnect): Linear(in_features=500, out_features=35, bias=True)\n",
              "  (dropout): Dropout(p=0.5, inplace=False)\n",
              ")"
            ]
          },
          "metadata": {
            "tags": []
          },
          "execution_count": 34
        }
      ]
    },
    {
      "cell_type": "code",
      "metadata": {
        "id": "erPdq83V4hpj"
      },
      "source": [
        "def get_description(desc_tensor) : \n",
        "  return \" \".join(DESCRIPTION.vocab.itos[word_num] for word_num in desc_tensor)"
      ],
      "execution_count": 35,
      "outputs": []
    },
    {
      "cell_type": "code",
      "metadata": {
        "id": "YGXs1gnNeL59"
      },
      "source": [
        "def get_wrong_predictions( categ_name, iterator, model) :\n",
        "  count = 0\n",
        "  categ_num = CATEGORY.vocab.stoi[categ_name]\n",
        "  print(f\"20 Wrong predictions of Category : {categ_name}, number : {categ_num}\")\n",
        "  \n",
        "  \n",
        "  for batch in iterator : \n",
        "    target = batch.c\n",
        "    predics = model(batch.d)\n",
        "    top_predics = predics.argmax(1,keepdim = False)\n",
        "    for i in range(len(target)) :\n",
        "      if(target[i] == categ_num  and top_predics[i] != categ_num) :\n",
        "        count = count + 1\n",
        "        print(f\"Description : {get_description(batch.d[i])}\")\n",
        "        print(f\"Actual Category : {CATEGORY.vocab.itos[target[i]]}\")\n",
        "        print(f\"Predicted Category : {CATEGORY.vocab.itos[top_predics[i]]}\")\n",
        "      if ( count > 20) :\n",
        "        break"
      ],
      "execution_count": 36,
      "outputs": []
    },
    {
      "cell_type": "code",
      "metadata": {
        "id": "XDSSf_JJo8ow"
      },
      "source": [
        "get_wrong_predictions('Tops & Tunics ',valid_iterator,myModel)"
      ],
      "execution_count": null,
      "outputs": []
    },
    {
      "cell_type": "code",
      "metadata": {
        "id": "P-qqhDlIeDuH"
      },
      "source": [
        "get_wrong_predictions('Sleep & Swimwear ',valid_iterator,myModel)"
      ],
      "execution_count": null,
      "outputs": []
    },
    {
      "cell_type": "markdown",
      "metadata": {
        "id": "a8U-6l_K9lSS"
      },
      "source": [
        "There are two observations to be made here -  the first is that in both the case of 'Sleep & Swimwear' and in the case of 'Tops & Tunics ' most of the wrong predictions come because they are predicted as clothes. \n",
        "It's important to note that these predictions aren't wrong per say - the descriptions of these products clearly suggest that almost all of them are indeed Clothing products. <br/>\n",
        "\n",
        "Given that this is the case, and that we barely achiev any accuracy for either of these categories due to most products being predicted as belonging to the Clothing Category it would be appropriate to remove these 2 categories from the dataset and then train the model(s). The other thing to point out is that a lot of the categories with less number of products which are giving poor results also need to be dropped simply because no model will be able to produce better results for these categories given how few products exist in the first place. \n",
        "A good threshold would be to look at the F1 scores, and expect that if there are less than 200 products of a certain category (the choice of 200 is arbitrary but out of 14000 products in the training set, these categories appear less than 200 times - that is around 1.5% of the total size of the dataset, which simply does not give us information to make a reasonable prediction), they are likely to produce poor results. And clearly, as we see above all categories which have less than 50 products in the training set do not produce an F1 score that is more than 0.4<br/>\n",
        "The categories that we then drop are as follows \n",
        "\n",
        "* Sleep & Swimwear\n",
        "* Tops & Tunics\n",
        "* Pillows & Covers \n",
        "* Cameras & Accessories\n",
        "* Pen & Pencil boxes\n",
        "* Home Improvement  \n",
        "* Health & Personal Care Appliances\n",
        "* Plants & Vases  \n",
        "* Pet Supplies  \n",
        "* Home & Kitchen\n",
        "* Sunglasses \n",
        "* Gaming \n",
        "* Shorts & 3/4ths\n",
        "\n",
        "It would also be useful to look at the wrong predictions of other categories which have an F1 score less than 0.5. So we do this next\n"
      ]
    },
    {
      "cell_type": "code",
      "metadata": {
        "id": "LP2Lv3wPCEo4"
      },
      "source": [
        "remove_categories = ['Sleep & Swimwear ','Tops & Tunics ','Pillows & Covers ','Cameras & Accessories ','Pen & Pencil boxes ','Home Improvement ',\n",
        "                     'Health & Personal Care Appliances ','Plants & Vases ','Pet Supplies ','Home & Kitchen ','Sunglasses ','Gaming ',\n",
        "                    'Shorts & 3/4ths ']"
      ],
      "execution_count": null,
      "outputs": []
    },
    {
      "cell_type": "code",
      "metadata": {
        "id": "IRJSHwMMpUk7"
      },
      "source": [
        "valid_F1 = torch.zeros(num_categ)\n",
        "for batch in valid_iterator:\n",
        "  predictions = myModel(batch.d)        \n",
        "  F1 = batch_F1Scores(predictions, batch.c)\n",
        "  valid_F1 += F1\n",
        "\n",
        "valid_F1 = valid_F1/len(valid_iterator)\n",
        "valid_F1\n",
        "  "
      ],
      "execution_count": null,
      "outputs": []
    },
    {
      "cell_type": "markdown",
      "metadata": {
        "id": "qobeNxiQsb5q"
      },
      "source": [
        "There are certain categories which have a decent amount of frequency ( > 50), but also seem to have relatively low F1 scores ( < 0.5). We look at these categories to determine what other issues there could be with the predictions "
      ]
    },
    {
      "cell_type": "code",
      "metadata": {
        "id": "EFfiO5mAOuvo"
      },
      "source": [
        "for categ in range(num_categ) :\n",
        "  categ_name = CATEGORY.vocab.itos[categ]\n",
        "  if(categ_name not in remove_categories and CATEGORY.vocab.freqs[categ_name] > 50 and valid_F1[categ] <= 0.5) :\n",
        "    get_wrong_predictions(categ_name,valid_iterator,myModel)\n",
        "    print(\"---------------\")"
      ],
      "execution_count": null,
      "outputs": []
    },
    {
      "cell_type": "markdown",
      "metadata": {
        "id": "3Ddn8leYs9Qk"
      },
      "source": [
        "The following categories are of interest to us based on the results they produce : \n",
        "1. Bracelets & Armlets - a lot of the wrong predictions are in fact labelled as Jewellery. And it is indeed true that Bracelets & Armlets are jewellery. So it makes sense to add this to our removed categories as well \n",
        "\n",
        "2. Quilts & Dohars - most of these are being labelled as home furnishing products which again is an understandable prediction because most Quilts & Dohars are indeed home furnishing products. So we remove these as well \n",
        "\n",
        "With respect to the other categories, there isn't necessarily a general trend of what cases the model is performing poorly on. It is most likely the case that there is just insufficient data. So we don't remove these categories from the dataset ( because some prediction is still made ). "
      ]
    },
    {
      "cell_type": "code",
      "metadata": {
        "colab": {
          "base_uri": "https://localhost:8080/"
        },
        "id": "fk9eQXWiLdqR",
        "outputId": "6a932d6e-669c-4014-8a08-a306ac8bf366"
      },
      "source": [
        "remove_categories.append('Bracelets & Armlets ')\n",
        "remove_categories.append('Quilts & Dohars ')\n"
      ],
      "execution_count": null,
      "outputs": [
        {
          "output_type": "execute_result",
          "data": {
            "text/plain": [
              "tensor(1, device='cuda:0')"
            ]
          },
          "metadata": {
            "tags": []
          },
          "execution_count": 57
        }
      ]
    },
    {
      "cell_type": "code",
      "metadata": {
        "id": "VG4JSt1avREY"
      },
      "source": [
        "train_dataset = pd.read_csv( '/content/drive/MyDrive/Colab Datasets/Flipkart eCommerce/flipkart_dataset_train.csv')\n",
        "valid_dataset = pd.read_csv( '/content/drive/MyDrive/Colab Datasets/Flipkart eCommerce/flipkart_dataset_valid.csv')\n",
        "test_dataset = pd.read_csv( '/content/drive/MyDrive/Colab Datasets/Flipkart eCommerce/flipkart_dataset_test.csv')\n",
        "for i in range(len(remove_categories)) :\n",
        "  train_dataset = train_dataset[train_dataset.primary_category != remove_categories[i]]\n",
        "  valid_dataset = valid_dataset[valid_dataset.primary_category != remove_categories[i]]\n",
        "  test_dataset = test_dataset[test_dataset.primary_category != remove_categories[i]]"
      ],
      "execution_count": 67,
      "outputs": []
    },
    {
      "cell_type": "code",
      "metadata": {
        "colab": {
          "base_uri": "https://localhost:8080/",
          "height": 519
        },
        "id": "C-m81zJCztO0",
        "outputId": "770c3c68-c20c-444a-98de-99e5fcde379f"
      },
      "source": [
        "train_dataset.reset_index(inplace = True)\n",
        "valid_dataset.reset_index(inplace = True)\n",
        "test_dataset.reset_index(inplace = True)\n",
        "\n",
        "train_dataset.drop(columns = ['index'])\n",
        "valid_dataset.drop(columns = ['index'])\n",
        "test_dataset.drop(columns = ['index'])"
      ],
      "execution_count": 73,
      "outputs": [
        {
          "output_type": "execute_result",
          "data": {
            "text/html": [
              "<div>\n",
              "<style scoped>\n",
              "    .dataframe tbody tr th:only-of-type {\n",
              "        vertical-align: middle;\n",
              "    }\n",
              "\n",
              "    .dataframe tbody tr th {\n",
              "        vertical-align: top;\n",
              "    }\n",
              "\n",
              "    .dataframe thead th {\n",
              "        text-align: right;\n",
              "    }\n",
              "</style>\n",
              "<table border=\"1\" class=\"dataframe\">\n",
              "  <thead>\n",
              "    <tr style=\"text-align: right;\">\n",
              "      <th></th>\n",
              "      <th>Unnamed: 0</th>\n",
              "      <th>product_name</th>\n",
              "      <th>brand</th>\n",
              "      <th>primary_category</th>\n",
              "      <th>description_converted</th>\n",
              "    </tr>\n",
              "  </thead>\n",
              "  <tbody>\n",
              "    <tr>\n",
              "      <th>0</th>\n",
              "      <td>16111</td>\n",
              "      <td>Kiara Backpack</td>\n",
              "      <td>NaN</td>\n",
              "      <td>Bags</td>\n",
              "      <td>kiara backpack</td>\n",
              "    </tr>\n",
              "    <tr>\n",
              "      <th>1</th>\n",
              "      <td>814</td>\n",
              "      <td>Navaksha Necktie Men's  Combo</td>\n",
              "      <td>NaN</td>\n",
              "      <td>Clothing</td>\n",
              "      <td>navaksha necktie men combo navaksha fast growi...</td>\n",
              "    </tr>\n",
              "    <tr>\n",
              "      <th>2</th>\n",
              "      <td>22728</td>\n",
              "      <td>Eaglemoss Publications Star Trek Starships Fig...</td>\n",
              "      <td>Eaglemoss Publications</td>\n",
              "      <td>Toys &amp; School Supplies</td>\n",
              "      <td>specifications eaglemoss publications star tre...</td>\n",
              "    </tr>\n",
              "    <tr>\n",
              "      <th>3</th>\n",
              "      <td>8249</td>\n",
              "      <td>Joyeria Milan Orange And White Multistrand Res...</td>\n",
              "      <td>Joyeria Milan</td>\n",
              "      <td>Jewellery</td>\n",
              "      <td>joyeria milan orange white multistrand resin n...</td>\n",
              "    </tr>\n",
              "    <tr>\n",
              "      <th>4</th>\n",
              "      <td>22859</td>\n",
              "      <td>PRINT SHAPES msi dragon logo Laptop Skin with ...</td>\n",
              "      <td>PRINT SHAPES</td>\n",
              "      <td>Computers</td>\n",
              "      <td>key print shapes msi dragon logo laptop skin m...</td>\n",
              "    </tr>\n",
              "    <tr>\n",
              "      <th>...</th>\n",
              "      <td>...</td>\n",
              "      <td>...</td>\n",
              "      <td>...</td>\n",
              "      <td>...</td>\n",
              "      <td>...</td>\n",
              "    </tr>\n",
              "    <tr>\n",
              "      <th>5118</th>\n",
              "      <td>7179</td>\n",
              "      <td>Juhi Malhotra Fabric Necklace</td>\n",
              "      <td>Juhi Malhotra</td>\n",
              "      <td>Jewellery</td>\n",
              "      <td>juhi malhotra fabric necklace juhi malhotra fa...</td>\n",
              "    </tr>\n",
              "    <tr>\n",
              "      <th>5119</th>\n",
              "      <td>11253</td>\n",
              "      <td>Akfoster Women's Leggings</td>\n",
              "      <td>NaN</td>\n",
              "      <td>Clothing</td>\n",
              "      <td>akfoster women leggings walk style well design...</td>\n",
              "    </tr>\n",
              "    <tr>\n",
              "      <th>5120</th>\n",
              "      <td>20898</td>\n",
              "      <td>Prisha India Craft m_jug015-1-prishaindia Wate...</td>\n",
              "      <td>Prisha India Craft</td>\n",
              "      <td>Kitchen &amp; Dining</td>\n",
              "      <td>key prisha india craft jug prishaindia water j...</td>\n",
              "    </tr>\n",
              "    <tr>\n",
              "      <th>5121</th>\n",
              "      <td>5668</td>\n",
              "      <td>Wink Showpiece  -  6.5 cm</td>\n",
              "      <td>Wink</td>\n",
              "      <td>Home Decor &amp; Festive Needs</td>\n",
              "      <td>wink showpiece cm wink showpiece cm best prices</td>\n",
              "    </tr>\n",
              "    <tr>\n",
              "      <th>5122</th>\n",
              "      <td>17165</td>\n",
              "      <td>Numero Uno Solid Men's Polo Neck T-Shirt</td>\n",
              "      <td>NaN</td>\n",
              "      <td>Clothing</td>\n",
              "      <td>numero uno solid men polo neck shirt red numer...</td>\n",
              "    </tr>\n",
              "  </tbody>\n",
              "</table>\n",
              "<p>5123 rows × 5 columns</p>\n",
              "</div>"
            ],
            "text/plain": [
              "      Unnamed: 0  ...                              description_converted\n",
              "0          16111  ...                                     kiara backpack\n",
              "1            814  ...  navaksha necktie men combo navaksha fast growi...\n",
              "2          22728  ...  specifications eaglemoss publications star tre...\n",
              "3           8249  ...  joyeria milan orange white multistrand resin n...\n",
              "4          22859  ...  key print shapes msi dragon logo laptop skin m...\n",
              "...          ...  ...                                                ...\n",
              "5118        7179  ...  juhi malhotra fabric necklace juhi malhotra fa...\n",
              "5119       11253  ...  akfoster women leggings walk style well design...\n",
              "5120       20898  ...  key prisha india craft jug prishaindia water j...\n",
              "5121        5668  ...    wink showpiece cm wink showpiece cm best prices\n",
              "5122       17165  ...  numero uno solid men polo neck shirt red numer...\n",
              "\n",
              "[5123 rows x 5 columns]"
            ]
          },
          "metadata": {
            "tags": []
          },
          "execution_count": 73
        }
      ]
    },
    {
      "cell_type": "code",
      "metadata": {
        "id": "Pz3YdmiKz7GS"
      },
      "source": [
        "train_dataset.to_csv('/content/drive/MyDrive/Colab Datasets/Flipkart eCommerce/train_final.csv')\n",
        "valid_dataset.to_csv('/content/drive/MyDrive/Colab Datasets/Flipkart eCommerce/valid_final.csv')\n",
        "test_dataset.to_csv('/content/drive/MyDrive/Colab Datasets/Flipkart eCommerce/test_final.csv')"
      ],
      "execution_count": 74,
      "outputs": []
    },
    {
      "cell_type": "markdown",
      "metadata": {
        "id": "dJNc-VMQ1Pxk"
      },
      "source": [
        "### **Training another model using the new dataset**"
      ]
    },
    {
      "cell_type": "code",
      "metadata": {
        "id": "YRJkrKY52tR7"
      },
      "source": [
        "tokenize = lambda x : x.split()\n",
        "DESCRIPTION2 = data.Field(sequential = True, use_vocab = True,tokenize= tokenize, lower = True)\n",
        "CATEGORY2 = data.Field(sequential = False, use_vocab= True)\n",
        "\n",
        "fields2 = {'description_converted' : ('d',DESCRIPTION2), 'primary_category' : ('c',CATEGORY2)}\n"
      ],
      "execution_count": 2,
      "outputs": []
    },
    {
      "cell_type": "code",
      "metadata": {
        "id": "As6l6qkB3eKy"
      },
      "source": [
        "train_data,valid_data, test_data = data.TabularDataset.splits( path = '/content/drive/MyDrive/Colab Datasets/Flipkart eCommerce',\n",
        "                                                                train = 'train_final.csv',\n",
        "                                                                validation = 'valid_final.csv',\n",
        "                                                                test = 'test_final.csv',\n",
        "                                                                format = 'csv',\n",
        "                                                                fields = fields2\n",
        "                                                              )"
      ],
      "execution_count": 3,
      "outputs": []
    },
    {
      "cell_type": "code",
      "metadata": {
        "id": "XR7uOICV8DQL"
      },
      "source": [
        "# To ensure reproducibility of results\n",
        "SEED = 123\n",
        "torch.manual_seed(SEED)\n",
        "torch.backends.cudnn.deterministic = True\n",
        "\n",
        "# Defining the batch size, and device ( if a GPU is available it is used otherwise we use a CPU) \n",
        "BATCH_SIZE = 64\n",
        "\n",
        "device = torch.device('cuda' if torch.cuda.is_available() else 'cpu')\n",
        "\n"
      ],
      "execution_count": 6,
      "outputs": []
    },
    {
      "cell_type": "code",
      "metadata": {
        "colab": {
          "base_uri": "https://localhost:8080/"
        },
        "id": "0MIziHrH3pQQ",
        "outputId": "eab002b4-8958-4c82-c114-d741c4dd3177"
      },
      "source": [
        "MAX_VOCAB_SIZE = 25_000\n",
        "\n",
        "DESCRIPTION2.build_vocab(train_data, \n",
        "                 max_size = MAX_VOCAB_SIZE, \n",
        "                 vectors = \"glove.6B.100d\", \n",
        "                 unk_init = torch.Tensor.normal_,\n",
        "                 min_freq = 2)\n",
        "\n",
        "CATEGORY2.build_vocab(train_data)\n"
      ],
      "execution_count": 4,
      "outputs": [
        {
          "output_type": "stream",
          "text": [
            ".vector_cache/glove.6B.zip: 862MB [02:40, 5.36MB/s]                           \n",
            " 99%|█████████▉| 397883/400000 [00:14<00:00, 27842.18it/s]"
          ],
          "name": "stderr"
        }
      ]
    },
    {
      "cell_type": "code",
      "metadata": {
        "id": "iWGQImft4yOS"
      },
      "source": [
        "train_iterator2, valid_iterator2, test_iterator2 = data.BucketIterator.splits(\n",
        "    (train_data, valid_data, test_data), \n",
        "    batch_size = BATCH_SIZE, \n",
        "    device = device,\n",
        "    sort = False)\n"
      ],
      "execution_count": 22,
      "outputs": []
    },
    {
      "cell_type": "code",
      "metadata": {
        "id": "6tK9S_6C4A7i"
      },
      "source": [
        "def batch_F1Scores2(preds,y) :\n",
        "  num_categ = len(CATEGORY2.vocab.stoi)\n",
        "  TruePositives = torch.zeros(num_categ)\n",
        "  FalseNegatives = torch.zeros(num_categ)\n",
        "  FalsePositives = torch.zeros(num_categ)\n",
        "  \n",
        "  with torch.no_grad():\n",
        "    top_predic = preds.argmax(1, keepdim = False)\n",
        "    #print(f\"Shape of top predictions : {top_predic.shape}\")\n",
        "    #print(f\"Shape of batch.c : {batch.c.shape}\")\n",
        "    for i in range(top_predic.shape[0]) :\n",
        "        if ((top_predic[i]) == (y[i])) :\n",
        "          TruePositives[top_predic[i]] = TruePositives[top_predic[i]] + 1\n",
        "        else :\n",
        "          FalseNegatives[y[i]] = FalseNegatives[y[i]] + 1\n",
        "          FalsePositives[top_predic[i]] = FalsePositives[top_predic[i]] + 1 \n",
        "    \n",
        "  Precision = (TruePositives)/(TruePositives + FalsePositives)\n",
        "  Recall = (TruePositives)/(TruePositives + FalseNegatives)\n",
        "  Precision =  torch.nan_to_num(Precision)\n",
        "  Recall = torch.nan_to_num(Recall)\n",
        "  F1Scores = 2 * Precision * Recall/(Precision + Recall)\n",
        "  F1Scores = torch.nan_to_num(F1Scores)\n",
        "  return F1Scores"
      ],
      "execution_count": 23,
      "outputs": []
    },
    {
      "cell_type": "code",
      "metadata": {
        "id": "WwVQwKhh4hHu"
      },
      "source": [
        "def train2(model, iterator, optimizer, criterion):\n",
        "    \n",
        "    epoch_loss = 0\n",
        "    epoch_F1 = torch.zeros(num_categ)\n",
        "    \n",
        "    model.train()\n",
        "    \n",
        "    for batch in iterator:\n",
        "        \n",
        "        optimizer.zero_grad()\n",
        "        \n",
        "        predictions = model(batch.d)\n",
        "        \n",
        "        loss = criterion(predictions, batch.c)\n",
        "        \n",
        "        F1 = batch_F1Scores2(predictions, batch.c)\n",
        "        \n",
        "        loss.backward()\n",
        "        \n",
        "        optimizer.step()\n",
        "        \n",
        "        epoch_loss += loss.item()\n",
        "        epoch_F1 += F1\n",
        "        \n",
        "    return epoch_loss / len(iterator), epoch_F1 / len(iterator)\n"
      ],
      "execution_count": 24,
      "outputs": []
    },
    {
      "cell_type": "code",
      "metadata": {
        "id": "5yNV-Lnm4lzp"
      },
      "source": [
        "def evaluate2(model, iterator, criterion):\n",
        "    \n",
        "    epoch_loss = 0\n",
        "    epoch_F1 = 0\n",
        "    \n",
        "    model.eval()\n",
        "    \n",
        "    with torch.no_grad():\n",
        "    \n",
        "        for batch in iterator:\n",
        "\n",
        "            predictions = model(batch.d)\n",
        "            \n",
        "            loss = criterion(predictions, batch.c)\n",
        "            \n",
        "            F1 = batch_F1Scores2(predictions, batch.c)\n",
        "\n",
        "            epoch_loss += loss.item()\n",
        "            epoch_F1 += F1\n",
        "        \n",
        "    return epoch_loss / len(iterator), epoch_F1 / len(iterator)\n"
      ],
      "execution_count": 25,
      "outputs": []
    },
    {
      "cell_type": "code",
      "metadata": {
        "id": "vqaATLjL5RJs"
      },
      "source": [
        "VOCAB_SIZE2 = len(DESCRIPTION2.vocab)\n",
        "EMBEDDING_DIM2 = 100\n",
        "N_FILTERS2 = 100\n",
        "FILTER_SIZES2 = [2,3,4]\n",
        "OUTPUT_DIM2 = len(CATEGORY2.vocab)\n",
        "DROPOUT2 = 0.5\n",
        "PAD_IDX2 = DESCRIPTION2.vocab.stoi[DESCRIPTION2.pad_token]\n",
        "\n",
        "CNNmodel2 = CNNClassify(VOCAB_SIZE2, EMBEDDING_DIM2, N_FILTERS2, FILTER_SIZES2, OUTPUT_DIM2, DROPOUT2, PAD_IDX2)\n"
      ],
      "execution_count": 26,
      "outputs": []
    },
    {
      "cell_type": "code",
      "metadata": {
        "colab": {
          "base_uri": "https://localhost:8080/"
        },
        "id": "djcvX6d68YbI",
        "outputId": "64265177-868d-40c9-e466-9fc467b8d6f7"
      },
      "source": [
        "CNNmodel2"
      ],
      "execution_count": 27,
      "outputs": [
        {
          "output_type": "execute_result",
          "data": {
            "text/plain": [
              "CNNClassify(\n",
              "  (embedding): Embedding(12519, 100)\n",
              "  (convLayers): ModuleList(\n",
              "    (0): Conv2d(1, 100, kernel_size=(2, 100), stride=(1, 1))\n",
              "    (1): Conv2d(1, 100, kernel_size=(3, 100), stride=(1, 1))\n",
              "    (2): Conv2d(1, 100, kernel_size=(4, 100), stride=(1, 1))\n",
              "  )\n",
              "  (fullyConnect): Linear(in_features=300, out_features=22, bias=True)\n",
              "  (dropout): Dropout(p=0.5, inplace=False)\n",
              ")"
            ]
          },
          "metadata": {
            "tags": []
          },
          "execution_count": 27
        }
      ]
    },
    {
      "cell_type": "code",
      "metadata": {
        "id": "6SmEocYt5xVr"
      },
      "source": [
        "CNNmodel2.embedding.weight.data.copy_(DESCRIPTION2.vocab.vectors)\n",
        "\n",
        "UNK_IDX2 = DESCRIPTION2.vocab.stoi[DESCRIPTION2.unk_token]\n",
        "\n",
        "CNNmodel2.embedding.weight.data[UNK_IDX2] = torch.zeros(EMBEDDING_DIM2)\n",
        "CNNmodel2.embedding.weight.data[PAD_IDX2] = torch.zeros(EMBEDDING_DIM2)\n",
        "\n",
        "import torch.optim as optim\n",
        "\n",
        "optimizer2 = optim.Adam(CNNmodel2.parameters(),lr = 0.01)\n",
        "criterion2 = nn.CrossEntropyLoss()\n",
        "\n",
        "CNNmodel2 = CNNmodel2.to(device)\n",
        "criterion2 = criterion2.to(device)\n"
      ],
      "execution_count": 28,
      "outputs": []
    },
    {
      "cell_type": "code",
      "metadata": {
        "colab": {
          "base_uri": "https://localhost:8080/"
        },
        "id": "PnhEDwxW8qX6",
        "outputId": "1f9be48d-49cc-4be7-f6b1-f8924b55b842"
      },
      "source": [
        "num_categ = len(CATEGORY2.vocab)\n",
        "num_categ"
      ],
      "execution_count": 29,
      "outputs": [
        {
          "output_type": "execute_result",
          "data": {
            "text/plain": [
              "22"
            ]
          },
          "metadata": {
            "tags": []
          },
          "execution_count": 29
        }
      ]
    },
    {
      "cell_type": "code",
      "metadata": {
        "colab": {
          "base_uri": "https://localhost:8080/"
        },
        "id": "A3p2HwTR6S5j",
        "outputId": "c85f400b-88bc-420b-fe01-e8843e6cef54"
      },
      "source": [
        "N_EPOCHS = 5\n",
        "\n",
        "best_valid_loss = float('inf')\n",
        "\n",
        "for epoch in range(N_EPOCHS):\n",
        "    \n",
        "    train_loss, train_F1 = train2(CNNmodel2, train_iterator2, optimizer2, criterion2)\n",
        "    valid_loss, valid_F1 = evaluate2(CNNmodel2, valid_iterator2, criterion2)\n",
        "        \n",
        "    print(f'Epoch: {epoch+1:02}')\n",
        "    print(f'\\tTrain Loss: {train_loss:.3f}')\n",
        "    print(\"Training F1 Scores\")\n",
        "    for i in range(train_F1.shape[0]) :\n",
        "      categ_name = CATEGORY2.vocab.itos[i] \n",
        "      print(f\"Category - {categ_name} , Frequency :{CATEGORY2.vocab.freqs[categ_name]}, F1 Score : {train_F1[i]}\")\n",
        "    print(\" \")\n",
        "\n",
        "    print(f'\\t Val. Loss: {valid_loss:.3f}')\n",
        "    for i in range(valid_F1.shape[0]) :\n",
        "      categ_name = CATEGORY2.vocab.itos[i] \n",
        "      print(f\"Category - {categ_name} , Frequency :{CATEGORY2.vocab.freqs[categ_name]}, F1 Score : {valid_F1[i]}\")\n",
        "    \n",
        "    print(\"--------------------\")\n"
      ],
      "execution_count": 30,
      "outputs": [
        {
          "output_type": "stream",
          "text": [
            "Epoch: 01\n",
            "\tTrain Loss: 0.669\n",
            "Training F1 Scores\n",
            "Category - <unk> , Frequency :0, F1 Score : 0.0\n",
            "Category - Clothing  , Frequency :3740, F1 Score : 0.9445942044258118\n",
            "Category - Jewellery  , Frequency :2122, F1 Score : 0.8556693196296692\n",
            "Category - Footwear  , Frequency :730, F1 Score : 0.8335614800453186\n",
            "Category - Mobiles & Accessories  , Frequency :653, F1 Score : 0.7970489859580994\n",
            "Category - Automotive  , Frequency :600, F1 Score : 0.8280924558639526\n",
            "Category - Home Decor & Festive Needs  , Frequency :558, F1 Score : 0.7379539608955383\n",
            "Category - Beauty and Personal Care  , Frequency :462, F1 Score : 0.6976960301399231\n",
            "Category - Bracelets & Armlets  , Frequency :433, F1 Score : 0.2459675520658493\n",
            "Category - Home Furnishing  , Frequency :423, F1 Score : 0.5470492243766785\n",
            "Category - Kitchen & Dining  , Frequency :396, F1 Score : 0.716639518737793\n",
            "Category - Computers  , Frequency :334, F1 Score : 0.6395015120506287\n",
            "Category - Watches  , Frequency :321, F1 Score : 0.7329115867614746\n",
            "Category - Baby Care  , Frequency :305, F1 Score : 0.46889346837997437\n",
            "Category - Tools & Hardware  , Frequency :223, F1 Score : 0.5619047284126282\n",
            "Category - Toys & School Supplies  , Frequency :200, F1 Score : 0.3238588869571686\n",
            "Category - Pens & Stationery  , Frequency :185, F1 Score : 0.2607945203781128\n",
            "Category - Bags , Frequency :156, F1 Score : 0.12410558015108109\n",
            "Category - Wallets & Belts  , Frequency :150, F1 Score : 0.09207994490861893\n",
            "Category - Quilts & Dohars , Frequency :117, F1 Score : 0.1309153437614441\n",
            "Category - Furniture  , Frequency :96, F1 Score : 0.2271157056093216\n",
            "Category - Sports & Fitness  , Frequency :94, F1 Score : 0.09291882067918777\n",
            " \n",
            "\t Val. Loss: 0.313\n",
            "Category - <unk> , Frequency :0, F1 Score : 0.0\n",
            "Category - Clothing  , Frequency :3740, F1 Score : 0.9942391514778137\n",
            "Category - Jewellery  , Frequency :2122, F1 Score : 0.8713738322257996\n",
            "Category - Footwear  , Frequency :730, F1 Score : 0.9720237851142883\n",
            "Category - Mobiles & Accessories  , Frequency :653, F1 Score : 0.9462879300117493\n",
            "Category - Automotive  , Frequency :600, F1 Score : 0.9028770327568054\n",
            "Category - Home Decor & Festive Needs  , Frequency :558, F1 Score : 0.8918049335479736\n",
            "Category - Beauty and Personal Care  , Frequency :462, F1 Score : 0.8119708895683289\n",
            "Category - Bracelets & Armlets  , Frequency :433, F1 Score : 0.5795280933380127\n",
            "Category - Home Furnishing  , Frequency :423, F1 Score : 0.7444849610328674\n",
            "Category - Kitchen & Dining  , Frequency :396, F1 Score : 0.7728173732757568\n",
            "Category - Computers  , Frequency :334, F1 Score : 0.757936418056488\n",
            "Category - Watches  , Frequency :321, F1 Score : 0.7916666865348816\n",
            "Category - Baby Care  , Frequency :305, F1 Score : 0.5970237851142883\n",
            "Category - Tools & Hardware  , Frequency :223, F1 Score : 0.6770833134651184\n",
            "Category - Toys & School Supplies  , Frequency :200, F1 Score : 0.49454358220100403\n",
            "Category - Pens & Stationery  , Frequency :185, F1 Score : 0.3270833194255829\n",
            "Category - Bags , Frequency :156, F1 Score : 0.23993057012557983\n",
            "Category - Wallets & Belts  , Frequency :150, F1 Score : 0.09375\n",
            "Category - Quilts & Dohars , Frequency :117, F1 Score : 0.0659722238779068\n",
            "Category - Furniture  , Frequency :96, F1 Score : 0.315972238779068\n",
            "Category - Sports & Fitness  , Frequency :94, F1 Score : 0.4513889253139496\n",
            "--------------------\n",
            "Epoch: 02\n",
            "\tTrain Loss: 0.417\n",
            "Training F1 Scores\n",
            "Category - <unk> , Frequency :0, F1 Score : 0.0\n",
            "Category - Clothing  , Frequency :3740, F1 Score : 0.9810303449630737\n",
            "Category - Jewellery  , Frequency :2122, F1 Score : 0.8808041214942932\n",
            "Category - Footwear  , Frequency :730, F1 Score : 0.9347257614135742\n",
            "Category - Mobiles & Accessories  , Frequency :653, F1 Score : 0.8948040008544922\n",
            "Category - Automotive  , Frequency :600, F1 Score : 0.9057607650756836\n",
            "Category - Home Decor & Festive Needs  , Frequency :558, F1 Score : 0.8759249448776245\n",
            "Category - Beauty and Personal Care  , Frequency :462, F1 Score : 0.7932100296020508\n",
            "Category - Bracelets & Armlets  , Frequency :433, F1 Score : 0.34460484981536865\n",
            "Category - Home Furnishing  , Frequency :423, F1 Score : 0.7060753107070923\n",
            "Category - Kitchen & Dining  , Frequency :396, F1 Score : 0.7718528509140015\n",
            "Category - Computers  , Frequency :334, F1 Score : 0.6930810809135437\n",
            "Category - Watches  , Frequency :321, F1 Score : 0.7789949178695679\n",
            "Category - Baby Care  , Frequency :305, F1 Score : 0.6034066081047058\n",
            "Category - Tools & Hardware  , Frequency :223, F1 Score : 0.6017600297927856\n",
            "Category - Toys & School Supplies  , Frequency :200, F1 Score : 0.5079570412635803\n",
            "Category - Pens & Stationery  , Frequency :185, F1 Score : 0.40843406319618225\n",
            "Category - Bags , Frequency :156, F1 Score : 0.17905251681804657\n",
            "Category - Wallets & Belts  , Frequency :150, F1 Score : 0.2417098730802536\n",
            "Category - Quilts & Dohars , Frequency :117, F1 Score : 0.13998271524906158\n",
            "Category - Furniture  , Frequency :96, F1 Score : 0.2887737452983856\n",
            "Category - Sports & Fitness  , Frequency :94, F1 Score : 0.2652849853038788\n",
            " \n",
            "\t Val. Loss: 0.365\n",
            "Category - <unk> , Frequency :0, F1 Score : 0.0\n",
            "Category - Clothing  , Frequency :3740, F1 Score : 0.9902336597442627\n",
            "Category - Jewellery  , Frequency :2122, F1 Score : 0.8716081976890564\n",
            "Category - Footwear  , Frequency :730, F1 Score : 0.9683200716972351\n",
            "Category - Mobiles & Accessories  , Frequency :653, F1 Score : 0.9655091166496277\n",
            "Category - Automotive  , Frequency :600, F1 Score : 0.9399471282958984\n",
            "Category - Home Decor & Festive Needs  , Frequency :558, F1 Score : 0.8990318775177002\n",
            "Category - Beauty and Personal Care  , Frequency :462, F1 Score : 0.8035383224487305\n",
            "Category - Bracelets & Armlets  , Frequency :433, F1 Score : 0.35110780596733093\n",
            "Category - Home Furnishing  , Frequency :423, F1 Score : 0.7051586508750916\n",
            "Category - Kitchen & Dining  , Frequency :396, F1 Score : 0.7652776837348938\n",
            "Category - Computers  , Frequency :334, F1 Score : 0.8275793194770813\n",
            "Category - Watches  , Frequency :321, F1 Score : 0.7874999642372131\n",
            "Category - Baby Care  , Frequency :305, F1 Score : 0.5609126687049866\n",
            "Category - Tools & Hardware  , Frequency :223, F1 Score : 0.6722223162651062\n",
            "Category - Toys & School Supplies  , Frequency :200, F1 Score : 0.43958330154418945\n",
            "Category - Pens & Stationery  , Frequency :185, F1 Score : 0.31562504172325134\n",
            "Category - Bags , Frequency :156, F1 Score : 0.2955853044986725\n",
            "Category - Wallets & Belts  , Frequency :150, F1 Score : 0.013888888992369175\n",
            "Category - Quilts & Dohars , Frequency :117, F1 Score : 0.1284722238779068\n",
            "Category - Furniture  , Frequency :96, F1 Score : 0.3749999701976776\n",
            "Category - Sports & Fitness  , Frequency :94, F1 Score : 0.4270833432674408\n",
            "--------------------\n",
            "Epoch: 03\n",
            "\tTrain Loss: 0.380\n",
            "Training F1 Scores\n",
            "Category - <unk> , Frequency :0, F1 Score : 0.0\n",
            "Category - Clothing  , Frequency :3740, F1 Score : 0.9844837188720703\n",
            "Category - Jewellery  , Frequency :2122, F1 Score : 0.868989884853363\n",
            "Category - Footwear  , Frequency :730, F1 Score : 0.9660897254943848\n",
            "Category - Mobiles & Accessories  , Frequency :653, F1 Score : 0.9411523938179016\n",
            "Category - Automotive  , Frequency :600, F1 Score : 0.9243343472480774\n",
            "Category - Home Decor & Festive Needs  , Frequency :558, F1 Score : 0.8912617564201355\n",
            "Category - Beauty and Personal Care  , Frequency :462, F1 Score : 0.8600414991378784\n",
            "Category - Bracelets & Armlets  , Frequency :433, F1 Score : 0.3358723819255829\n",
            "Category - Home Furnishing  , Frequency :423, F1 Score : 0.6914076805114746\n",
            "Category - Kitchen & Dining  , Frequency :396, F1 Score : 0.8022809028625488\n",
            "Category - Computers  , Frequency :334, F1 Score : 0.7679840922355652\n",
            "Category - Watches  , Frequency :321, F1 Score : 0.7648696303367615\n",
            "Category - Baby Care  , Frequency :305, F1 Score : 0.642696738243103\n",
            "Category - Tools & Hardware  , Frequency :223, F1 Score : 0.6731804013252258\n",
            "Category - Toys & School Supplies  , Frequency :200, F1 Score : 0.5044411420822144\n",
            "Category - Pens & Stationery  , Frequency :185, F1 Score : 0.47266221046447754\n",
            "Category - Bags , Frequency :156, F1 Score : 0.20305947959423065\n",
            "Category - Wallets & Belts  , Frequency :150, F1 Score : 0.1919688880443573\n",
            "Category - Quilts & Dohars , Frequency :117, F1 Score : 0.1787564754486084\n",
            "Category - Furniture  , Frequency :96, F1 Score : 0.365457683801651\n",
            "Category - Sports & Fitness  , Frequency :94, F1 Score : 0.2685665190219879\n",
            " \n",
            "\t Val. Loss: 0.313\n",
            "Category - <unk> , Frequency :0, F1 Score : 0.0\n",
            "Category - Clothing  , Frequency :3740, F1 Score : 0.9906782507896423\n",
            "Category - Jewellery  , Frequency :2122, F1 Score : 0.8816584944725037\n",
            "Category - Footwear  , Frequency :730, F1 Score : 0.9602091908454895\n",
            "Category - Mobiles & Accessories  , Frequency :653, F1 Score : 0.9731569290161133\n",
            "Category - Automotive  , Frequency :600, F1 Score : 0.9197751879692078\n",
            "Category - Home Decor & Festive Needs  , Frequency :558, F1 Score : 0.937244176864624\n",
            "Category - Beauty and Personal Care  , Frequency :462, F1 Score : 0.8234127163887024\n",
            "Category - Bracelets & Armlets  , Frequency :433, F1 Score : 0.22886903584003448\n",
            "Category - Home Furnishing  , Frequency :423, F1 Score : 0.6757605075836182\n",
            "Category - Kitchen & Dining  , Frequency :396, F1 Score : 0.793749988079071\n",
            "Category - Computers  , Frequency :334, F1 Score : 0.8112598061561584\n",
            "Category - Watches  , Frequency :321, F1 Score : 0.7916666865348816\n",
            "Category - Baby Care  , Frequency :305, F1 Score : 0.5334821343421936\n",
            "Category - Tools & Hardware  , Frequency :223, F1 Score : 0.6729166507720947\n",
            "Category - Toys & School Supplies  , Frequency :200, F1 Score : 0.5093749761581421\n",
            "Category - Pens & Stationery  , Frequency :185, F1 Score : 0.35396823287010193\n",
            "Category - Bags , Frequency :156, F1 Score : 0.0659722238779068\n",
            "Category - Wallets & Belts  , Frequency :150, F1 Score : 0.3200397193431854\n",
            "Category - Quilts & Dohars , Frequency :117, F1 Score : 0.28680557012557983\n",
            "Category - Furniture  , Frequency :96, F1 Score : 0.3819444179534912\n",
            "Category - Sports & Fitness  , Frequency :94, F1 Score : 0.4472222328186035\n",
            "--------------------\n",
            "Epoch: 04\n",
            "\tTrain Loss: 0.312\n",
            "Training F1 Scores\n",
            "Category - <unk> , Frequency :0, F1 Score : 0.0\n",
            "Category - Clothing  , Frequency :3740, F1 Score : 0.990917444229126\n",
            "Category - Jewellery  , Frequency :2122, F1 Score : 0.8873770833015442\n",
            "Category - Footwear  , Frequency :730, F1 Score : 0.9607413411140442\n",
            "Category - Mobiles & Accessories  , Frequency :653, F1 Score : 0.9321235418319702\n",
            "Category - Automotive  , Frequency :600, F1 Score : 0.9364524483680725\n",
            "Category - Home Decor & Festive Needs  , Frequency :558, F1 Score : 0.9136015772819519\n",
            "Category - Beauty and Personal Care  , Frequency :462, F1 Score : 0.8684532046318054\n",
            "Category - Bracelets & Armlets  , Frequency :433, F1 Score : 0.3976382613182068\n",
            "Category - Home Furnishing  , Frequency :423, F1 Score : 0.7446017861366272\n",
            "Category - Kitchen & Dining  , Frequency :396, F1 Score : 0.8394417762756348\n",
            "Category - Computers  , Frequency :334, F1 Score : 0.778090238571167\n",
            "Category - Watches  , Frequency :321, F1 Score : 0.8285056948661804\n",
            "Category - Baby Care  , Frequency :305, F1 Score : 0.6700732707977295\n",
            "Category - Tools & Hardware  , Frequency :223, F1 Score : 0.7042684555053711\n",
            "Category - Toys & School Supplies  , Frequency :200, F1 Score : 0.5308453440666199\n",
            "Category - Pens & Stationery  , Frequency :185, F1 Score : 0.4672093391418457\n",
            "Category - Bags , Frequency :156, F1 Score : 0.24136444926261902\n",
            "Category - Wallets & Belts  , Frequency :150, F1 Score : 0.23967435956001282\n",
            "Category - Quilts & Dohars , Frequency :117, F1 Score : 0.18095238506793976\n",
            "Category - Furniture  , Frequency :96, F1 Score : 0.35060450434684753\n",
            "Category - Sports & Fitness  , Frequency :94, F1 Score : 0.3195164203643799\n",
            " \n",
            "\t Val. Loss: 0.380\n",
            "Category - <unk> , Frequency :0, F1 Score : 0.0\n",
            "Category - Clothing  , Frequency :3740, F1 Score : 0.9911134839057922\n",
            "Category - Jewellery  , Frequency :2122, F1 Score : 0.8744032979011536\n",
            "Category - Footwear  , Frequency :730, F1 Score : 0.9578943848609924\n",
            "Category - Mobiles & Accessories  , Frequency :653, F1 Score : 0.9754297137260437\n",
            "Category - Automotive  , Frequency :600, F1 Score : 0.9116401672363281\n",
            "Category - Home Decor & Festive Needs  , Frequency :558, F1 Score : 0.9406986236572266\n",
            "Category - Beauty and Personal Care  , Frequency :462, F1 Score : 0.8258101940155029\n",
            "Category - Bracelets & Armlets  , Frequency :433, F1 Score : 0.46247437596321106\n",
            "Category - Home Furnishing  , Frequency :423, F1 Score : 0.705720841884613\n",
            "Category - Kitchen & Dining  , Frequency :396, F1 Score : 0.7854166030883789\n",
            "Category - Computers  , Frequency :334, F1 Score : 0.8257936835289001\n",
            "Category - Watches  , Frequency :321, F1 Score : 0.7916666865348816\n",
            "Category - Baby Care  , Frequency :305, F1 Score : 0.5412697792053223\n",
            "Category - Tools & Hardware  , Frequency :223, F1 Score : 0.7041667103767395\n",
            "Category - Toys & School Supplies  , Frequency :200, F1 Score : 0.45416656136512756\n",
            "Category - Pens & Stationery  , Frequency :185, F1 Score : 0.3368055820465088\n",
            "Category - Bags , Frequency :156, F1 Score : 0.31755954027175903\n",
            "Category - Wallets & Belts  , Frequency :150, F1 Score : 0.0416666679084301\n",
            "Category - Quilts & Dohars , Frequency :117, F1 Score : 0.02430555783212185\n",
            "Category - Furniture  , Frequency :96, F1 Score : 0.4652777910232544\n",
            "Category - Sports & Fitness  , Frequency :94, F1 Score : 0.4791666567325592\n",
            "--------------------\n",
            "Epoch: 05\n",
            "\tTrain Loss: 0.318\n",
            "Training F1 Scores\n",
            "Category - <unk> , Frequency :0, F1 Score : 0.0\n",
            "Category - Clothing  , Frequency :3740, F1 Score : 0.9949772357940674\n",
            "Category - Jewellery  , Frequency :2122, F1 Score : 0.8876902461051941\n",
            "Category - Footwear  , Frequency :730, F1 Score : 0.9603953957557678\n",
            "Category - Mobiles & Accessories  , Frequency :653, F1 Score : 0.9408637285232544\n",
            "Category - Automotive  , Frequency :600, F1 Score : 0.9471748471260071\n",
            "Category - Home Decor & Festive Needs  , Frequency :558, F1 Score : 0.8975679278373718\n",
            "Category - Beauty and Personal Care  , Frequency :462, F1 Score : 0.8458462953567505\n",
            "Category - Bracelets & Armlets  , Frequency :433, F1 Score : 0.3812006413936615\n",
            "Category - Home Furnishing  , Frequency :423, F1 Score : 0.7055227756500244\n",
            "Category - Kitchen & Dining  , Frequency :396, F1 Score : 0.7944750189781189\n",
            "Category - Computers  , Frequency :334, F1 Score : 0.7855251431465149\n",
            "Category - Watches  , Frequency :321, F1 Score : 0.801332414150238\n",
            "Category - Baby Care  , Frequency :305, F1 Score : 0.7119354009628296\n",
            "Category - Tools & Hardware  , Frequency :223, F1 Score : 0.6579159498214722\n",
            "Category - Toys & School Supplies  , Frequency :200, F1 Score : 0.534061074256897\n",
            "Category - Pens & Stationery  , Frequency :185, F1 Score : 0.4865284562110901\n",
            "Category - Bags , Frequency :156, F1 Score : 0.2386627346277237\n",
            "Category - Wallets & Belts  , Frequency :150, F1 Score : 0.22005918622016907\n",
            "Category - Quilts & Dohars , Frequency :117, F1 Score : 0.1950160264968872\n",
            "Category - Furniture  , Frequency :96, F1 Score : 0.34779176115989685\n",
            "Category - Sports & Fitness  , Frequency :94, F1 Score : 0.33056995272636414\n",
            " \n",
            "\t Val. Loss: 0.490\n",
            "Category - <unk> , Frequency :0, F1 Score : 0.0\n",
            "Category - Clothing  , Frequency :3740, F1 Score : 0.9895517826080322\n",
            "Category - Jewellery  , Frequency :2122, F1 Score : 0.8612139821052551\n",
            "Category - Footwear  , Frequency :730, F1 Score : 0.968235969543457\n",
            "Category - Mobiles & Accessories  , Frequency :653, F1 Score : 0.9603574872016907\n",
            "Category - Automotive  , Frequency :600, F1 Score : 0.8958573937416077\n",
            "Category - Home Decor & Festive Needs  , Frequency :558, F1 Score : 0.9215276837348938\n",
            "Category - Beauty and Personal Care  , Frequency :462, F1 Score : 0.8117229342460632\n",
            "Category - Bracelets & Armlets  , Frequency :433, F1 Score : 0.4696488082408905\n",
            "Category - Home Furnishing  , Frequency :423, F1 Score : 0.6938160061836243\n",
            "Category - Kitchen & Dining  , Frequency :396, F1 Score : 0.7907738089561462\n",
            "Category - Computers  , Frequency :334, F1 Score : 0.8216269612312317\n",
            "Category - Watches  , Frequency :321, F1 Score : 0.7916666865348816\n",
            "Category - Baby Care  , Frequency :305, F1 Score : 0.5650792717933655\n",
            "Category - Tools & Hardware  , Frequency :223, F1 Score : 0.6831348538398743\n",
            "Category - Toys & School Supplies  , Frequency :200, F1 Score : 0.5135416388511658\n",
            "Category - Pens & Stationery  , Frequency :185, F1 Score : 0.3400793969631195\n",
            "Category - Bags , Frequency :156, F1 Score : 0.0555555559694767\n",
            "Category - Wallets & Belts  , Frequency :150, F1 Score : 0.357142835855484\n",
            "Category - Quilts & Dohars , Frequency :117, F1 Score : 0.28611114621162415\n",
            "Category - Furniture  , Frequency :96, F1 Score : 0.4374999701976776\n",
            "Category - Sports & Fitness  , Frequency :94, F1 Score : 0.4194444417953491\n",
            "--------------------\n"
          ],
          "name": "stdout"
        }
      ]
    },
    {
      "cell_type": "code",
      "metadata": {
        "id": "6_F-p9lD8jm-"
      },
      "source": [
        "test2_loss, test2_F1 = evaluate2(CNNmodel2,test_iterator2,criterion2)"
      ],
      "execution_count": 32,
      "outputs": []
    },
    {
      "cell_type": "code",
      "metadata": {
        "colab": {
          "base_uri": "https://localhost:8080/"
        },
        "id": "rNScM3Qc9WIr",
        "outputId": "b38e1913-87a5-4727-b61e-91f2c7a2292c"
      },
      "source": [
        "for i in range(test2_F1.shape[0]) :\n",
        "      categ_name = CATEGORY2.vocab.itos[i] \n",
        "      print(f\"Category - {categ_name} , Frequency :{CATEGORY2.vocab.freqs[categ_name]}, F1 Score : {test2_F1[i]}\")\n"
      ],
      "execution_count": 33,
      "outputs": [
        {
          "output_type": "stream",
          "text": [
            "Category - <unk> , Frequency :0, F1 Score : 0.0\n",
            "Category - Clothing  , Frequency :3740, F1 Score : 0.9902947545051575\n",
            "Category - Jewellery  , Frequency :2122, F1 Score : 0.8608018159866333\n",
            "Category - Footwear  , Frequency :730, F1 Score : 0.9504746794700623\n",
            "Category - Mobiles & Accessories  , Frequency :653, F1 Score : 0.88740473985672\n",
            "Category - Automotive  , Frequency :600, F1 Score : 0.9412696957588196\n",
            "Category - Home Decor & Festive Needs  , Frequency :558, F1 Score : 0.9195479154586792\n",
            "Category - Beauty and Personal Care  , Frequency :462, F1 Score : 0.8009745478630066\n",
            "Category - Bracelets & Armlets  , Frequency :433, F1 Score : 0.5148352384567261\n",
            "Category - Home Furnishing  , Frequency :423, F1 Score : 0.6841510534286499\n",
            "Category - Kitchen & Dining  , Frequency :396, F1 Score : 0.8222614526748657\n",
            "Category - Computers  , Frequency :334, F1 Score : 0.7563982009887695\n",
            "Category - Watches  , Frequency :321, F1 Score : 0.7887517213821411\n",
            "Category - Baby Care  , Frequency :305, F1 Score : 0.5926514863967896\n",
            "Category - Tools & Hardware  , Frequency :223, F1 Score : 0.6694101691246033\n",
            "Category - Toys & School Supplies  , Frequency :200, F1 Score : 0.5869194865226746\n",
            "Category - Pens & Stationery  , Frequency :185, F1 Score : 0.4648147523403168\n",
            "Category - Bags , Frequency :156, F1 Score : 0.09547325223684311\n",
            "Category - Wallets & Belts  , Frequency :150, F1 Score : 0.4072015881538391\n",
            "Category - Quilts & Dohars , Frequency :117, F1 Score : 0.32242801785469055\n",
            "Category - Furniture  , Frequency :96, F1 Score : 0.4360963702201843\n",
            "Category - Sports & Fitness  , Frequency :94, F1 Score : 0.2732509970664978\n"
          ],
          "name": "stdout"
        }
      ]
    },
    {
      "cell_type": "markdown",
      "metadata": {
        "id": "ebiJjABW9zYX"
      },
      "source": [
        "**Conclusion**\n",
        "\n",
        "We notice that the accuracy of predictions is extremely high when the number of products is sufficient.  For categories like Furiture and Sports & Fitness because the number of products in the training set is < 100 ( around 2% of the training set ) \n",
        "For some categories like Bracelets & Armlets, Home Furnishing, etc. the F1 score still happens to be relatively less. \n",
        "The reasons for these are as follows :\n",
        " * Notice that most Bracelets & Armlets are also likely to be Jewellery items. So a lot of these predictions seem to be predicted as jewellery, which are reasonable predictions. Similarly for Home Furnishing as well, these sometimes fall under other categories ( our dataset had a single product belonging to multiple categories ) \n",
        "\n",
        "\n",
        " So the poor F1 scores are for cases where predictions to other categories are in fact correct, or in cases where there is too less data available. \n",
        " So it's fair to say that the model is performing reasonably well across categories \n",
        "\n"
      ]
    }
  ]
}